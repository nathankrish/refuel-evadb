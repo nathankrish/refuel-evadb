{
 "cells": [
  {
   "cell_type": "markdown",
   "metadata": {},
   "source": [
    "# Integrating Refuel Autolabel into EvaDB"
   ]
  },
  {
   "cell_type": "markdown",
   "metadata": {},
   "source": [
    "## 1. Setup"
   ]
  },
  {
   "cell_type": "code",
   "execution_count": 1,
   "metadata": {},
   "outputs": [
    {
     "name": "stdout",
     "output_type": "stream",
     "text": [
      "Collecting refuel-autolabel\n",
      "  Obtaining dependency information for refuel-autolabel from https://files.pythonhosted.org/packages/5c/6c/08eb43748e8b9a4af05dd10346c852f3cfb8feeb1dc66407794d2350cbf9/refuel_autolabel-0.0.16-py3-none-any.whl.metadata\n",
      "  Using cached refuel_autolabel-0.0.16-py3-none-any.whl.metadata (13 kB)\n",
      "Collecting loguru>=0.5.0 (from refuel-autolabel)\n",
      "  Obtaining dependency information for loguru>=0.5.0 from https://files.pythonhosted.org/packages/03/0a/4f6fed21aa246c6b49b561ca55facacc2a44b87d65b8b92362a8e99ba202/loguru-0.7.2-py3-none-any.whl.metadata\n",
      "  Using cached loguru-0.7.2-py3-none-any.whl.metadata (23 kB)\n",
      "Collecting numpy>=1.23.0 (from refuel-autolabel)\n",
      "  Obtaining dependency information for numpy>=1.23.0 from https://files.pythonhosted.org/packages/2e/54/218ce51bb571a70975f223671b2a86aa951e83abfd2a416a3d540f35115c/numpy-1.26.2-cp311-cp311-macosx_11_0_arm64.whl.metadata\n",
      "  Downloading numpy-1.26.2-cp311-cp311-macosx_11_0_arm64.whl.metadata (115 kB)\n",
      "\u001b[2K     \u001b[90m━━━━━━━━━━━━━━━━━━━━━━━━━━━━━━━━━━━━━━━\u001b[0m \u001b[32m115.1/115.1 kB\u001b[0m \u001b[31m4.0 MB/s\u001b[0m eta \u001b[36m0:00:00\u001b[0m\n",
      "\u001b[?25hCollecting requests>=2.27.0 (from refuel-autolabel)\n",
      "  Obtaining dependency information for requests>=2.27.0 from https://files.pythonhosted.org/packages/70/8e/0e2d847013cb52cd35b38c009bb167a1a26b2ce6cd6965bf26b47bc0bf44/requests-2.31.0-py3-none-any.whl.metadata\n",
      "  Using cached requests-2.31.0-py3-none-any.whl.metadata (4.6 kB)\n",
      "Collecting datasets>=2.7.0 (from refuel-autolabel)\n",
      "  Obtaining dependency information for datasets>=2.7.0 from https://files.pythonhosted.org/packages/e2/cf/db41e572d7ed958e8679018f8190438ef700aeb501b62da9e1eed9e4d69a/datasets-2.15.0-py3-none-any.whl.metadata\n",
      "  Downloading datasets-2.15.0-py3-none-any.whl.metadata (20 kB)\n",
      "Collecting langchain==0.0.226 (from refuel-autolabel)\n",
      "  Obtaining dependency information for langchain==0.0.226 from https://files.pythonhosted.org/packages/4b/27/a5084377ba866245dd4ee81f158a6f1115c9695da3acd5f344f432fdfa7f/langchain-0.0.226-py3-none-any.whl.metadata\n",
      "  Using cached langchain-0.0.226-py3-none-any.whl.metadata (13 kB)\n",
      "Collecting nervaluate>=0.1.8 (from refuel-autolabel)\n",
      "  Using cached nervaluate-0.1.8-py3-none-any.whl (24 kB)\n",
      "Collecting pandas>=1.3.0 (from refuel-autolabel)\n",
      "  Obtaining dependency information for pandas>=1.3.0 from https://files.pythonhosted.org/packages/d6/7c/20e737300f9bec011fb79c01d8948bc38c854876aac2da2cfcdd0992b153/pandas-2.1.3-cp311-cp311-macosx_11_0_arm64.whl.metadata\n",
      "  Downloading pandas-2.1.3-cp311-cp311-macosx_11_0_arm64.whl.metadata (18 kB)\n",
      "Collecting scikit-learn>=1.0.0 (from refuel-autolabel)\n",
      "  Obtaining dependency information for scikit-learn>=1.0.0 from https://files.pythonhosted.org/packages/40/c6/2e91eefb757822e70d351e02cc38d07c137212ae7c41ac12746415b4860a/scikit_learn-1.3.2-cp311-cp311-macosx_12_0_arm64.whl.metadata\n",
      "  Downloading scikit_learn-1.3.2-cp311-cp311-macosx_12_0_arm64.whl.metadata (11 kB)\n",
      "Collecting tenacity>=8.2.2 (from refuel-autolabel)\n",
      "  Obtaining dependency information for tenacity>=8.2.2 from https://files.pythonhosted.org/packages/f4/f1/990741d5bb2487d529d20a433210ffa136a367751e454214013b441c4575/tenacity-8.2.3-py3-none-any.whl.metadata\n",
      "  Downloading tenacity-8.2.3-py3-none-any.whl.metadata (1.0 kB)\n",
      "Collecting SQLAlchemy>=2.0.19 (from refuel-autolabel)\n",
      "  Obtaining dependency information for SQLAlchemy>=2.0.19 from https://files.pythonhosted.org/packages/c7/55/d1d2ad054fb7e9188681d56df40ed81c2c198314a805b180b0ec99019da1/SQLAlchemy-2.0.23-cp311-cp311-macosx_11_0_arm64.whl.metadata\n",
      "  Using cached SQLAlchemy-2.0.23-cp311-cp311-macosx_11_0_arm64.whl.metadata (9.6 kB)\n",
      "Collecting regex>=2023.6.3 (from refuel-autolabel)\n",
      "  Obtaining dependency information for regex>=2023.6.3 from https://files.pythonhosted.org/packages/4d/d3/38b09813a32618acd437906c4d0194119e27139dbcd7486e69d58e375a27/regex-2023.10.3-cp311-cp311-macosx_11_0_arm64.whl.metadata\n",
      "  Using cached regex-2023.10.3-cp311-cp311-macosx_11_0_arm64.whl.metadata (40 kB)\n",
      "Collecting rich>=13.3.5 (from refuel-autolabel)\n",
      "  Obtaining dependency information for rich>=13.3.5 from https://files.pythonhosted.org/packages/be/be/1520178fa01eabe014b16e72a952b9f900631142ccd03dc36cf93e30c1ce/rich-13.7.0-py3-none-any.whl.metadata\n",
      "  Using cached rich-13.7.0-py3-none-any.whl.metadata (18 kB)\n",
      "Collecting scipy>=1.10.1 (from refuel-autolabel)\n",
      "  Obtaining dependency information for scipy>=1.10.1 from https://files.pythonhosted.org/packages/4b/48/20e77ddb1f473d4717a7d4d3fc8d15557f406f7708496054c59f635b7734/scipy-1.11.4-cp311-cp311-macosx_12_0_arm64.whl.metadata\n",
      "  Downloading scipy-1.11.4-cp311-cp311-macosx_12_0_arm64.whl.metadata (165 kB)\n",
      "\u001b[2K     \u001b[90m━━━━━━━━━━━━━━━━━━━━━━━━━━━━━━━━━━━━━━━\u001b[0m \u001b[32m165.4/165.4 kB\u001b[0m \u001b[31m8.3 MB/s\u001b[0m eta \u001b[36m0:00:00\u001b[0m\n",
      "\u001b[?25hCollecting pydantic>=1.10.9 (from refuel-autolabel)\n",
      "  Obtaining dependency information for pydantic>=1.10.9 from https://files.pythonhosted.org/packages/0a/2b/64066de1c4cf3d4ed623beeb3bbf3f8d0cc26661f1e7d180ec5eb66b75a5/pydantic-2.5.2-py3-none-any.whl.metadata\n",
      "  Downloading pydantic-2.5.2-py3-none-any.whl.metadata (65 kB)\n",
      "\u001b[2K     \u001b[90m━━━━━━━━━━━━━━━━━━━━━━━━━━━━━━━━━━━━━━━━\u001b[0m \u001b[32m65.2/65.2 kB\u001b[0m \u001b[31m8.4 MB/s\u001b[0m eta \u001b[36m0:00:00\u001b[0m\n",
      "\u001b[?25hCollecting torch>=1.10.0 (from refuel-autolabel)\n",
      "  Obtaining dependency information for torch>=1.10.0 from https://files.pythonhosted.org/packages/5b/46/3def5bdaae03c21a7662673e6bda1f60a046afce48e0d6319ce4542bca31/torch-2.1.1-cp311-none-macosx_11_0_arm64.whl.metadata\n",
      "  Using cached torch-2.1.1-cp311-none-macosx_11_0_arm64.whl.metadata (25 kB)\n",
      "Collecting matplotlib>=3.5.0 (from refuel-autolabel)\n",
      "  Obtaining dependency information for matplotlib>=3.5.0 from https://files.pythonhosted.org/packages/ce/25/a557ee10ac9dce1300850024707ce1850a6958f1673a9194be878b99d631/matplotlib-3.8.2-cp311-cp311-macosx_11_0_arm64.whl.metadata\n",
      "  Downloading matplotlib-3.8.2-cp311-cp311-macosx_11_0_arm64.whl.metadata (5.8 kB)\n",
      "Collecting wget>=3.2 (from refuel-autolabel)\n",
      "  Using cached wget-3.2-py3-none-any.whl\n",
      "Collecting ipywidgets==8.0.6 (from refuel-autolabel)\n",
      "  Using cached ipywidgets-8.0.6-py3-none-any.whl (138 kB)\n",
      "Collecting jsonschema>=4.17.3 (from refuel-autolabel)\n",
      "  Obtaining dependency information for jsonschema>=4.17.3 from https://files.pythonhosted.org/packages/0f/ed/0058234d8dd2b1fc6beeea8eab945191a05e9d391a63202f49fe23327586/jsonschema-4.20.0-py3-none-any.whl.metadata\n",
      "  Downloading jsonschema-4.20.0-py3-none-any.whl.metadata (8.1 kB)\n",
      "Collecting tabulate>=0.9.0 (from refuel-autolabel)\n",
      "  Using cached tabulate-0.9.0-py3-none-any.whl (35 kB)\n",
      "Collecting typer[all]>=0.9.0 (from refuel-autolabel)\n",
      "  Using cached typer-0.9.0-py3-none-any.whl (45 kB)\n",
      "Collecting simple-term-menu>=1.6.1 (from refuel-autolabel)\n",
      "  Obtaining dependency information for simple-term-menu>=1.6.1 from https://files.pythonhosted.org/packages/2a/59/ab27a704c8374b097107c000835326abaadd32f84d35fe6dc2ef94c37400/simple_term_menu-1.6.3-py3-none-any.whl.metadata\n",
      "  Using cached simple_term_menu-1.6.3-py3-none-any.whl.metadata (29 kB)\n",
      "Requirement already satisfied: ipykernel>=4.5.1 in ./evadb_env/lib/python3.11/site-packages (from ipywidgets==8.0.6->refuel-autolabel) (6.26.0)\n",
      "Requirement already satisfied: ipython>=6.1.0 in ./evadb_env/lib/python3.11/site-packages (from ipywidgets==8.0.6->refuel-autolabel) (8.18.0)\n",
      "Requirement already satisfied: traitlets>=4.3.1 in ./evadb_env/lib/python3.11/site-packages (from ipywidgets==8.0.6->refuel-autolabel) (5.13.0)\n",
      "Collecting widgetsnbextension~=4.0.7 (from ipywidgets==8.0.6->refuel-autolabel)\n",
      "  Obtaining dependency information for widgetsnbextension~=4.0.7 from https://files.pythonhosted.org/packages/29/03/107d96077c4befed191f7ad1a12c7b52a8f9d2778a5836d59f9855c105f6/widgetsnbextension-4.0.9-py3-none-any.whl.metadata\n",
      "  Using cached widgetsnbextension-4.0.9-py3-none-any.whl.metadata (1.6 kB)\n",
      "Collecting jupyterlab-widgets~=3.0.7 (from ipywidgets==8.0.6->refuel-autolabel)\n",
      "  Obtaining dependency information for jupyterlab-widgets~=3.0.7 from https://files.pythonhosted.org/packages/e8/05/0ebab152288693b5ec7b339aab857362947031143b282853b4c2dd4b5b40/jupyterlab_widgets-3.0.9-py3-none-any.whl.metadata\n",
      "  Using cached jupyterlab_widgets-3.0.9-py3-none-any.whl.metadata (4.1 kB)\n",
      "Collecting PyYAML>=5.4.1 (from langchain==0.0.226->refuel-autolabel)\n",
      "  Obtaining dependency information for PyYAML>=5.4.1 from https://files.pythonhosted.org/packages/28/09/55f715ddbf95a054b764b547f617e22f1d5e45d83905660e9a088078fe67/PyYAML-6.0.1-cp311-cp311-macosx_11_0_arm64.whl.metadata\n",
      "  Downloading PyYAML-6.0.1-cp311-cp311-macosx_11_0_arm64.whl.metadata (2.1 kB)\n",
      "Collecting aiohttp<4.0.0,>=3.8.3 (from langchain==0.0.226->refuel-autolabel)\n",
      "  Obtaining dependency information for aiohttp<4.0.0,>=3.8.3 from https://files.pythonhosted.org/packages/c0/c3/3491f4a4b54798415f9a3bf69f2be2f2edaf2aaa5d2b0171b4420feaf45b/aiohttp-3.9.0-cp311-cp311-macosx_11_0_arm64.whl.metadata\n",
      "  Downloading aiohttp-3.9.0-cp311-cp311-macosx_11_0_arm64.whl.metadata (7.4 kB)\n",
      "Collecting dataclasses-json<0.6.0,>=0.5.7 (from langchain==0.0.226->refuel-autolabel)\n",
      "  Obtaining dependency information for dataclasses-json<0.6.0,>=0.5.7 from https://files.pythonhosted.org/packages/97/5f/e7cc90f36152810cab08b6c9c1125e8bcb9d76f8b3018d101b5f877b386c/dataclasses_json-0.5.14-py3-none-any.whl.metadata\n",
      "  Using cached dataclasses_json-0.5.14-py3-none-any.whl.metadata (22 kB)\n",
      "Collecting langchainplus-sdk<0.0.21,>=0.0.20 (from langchain==0.0.226->refuel-autolabel)\n",
      "  Obtaining dependency information for langchainplus-sdk<0.0.21,>=0.0.20 from https://files.pythonhosted.org/packages/ef/93/22f2d584ffa0281d51fcd8500f7c807879610ac97851f7d8eb0458165373/langchainplus_sdk-0.0.20-py3-none-any.whl.metadata\n",
      "  Using cached langchainplus_sdk-0.0.20-py3-none-any.whl.metadata (8.7 kB)\n",
      "Collecting numexpr<3.0.0,>=2.8.4 (from langchain==0.0.226->refuel-autolabel)\n",
      "  Obtaining dependency information for numexpr<3.0.0,>=2.8.4 from https://files.pythonhosted.org/packages/0a/89/1b180ac1a8e0ee81f497ff491cfe917173b0fe42b3ad77e4afdbf3d5aecc/numexpr-2.8.7-cp311-cp311-macosx_11_0_arm64.whl.metadata\n",
      "  Downloading numexpr-2.8.7-cp311-cp311-macosx_11_0_arm64.whl.metadata (8.7 kB)\n",
      "Collecting openapi-schema-pydantic<2.0,>=1.2 (from langchain==0.0.226->refuel-autolabel)\n",
      "  Using cached openapi_schema_pydantic-1.2.4-py3-none-any.whl (90 kB)\n",
      "Collecting pydantic>=1.10.9 (from refuel-autolabel)\n",
      "  Obtaining dependency information for pydantic>=1.10.9 from https://files.pythonhosted.org/packages/35/19/d579c5f85320cc3c89dfb74311084e5f552af904b3e6d2c11d383854a827/pydantic-1.10.13-cp311-cp311-macosx_11_0_arm64.whl.metadata\n",
      "  Using cached pydantic-1.10.13-cp311-cp311-macosx_11_0_arm64.whl.metadata (149 kB)\n",
      "Collecting pyarrow>=8.0.0 (from datasets>=2.7.0->refuel-autolabel)\n",
      "  Obtaining dependency information for pyarrow>=8.0.0 from https://files.pythonhosted.org/packages/58/4e/bd9bf0aaead74ba46996cf11a608894e1867e8e5f850fd7679018a117c60/pyarrow-14.0.1-cp311-cp311-macosx_11_0_arm64.whl.metadata\n",
      "  Downloading pyarrow-14.0.1-cp311-cp311-macosx_11_0_arm64.whl.metadata (3.0 kB)\n",
      "Collecting pyarrow-hotfix (from datasets>=2.7.0->refuel-autolabel)\n",
      "  Obtaining dependency information for pyarrow-hotfix from https://files.pythonhosted.org/packages/e4/f4/9ec2222f5f5f8ea04f66f184caafd991a39c8782e31f5b0266f101cb68ca/pyarrow_hotfix-0.6-py3-none-any.whl.metadata\n",
      "  Downloading pyarrow_hotfix-0.6-py3-none-any.whl.metadata (3.6 kB)\n",
      "Collecting dill<0.3.8,>=0.3.0 (from datasets>=2.7.0->refuel-autolabel)\n",
      "  Obtaining dependency information for dill<0.3.8,>=0.3.0 from https://files.pythonhosted.org/packages/f5/3a/74a29b11cf2cdfcd6ba89c0cecd70b37cd1ba7b77978ce611eb7a146a832/dill-0.3.7-py3-none-any.whl.metadata\n",
      "  Downloading dill-0.3.7-py3-none-any.whl.metadata (9.9 kB)\n",
      "Collecting tqdm>=4.62.1 (from datasets>=2.7.0->refuel-autolabel)\n",
      "  Obtaining dependency information for tqdm>=4.62.1 from https://files.pythonhosted.org/packages/00/e5/f12a80907d0884e6dff9c16d0c0114d81b8cd07dc3ae54c5e962cc83037e/tqdm-4.66.1-py3-none-any.whl.metadata\n",
      "  Using cached tqdm-4.66.1-py3-none-any.whl.metadata (57 kB)\n",
      "Collecting xxhash (from datasets>=2.7.0->refuel-autolabel)\n",
      "  Obtaining dependency information for xxhash from https://files.pythonhosted.org/packages/9c/0a/d0fd8d78c8a2c3c3b34e7a9dccf85f01bf38f32e0228d107fa3903e0981f/xxhash-3.4.1-cp311-cp311-macosx_11_0_arm64.whl.metadata\n",
      "  Downloading xxhash-3.4.1-cp311-cp311-macosx_11_0_arm64.whl.metadata (12 kB)\n",
      "Collecting multiprocess (from datasets>=2.7.0->refuel-autolabel)\n",
      "  Obtaining dependency information for multiprocess from https://files.pythonhosted.org/packages/e7/41/96ac938770ba6e7d5ae1d8c9cafebac54b413549042c6260f0d0a6ec6622/multiprocess-0.70.15-py311-none-any.whl.metadata\n",
      "  Downloading multiprocess-0.70.15-py311-none-any.whl.metadata (7.2 kB)\n",
      "Collecting fsspec[http]<=2023.10.0,>=2023.1.0 (from datasets>=2.7.0->refuel-autolabel)\n",
      "  Obtaining dependency information for fsspec[http]<=2023.10.0,>=2023.1.0 from https://files.pythonhosted.org/packages/e8/f6/3eccfb530aac90ad1301c582da228e4763f19e719ac8200752a4841b0b2d/fsspec-2023.10.0-py3-none-any.whl.metadata\n",
      "  Downloading fsspec-2023.10.0-py3-none-any.whl.metadata (6.8 kB)\n",
      "Collecting huggingface-hub>=0.18.0 (from datasets>=2.7.0->refuel-autolabel)\n",
      "  Obtaining dependency information for huggingface-hub>=0.18.0 from https://files.pythonhosted.org/packages/05/09/1945ca6ba3ad8ad6e2872ba682ce8d68c5e63c8e55458ed8ab4885709f1d/huggingface_hub-0.19.4-py3-none-any.whl.metadata\n",
      "  Downloading huggingface_hub-0.19.4-py3-none-any.whl.metadata (14 kB)\n",
      "Requirement already satisfied: packaging in ./evadb_env/lib/python3.11/site-packages (from datasets>=2.7.0->refuel-autolabel) (23.2)\n",
      "Collecting attrs>=22.2.0 (from jsonschema>=4.17.3->refuel-autolabel)\n",
      "  Using cached attrs-23.1.0-py3-none-any.whl (61 kB)\n",
      "Collecting jsonschema-specifications>=2023.03.6 (from jsonschema>=4.17.3->refuel-autolabel)\n",
      "  Obtaining dependency information for jsonschema-specifications>=2023.03.6 from https://files.pythonhosted.org/packages/20/a9/384ec45013ab883d7c2bf120f2988682986fdead973decf0bae28a4523e7/jsonschema_specifications-2023.11.1-py3-none-any.whl.metadata\n",
      "  Downloading jsonschema_specifications-2023.11.1-py3-none-any.whl.metadata (2.8 kB)\n",
      "Collecting referencing>=0.28.4 (from jsonschema>=4.17.3->refuel-autolabel)\n",
      "  Obtaining dependency information for referencing>=0.28.4 from https://files.pythonhosted.org/packages/29/c1/69342fbc8efd1aac5cda853cea771763b95d92325c4f8f83b499c07bc698/referencing-0.31.0-py3-none-any.whl.metadata\n",
      "  Downloading referencing-0.31.0-py3-none-any.whl.metadata (2.6 kB)\n",
      "Collecting rpds-py>=0.7.1 (from jsonschema>=4.17.3->refuel-autolabel)\n",
      "  Obtaining dependency information for rpds-py>=0.7.1 from https://files.pythonhosted.org/packages/24/74/b98191c31f5113b38ec43f4066220ddecd0fc9b4a4bad95ea2f0a9cbdfa3/rpds_py-0.13.1-cp311-cp311-macosx_11_0_arm64.whl.metadata\n",
      "  Downloading rpds_py-0.13.1-cp311-cp311-macosx_11_0_arm64.whl.metadata (3.7 kB)\n",
      "Collecting contourpy>=1.0.1 (from matplotlib>=3.5.0->refuel-autolabel)\n",
      "  Obtaining dependency information for contourpy>=1.0.1 from https://files.pythonhosted.org/packages/5b/ac/26fa1057f62beaa2af4c55c6ac733b114a403b746cfe0ce3dc6e4aec921a/contourpy-1.2.0-cp311-cp311-macosx_11_0_arm64.whl.metadata\n",
      "  Downloading contourpy-1.2.0-cp311-cp311-macosx_11_0_arm64.whl.metadata (5.8 kB)\n",
      "Collecting cycler>=0.10 (from matplotlib>=3.5.0->refuel-autolabel)\n",
      "  Obtaining dependency information for cycler>=0.10 from https://files.pythonhosted.org/packages/e7/05/c19819d5e3d95294a6f5947fb9b9629efb316b96de511b418c53d245aae6/cycler-0.12.1-py3-none-any.whl.metadata\n",
      "  Downloading cycler-0.12.1-py3-none-any.whl.metadata (3.8 kB)\n",
      "Collecting fonttools>=4.22.0 (from matplotlib>=3.5.0->refuel-autolabel)\n",
      "  Obtaining dependency information for fonttools>=4.22.0 from https://files.pythonhosted.org/packages/70/e5/d873fc45592bd3cd5ca8a136d91877624b55a2dcdb84c2e4edc6b683a4ef/fonttools-4.45.1-cp311-cp311-macosx_10_9_universal2.whl.metadata\n",
      "  Downloading fonttools-4.45.1-cp311-cp311-macosx_10_9_universal2.whl.metadata (155 kB)\n",
      "\u001b[2K     \u001b[90m━━━━━━━━━━━━━━━━━━━━━━━━━━━━━━━━━━━━━━\u001b[0m \u001b[32m155.2/155.2 kB\u001b[0m \u001b[31m26.3 MB/s\u001b[0m eta \u001b[36m0:00:00\u001b[0m\n",
      "\u001b[?25hCollecting kiwisolver>=1.3.1 (from matplotlib>=3.5.0->refuel-autolabel)\n",
      "  Obtaining dependency information for kiwisolver>=1.3.1 from https://files.pythonhosted.org/packages/4a/fe/23d7fa78f7c66086d196406beb1fb2eaf629dd7adc01c3453033303d17fa/kiwisolver-1.4.5-cp311-cp311-macosx_11_0_arm64.whl.metadata\n",
      "  Using cached kiwisolver-1.4.5-cp311-cp311-macosx_11_0_arm64.whl.metadata (6.4 kB)\n",
      "Collecting pillow>=8 (from matplotlib>=3.5.0->refuel-autolabel)\n",
      "  Obtaining dependency information for pillow>=8 from https://files.pythonhosted.org/packages/c3/5b/6bcfd0c2631d1ce4bb29ea597556ed2783404c5ad38635caf7b3f2b19073/Pillow-10.1.0-cp311-cp311-macosx_11_0_arm64.whl.metadata\n",
      "  Downloading Pillow-10.1.0-cp311-cp311-macosx_11_0_arm64.whl.metadata (9.5 kB)\n",
      "Collecting pyparsing>=2.3.1 (from matplotlib>=3.5.0->refuel-autolabel)\n",
      "  Obtaining dependency information for pyparsing>=2.3.1 from https://files.pythonhosted.org/packages/39/92/8486ede85fcc088f1b3dba4ce92dd29d126fd96b0008ea213167940a2475/pyparsing-3.1.1-py3-none-any.whl.metadata\n",
      "  Using cached pyparsing-3.1.1-py3-none-any.whl.metadata (5.1 kB)\n",
      "Requirement already satisfied: python-dateutil>=2.7 in ./evadb_env/lib/python3.11/site-packages (from matplotlib>=3.5.0->refuel-autolabel) (2.8.2)\n",
      "Collecting pytz>=2020.1 (from pandas>=1.3.0->refuel-autolabel)\n",
      "  Obtaining dependency information for pytz>=2020.1 from https://files.pythonhosted.org/packages/32/4d/aaf7eff5deb402fd9a24a1449a8119f00d74ae9c2efa79f8ef9994261fc2/pytz-2023.3.post1-py2.py3-none-any.whl.metadata\n",
      "  Using cached pytz-2023.3.post1-py2.py3-none-any.whl.metadata (22 kB)\n",
      "Collecting tzdata>=2022.1 (from pandas>=1.3.0->refuel-autolabel)\n",
      "  Using cached tzdata-2023.3-py2.py3-none-any.whl (341 kB)\n",
      "Collecting typing-extensions>=4.2.0 (from pydantic>=1.10.9->refuel-autolabel)\n",
      "  Obtaining dependency information for typing-extensions>=4.2.0 from https://files.pythonhosted.org/packages/24/21/7d397a4b7934ff4028987914ac1044d3b7d52712f30e2ac7a2ae5bc86dd0/typing_extensions-4.8.0-py3-none-any.whl.metadata\n",
      "  Using cached typing_extensions-4.8.0-py3-none-any.whl.metadata (3.0 kB)\n",
      "Collecting charset-normalizer<4,>=2 (from requests>=2.27.0->refuel-autolabel)\n",
      "  Obtaining dependency information for charset-normalizer<4,>=2 from https://files.pythonhosted.org/packages/dd/51/68b61b90b24ca35495956b718f35a9756ef7d3dd4b3c1508056fa98d1a1b/charset_normalizer-3.3.2-cp311-cp311-macosx_11_0_arm64.whl.metadata\n",
      "  Downloading charset_normalizer-3.3.2-cp311-cp311-macosx_11_0_arm64.whl.metadata (33 kB)\n",
      "Collecting idna<4,>=2.5 (from requests>=2.27.0->refuel-autolabel)\n",
      "  Obtaining dependency information for idna<4,>=2.5 from https://files.pythonhosted.org/packages/c2/e7/a82b05cf63a603df6e68d59ae6a68bf5064484a0718ea5033660af4b54a9/idna-3.6-py3-none-any.whl.metadata\n",
      "  Downloading idna-3.6-py3-none-any.whl.metadata (9.9 kB)\n",
      "Collecting urllib3<3,>=1.21.1 (from requests>=2.27.0->refuel-autolabel)\n",
      "  Obtaining dependency information for urllib3<3,>=1.21.1 from https://files.pythonhosted.org/packages/96/94/c31f58c7a7f470d5665935262ebd7455c7e4c7782eb525658d3dbf4b9403/urllib3-2.1.0-py3-none-any.whl.metadata\n",
      "  Downloading urllib3-2.1.0-py3-none-any.whl.metadata (6.4 kB)\n",
      "Collecting certifi>=2017.4.17 (from requests>=2.27.0->refuel-autolabel)\n",
      "  Obtaining dependency information for certifi>=2017.4.17 from https://files.pythonhosted.org/packages/64/62/428ef076be88fa93716b576e4a01f919d25968913e817077a386fcbe4f42/certifi-2023.11.17-py3-none-any.whl.metadata\n",
      "  Using cached certifi-2023.11.17-py3-none-any.whl.metadata (2.2 kB)\n",
      "Collecting markdown-it-py>=2.2.0 (from rich>=13.3.5->refuel-autolabel)\n",
      "  Obtaining dependency information for markdown-it-py>=2.2.0 from https://files.pythonhosted.org/packages/42/d7/1ec15b46af6af88f19b8e5ffea08fa375d433c998b8a7639e76935c14f1f/markdown_it_py-3.0.0-py3-none-any.whl.metadata\n",
      "  Using cached markdown_it_py-3.0.0-py3-none-any.whl.metadata (6.9 kB)\n",
      "Requirement already satisfied: pygments<3.0.0,>=2.13.0 in ./evadb_env/lib/python3.11/site-packages (from rich>=13.3.5->refuel-autolabel) (2.17.2)\n",
      "Collecting joblib>=1.1.1 (from scikit-learn>=1.0.0->refuel-autolabel)\n",
      "  Obtaining dependency information for joblib>=1.1.1 from https://files.pythonhosted.org/packages/10/40/d551139c85db202f1f384ba8bcf96aca2f329440a844f924c8a0040b6d02/joblib-1.3.2-py3-none-any.whl.metadata\n",
      "  Downloading joblib-1.3.2-py3-none-any.whl.metadata (5.4 kB)\n",
      "Collecting threadpoolctl>=2.0.0 (from scikit-learn>=1.0.0->refuel-autolabel)\n",
      "  Obtaining dependency information for threadpoolctl>=2.0.0 from https://files.pythonhosted.org/packages/81/12/fd4dea011af9d69e1cad05c75f3f7202cdcbeac9b712eea58ca779a72865/threadpoolctl-3.2.0-py3-none-any.whl.metadata\n",
      "  Downloading threadpoolctl-3.2.0-py3-none-any.whl.metadata (10.0 kB)\n",
      "Collecting filelock (from torch>=1.10.0->refuel-autolabel)\n",
      "  Obtaining dependency information for filelock from https://files.pythonhosted.org/packages/81/54/84d42a0bee35edba99dee7b59a8d4970eccdd44b99fe728ed912106fc781/filelock-3.13.1-py3-none-any.whl.metadata\n",
      "  Downloading filelock-3.13.1-py3-none-any.whl.metadata (2.8 kB)\n",
      "Collecting sympy (from torch>=1.10.0->refuel-autolabel)\n",
      "  Using cached sympy-1.12-py3-none-any.whl (5.7 MB)\n",
      "Collecting networkx (from torch>=1.10.0->refuel-autolabel)\n",
      "  Obtaining dependency information for networkx from https://files.pythonhosted.org/packages/d5/f0/8fbc882ca80cf077f1b246c0e3c3465f7f415439bdea6b899f6b19f61f70/networkx-3.2.1-py3-none-any.whl.metadata\n",
      "  Downloading networkx-3.2.1-py3-none-any.whl.metadata (5.2 kB)\n",
      "Collecting jinja2 (from torch>=1.10.0->refuel-autolabel)\n",
      "  Using cached Jinja2-3.1.2-py3-none-any.whl (133 kB)\n",
      "Collecting click<9.0.0,>=7.1.1 (from typer[all]>=0.9.0->refuel-autolabel)\n",
      "  Obtaining dependency information for click<9.0.0,>=7.1.1 from https://files.pythonhosted.org/packages/00/2e/d53fa4befbf2cfa713304affc7ca780ce4fc1fd8710527771b58311a3229/click-8.1.7-py3-none-any.whl.metadata\n",
      "  Using cached click-8.1.7-py3-none-any.whl.metadata (3.0 kB)\n",
      "Collecting colorama<0.5.0,>=0.4.3 (from typer[all]>=0.9.0->refuel-autolabel)\n",
      "  Using cached colorama-0.4.6-py2.py3-none-any.whl (25 kB)\n",
      "Collecting shellingham<2.0.0,>=1.3.0 (from typer[all]>=0.9.0->refuel-autolabel)\n",
      "  Obtaining dependency information for shellingham<2.0.0,>=1.3.0 from https://files.pythonhosted.org/packages/e0/f9/0595336914c5619e5f28a1fb793285925a8cd4b432c9da0a987836c7f822/shellingham-1.5.4-py2.py3-none-any.whl.metadata\n",
      "  Using cached shellingham-1.5.4-py2.py3-none-any.whl.metadata (3.5 kB)\n",
      "Collecting multidict<7.0,>=4.5 (from aiohttp<4.0.0,>=3.8.3->langchain==0.0.226->refuel-autolabel)\n",
      "  Using cached multidict-6.0.4-cp311-cp311-macosx_11_0_arm64.whl (29 kB)\n",
      "Collecting yarl<2.0,>=1.0 (from aiohttp<4.0.0,>=3.8.3->langchain==0.0.226->refuel-autolabel)\n",
      "  Obtaining dependency information for yarl<2.0,>=1.0 from https://files.pythonhosted.org/packages/f2/ae/eaa7de48498db74aa19f4b6490821a5f91cfbae9f0561e7417fbb9b10af5/yarl-1.9.3-cp311-cp311-macosx_11_0_arm64.whl.metadata\n",
      "  Downloading yarl-1.9.3-cp311-cp311-macosx_11_0_arm64.whl.metadata (28 kB)\n",
      "Collecting frozenlist>=1.1.1 (from aiohttp<4.0.0,>=3.8.3->langchain==0.0.226->refuel-autolabel)\n",
      "  Obtaining dependency information for frozenlist>=1.1.1 from https://files.pythonhosted.org/packages/9d/8b/8ab8143541b2c5fff4189fad7853e61d30e4ec4749ebf91e1d598c4e7c57/frozenlist-1.4.0-cp311-cp311-macosx_11_0_arm64.whl.metadata\n",
      "  Using cached frozenlist-1.4.0-cp311-cp311-macosx_11_0_arm64.whl.metadata (5.2 kB)\n",
      "Collecting aiosignal>=1.1.2 (from aiohttp<4.0.0,>=3.8.3->langchain==0.0.226->refuel-autolabel)\n",
      "  Using cached aiosignal-1.3.1-py3-none-any.whl (7.6 kB)\n",
      "Collecting marshmallow<4.0.0,>=3.18.0 (from dataclasses-json<0.6.0,>=0.5.7->langchain==0.0.226->refuel-autolabel)\n",
      "  Obtaining dependency information for marshmallow<4.0.0,>=3.18.0 from https://files.pythonhosted.org/packages/ed/3c/cebfdcad015240014ff08b883d1c0c427f2ba45ae8c6572851b6ef136cad/marshmallow-3.20.1-py3-none-any.whl.metadata\n",
      "  Using cached marshmallow-3.20.1-py3-none-any.whl.metadata (7.8 kB)\n",
      "Collecting typing-inspect<1,>=0.4.0 (from dataclasses-json<0.6.0,>=0.5.7->langchain==0.0.226->refuel-autolabel)\n",
      "  Obtaining dependency information for typing-inspect<1,>=0.4.0 from https://files.pythonhosted.org/packages/65/f3/107a22063bf27bdccf2024833d3445f4eea42b2e598abfbd46f6a63b6cb0/typing_inspect-0.9.0-py3-none-any.whl.metadata\n",
      "  Using cached typing_inspect-0.9.0-py3-none-any.whl.metadata (1.5 kB)\n",
      "Requirement already satisfied: appnope in ./evadb_env/lib/python3.11/site-packages (from ipykernel>=4.5.1->ipywidgets==8.0.6->refuel-autolabel) (0.1.3)\n",
      "Requirement already satisfied: comm>=0.1.1 in ./evadb_env/lib/python3.11/site-packages (from ipykernel>=4.5.1->ipywidgets==8.0.6->refuel-autolabel) (0.2.0)\n",
      "Requirement already satisfied: debugpy>=1.6.5 in ./evadb_env/lib/python3.11/site-packages (from ipykernel>=4.5.1->ipywidgets==8.0.6->refuel-autolabel) (1.8.0)\n",
      "Requirement already satisfied: jupyter-client>=6.1.12 in ./evadb_env/lib/python3.11/site-packages (from ipykernel>=4.5.1->ipywidgets==8.0.6->refuel-autolabel) (8.6.0)\n",
      "Requirement already satisfied: jupyter-core!=5.0.*,>=4.12 in ./evadb_env/lib/python3.11/site-packages (from ipykernel>=4.5.1->ipywidgets==8.0.6->refuel-autolabel) (5.5.0)\n",
      "Requirement already satisfied: matplotlib-inline>=0.1 in ./evadb_env/lib/python3.11/site-packages (from ipykernel>=4.5.1->ipywidgets==8.0.6->refuel-autolabel) (0.1.6)\n",
      "Requirement already satisfied: nest-asyncio in ./evadb_env/lib/python3.11/site-packages (from ipykernel>=4.5.1->ipywidgets==8.0.6->refuel-autolabel) (1.5.8)\n",
      "Requirement already satisfied: psutil in ./evadb_env/lib/python3.11/site-packages (from ipykernel>=4.5.1->ipywidgets==8.0.6->refuel-autolabel) (5.9.6)\n",
      "Requirement already satisfied: pyzmq>=20 in ./evadb_env/lib/python3.11/site-packages (from ipykernel>=4.5.1->ipywidgets==8.0.6->refuel-autolabel) (25.1.1)\n",
      "Requirement already satisfied: tornado>=6.1 in ./evadb_env/lib/python3.11/site-packages (from ipykernel>=4.5.1->ipywidgets==8.0.6->refuel-autolabel) (6.3.3)\n",
      "Requirement already satisfied: decorator in ./evadb_env/lib/python3.11/site-packages (from ipython>=6.1.0->ipywidgets==8.0.6->refuel-autolabel) (5.1.1)\n",
      "Requirement already satisfied: jedi>=0.16 in ./evadb_env/lib/python3.11/site-packages (from ipython>=6.1.0->ipywidgets==8.0.6->refuel-autolabel) (0.19.1)\n",
      "Requirement already satisfied: prompt-toolkit!=3.0.37,<3.1.0,>=3.0.30 in ./evadb_env/lib/python3.11/site-packages (from ipython>=6.1.0->ipywidgets==8.0.6->refuel-autolabel) (3.0.41)\n",
      "Requirement already satisfied: stack-data in ./evadb_env/lib/python3.11/site-packages (from ipython>=6.1.0->ipywidgets==8.0.6->refuel-autolabel) (0.6.3)\n",
      "Requirement already satisfied: pexpect>4.3 in ./evadb_env/lib/python3.11/site-packages (from ipython>=6.1.0->ipywidgets==8.0.6->refuel-autolabel) (4.9.0)\n",
      "Collecting mdurl~=0.1 (from markdown-it-py>=2.2.0->rich>=13.3.5->refuel-autolabel)\n",
      "  Using cached mdurl-0.1.2-py3-none-any.whl (10.0 kB)\n",
      "Requirement already satisfied: six>=1.5 in ./evadb_env/lib/python3.11/site-packages (from python-dateutil>=2.7->matplotlib>=3.5.0->refuel-autolabel) (1.16.0)\n",
      "Collecting MarkupSafe>=2.0 (from jinja2->torch>=1.10.0->refuel-autolabel)\n",
      "  Obtaining dependency information for MarkupSafe>=2.0 from https://files.pythonhosted.org/packages/fe/09/c31503cb8150cf688c1534a7135cc39bb9092f8e0e6369ec73494d16ee0e/MarkupSafe-2.1.3-cp311-cp311-macosx_10_9_universal2.whl.metadata\n",
      "  Using cached MarkupSafe-2.1.3-cp311-cp311-macosx_10_9_universal2.whl.metadata (3.0 kB)\n",
      "Collecting mpmath>=0.19 (from sympy->torch>=1.10.0->refuel-autolabel)\n",
      "  Using cached mpmath-1.3.0-py3-none-any.whl (536 kB)\n",
      "Requirement already satisfied: parso<0.9.0,>=0.8.3 in ./evadb_env/lib/python3.11/site-packages (from jedi>=0.16->ipython>=6.1.0->ipywidgets==8.0.6->refuel-autolabel) (0.8.3)\n",
      "Requirement already satisfied: platformdirs>=2.5 in ./evadb_env/lib/python3.11/site-packages (from jupyter-core!=5.0.*,>=4.12->ipykernel>=4.5.1->ipywidgets==8.0.6->refuel-autolabel) (4.0.0)\n",
      "Requirement already satisfied: ptyprocess>=0.5 in ./evadb_env/lib/python3.11/site-packages (from pexpect>4.3->ipython>=6.1.0->ipywidgets==8.0.6->refuel-autolabel) (0.7.0)\n",
      "Requirement already satisfied: wcwidth in ./evadb_env/lib/python3.11/site-packages (from prompt-toolkit!=3.0.37,<3.1.0,>=3.0.30->ipython>=6.1.0->ipywidgets==8.0.6->refuel-autolabel) (0.2.12)\n",
      "Collecting mypy-extensions>=0.3.0 (from typing-inspect<1,>=0.4.0->dataclasses-json<0.6.0,>=0.5.7->langchain==0.0.226->refuel-autolabel)\n",
      "  Using cached mypy_extensions-1.0.0-py3-none-any.whl (4.7 kB)\n",
      "Requirement already satisfied: executing>=1.2.0 in ./evadb_env/lib/python3.11/site-packages (from stack-data->ipython>=6.1.0->ipywidgets==8.0.6->refuel-autolabel) (2.0.1)\n",
      "Requirement already satisfied: asttokens>=2.1.0 in ./evadb_env/lib/python3.11/site-packages (from stack-data->ipython>=6.1.0->ipywidgets==8.0.6->refuel-autolabel) (2.4.1)\n",
      "Requirement already satisfied: pure-eval in ./evadb_env/lib/python3.11/site-packages (from stack-data->ipython>=6.1.0->ipywidgets==8.0.6->refuel-autolabel) (0.2.2)\n",
      "Using cached refuel_autolabel-0.0.16-py3-none-any.whl (106 kB)\n",
      "Using cached langchain-0.0.226-py3-none-any.whl (1.2 MB)\n",
      "Using cached datasets-2.15.0-py3-none-any.whl (521 kB)\n",
      "Using cached jsonschema-4.20.0-py3-none-any.whl (84 kB)\n",
      "Using cached loguru-0.7.2-py3-none-any.whl (62 kB)\n",
      "Downloading matplotlib-3.8.2-cp311-cp311-macosx_11_0_arm64.whl (7.5 MB)\n",
      "\u001b[2K   \u001b[90m━━━━━━━━━━━━━━━━━━━━━━━━━━━━━━━━━━━━━━━━\u001b[0m \u001b[32m7.5/7.5 MB\u001b[0m \u001b[31m16.6 MB/s\u001b[0m eta \u001b[36m0:00:00\u001b[0m00:01\u001b[0m00:01\u001b[0m\n",
      "\u001b[?25hDownloading numpy-1.26.2-cp311-cp311-macosx_11_0_arm64.whl (14.0 MB)\n",
      "\u001b[2K   \u001b[90m━━━━━━━━━━━━━━━━━━━━━━━━━━━━━━━━━━━━━━━━\u001b[0m \u001b[32m14.0/14.0 MB\u001b[0m \u001b[31m26.3 MB/s\u001b[0m eta \u001b[36m0:00:00\u001b[0m00:01\u001b[0m00:01\u001b[0m\n",
      "\u001b[?25hDownloading pandas-2.1.3-cp311-cp311-macosx_11_0_arm64.whl (10.8 MB)\n",
      "\u001b[2K   \u001b[90m━━━━━━━━━━━━━━━━━━━━━━━━━━━━━━━━━━━━━━━━\u001b[0m \u001b[32m10.8/10.8 MB\u001b[0m \u001b[31m27.9 MB/s\u001b[0m eta \u001b[36m0:00:00\u001b[0m00:01\u001b[0m00:01\u001b[0m\n",
      "\u001b[?25hUsing cached pydantic-1.10.13-cp311-cp311-macosx_11_0_arm64.whl (2.5 MB)\n",
      "Using cached regex-2023.10.3-cp311-cp311-macosx_11_0_arm64.whl (291 kB)\n",
      "Using cached requests-2.31.0-py3-none-any.whl (62 kB)\n",
      "Using cached rich-13.7.0-py3-none-any.whl (240 kB)\n",
      "Downloading scikit_learn-1.3.2-cp311-cp311-macosx_12_0_arm64.whl (9.4 MB)\n",
      "\u001b[2K   \u001b[90m━━━━━━━━━━━━━━━━━━━━━━━━━━━━━━━━━━━━━━━━\u001b[0m \u001b[32m9.4/9.4 MB\u001b[0m \u001b[31m33.0 MB/s\u001b[0m eta \u001b[36m0:00:00\u001b[0ma \u001b[36m0:00:01\u001b[0mm\n",
      "\u001b[?25hDownloading scipy-1.11.4-cp311-cp311-macosx_12_0_arm64.whl (29.7 MB)\n",
      "\u001b[2K   \u001b[90m━━━━━━━━━━━━━━━━━━━━━━━━━━━━━━━━━━━━━━━━\u001b[0m \u001b[32m29.7/29.7 MB\u001b[0m \u001b[31m27.4 MB/s\u001b[0m eta \u001b[36m0:00:00\u001b[0m00:01\u001b[0m00:01\u001b[0m\n",
      "\u001b[?25hUsing cached simple_term_menu-1.6.3-py3-none-any.whl (27 kB)\n",
      "Using cached SQLAlchemy-2.0.23-cp311-cp311-macosx_11_0_arm64.whl (2.1 MB)\n",
      "Using cached tenacity-8.2.3-py3-none-any.whl (24 kB)\n",
      "Using cached torch-2.1.1-cp311-none-macosx_11_0_arm64.whl (59.6 MB)\n",
      "Downloading aiohttp-3.9.0-cp311-cp311-macosx_11_0_arm64.whl (386 kB)\n",
      "\u001b[2K   \u001b[90m━━━━━━━━━━━━━━━━━━━━━━━━━━━━━━━━━━━━━━━━\u001b[0m \u001b[32m386.4/386.4 kB\u001b[0m \u001b[31m29.0 MB/s\u001b[0m eta \u001b[36m0:00:00\u001b[0m\n",
      "\u001b[?25hUsing cached certifi-2023.11.17-py3-none-any.whl (162 kB)\n",
      "Downloading charset_normalizer-3.3.2-cp311-cp311-macosx_11_0_arm64.whl (118 kB)\n",
      "\u001b[2K   \u001b[90m━━━━━━━━━━━━━━━━━━━━━━━━━━━━━━━━━━━━━━━━\u001b[0m \u001b[32m119.0/119.0 kB\u001b[0m \u001b[31m17.7 MB/s\u001b[0m eta \u001b[36m0:00:00\u001b[0m\n",
      "\u001b[?25hUsing cached click-8.1.7-py3-none-any.whl (97 kB)\n",
      "Downloading contourpy-1.2.0-cp311-cp311-macosx_11_0_arm64.whl (243 kB)\n",
      "\u001b[2K   \u001b[90m━━━━━━━━━━━━━━━━━━━━━━━━━━━━━━━━━━━━━━━━\u001b[0m \u001b[32m243.4/243.4 kB\u001b[0m \u001b[31m33.6 MB/s\u001b[0m eta \u001b[36m0:00:00\u001b[0m\n",
      "\u001b[?25hUsing cached cycler-0.12.1-py3-none-any.whl (8.3 kB)\n",
      "Using cached dataclasses_json-0.5.14-py3-none-any.whl (26 kB)\n",
      "Using cached dill-0.3.7-py3-none-any.whl (115 kB)\n",
      "Downloading fonttools-4.45.1-cp311-cp311-macosx_10_9_universal2.whl (2.8 MB)\n",
      "\u001b[2K   \u001b[90m━━━━━━━━━━━━━━━━━━━━━━━━━━━━━━━━━━━━━━━━\u001b[0m \u001b[32m2.8/2.8 MB\u001b[0m \u001b[31m31.5 MB/s\u001b[0m eta \u001b[36m0:00:00\u001b[0ma \u001b[36m0:00:01\u001b[0m\n",
      "\u001b[?25hUsing cached huggingface_hub-0.19.4-py3-none-any.whl (311 kB)\n",
      "Using cached fsspec-2023.10.0-py3-none-any.whl (166 kB)\n",
      "Downloading idna-3.6-py3-none-any.whl (61 kB)\n",
      "\u001b[2K   \u001b[90m━━━━━━━━━━━━━━━━━━━━━━━━━━━━━━━━━━━━━━━━\u001b[0m \u001b[32m61.6/61.6 kB\u001b[0m \u001b[31m10.3 MB/s\u001b[0m eta \u001b[36m0:00:00\u001b[0m\n",
      "\u001b[?25hUsing cached joblib-1.3.2-py3-none-any.whl (302 kB)\n",
      "Using cached jsonschema_specifications-2023.11.1-py3-none-any.whl (17 kB)\n",
      "Using cached jupyterlab_widgets-3.0.9-py3-none-any.whl (214 kB)\n",
      "Using cached kiwisolver-1.4.5-cp311-cp311-macosx_11_0_arm64.whl (66 kB)\n",
      "Using cached langchainplus_sdk-0.0.20-py3-none-any.whl (25 kB)\n",
      "Using cached markdown_it_py-3.0.0-py3-none-any.whl (87 kB)\n",
      "Downloading numexpr-2.8.7-cp311-cp311-macosx_11_0_arm64.whl (91 kB)\n",
      "\u001b[2K   \u001b[90m━━━━━━━━━━━━━━━━━━━━━━━━━━━━━━━━━━━━━━━━\u001b[0m \u001b[32m91.8/91.8 kB\u001b[0m \u001b[31m12.2 MB/s\u001b[0m eta \u001b[36m0:00:00\u001b[0m\n",
      "\u001b[?25hDownloading Pillow-10.1.0-cp311-cp311-macosx_11_0_arm64.whl (3.3 MB)\n",
      "\u001b[2K   \u001b[90m━━━━━━━━━━━━━━━━━━━━━━━━━━━━━━━━━━━━━━━━\u001b[0m \u001b[32m3.3/3.3 MB\u001b[0m \u001b[31m33.9 MB/s\u001b[0m eta \u001b[36m0:00:00\u001b[0ma \u001b[36m0:00:01\u001b[0m\n",
      "\u001b[?25hDownloading pyarrow-14.0.1-cp311-cp311-macosx_11_0_arm64.whl (24.0 MB)\n",
      "\u001b[2K   \u001b[90m━━━━━━━━━━━━━━━━━━━━━━━━━━━━━━━━━━━━━━━━\u001b[0m \u001b[32m24.0/24.0 MB\u001b[0m \u001b[31m28.9 MB/s\u001b[0m eta \u001b[36m0:00:00\u001b[0m00:01\u001b[0m00:01\u001b[0m\n",
      "\u001b[?25hUsing cached pyparsing-3.1.1-py3-none-any.whl (103 kB)\n",
      "Using cached pytz-2023.3.post1-py2.py3-none-any.whl (502 kB)\n",
      "Downloading PyYAML-6.0.1-cp311-cp311-macosx_11_0_arm64.whl (167 kB)\n",
      "\u001b[2K   \u001b[90m━━━━━━━━━━━━━━━━━━━━━━━━━━━━━━━━━━━━━━━━\u001b[0m \u001b[32m167.5/167.5 kB\u001b[0m \u001b[31m24.8 MB/s\u001b[0m eta \u001b[36m0:00:00\u001b[0m\n",
      "\u001b[?25hUsing cached referencing-0.31.0-py3-none-any.whl (25 kB)\n",
      "Downloading rpds_py-0.13.1-cp311-cp311-macosx_11_0_arm64.whl (327 kB)\n",
      "\u001b[2K   \u001b[90m━━━━━━━━━━━━━━━━━━━━━━━━━━━━━━━━━━━━━━━━\u001b[0m \u001b[32m327.2/327.2 kB\u001b[0m \u001b[31m32.3 MB/s\u001b[0m eta \u001b[36m0:00:00\u001b[0m\n",
      "\u001b[?25hUsing cached shellingham-1.5.4-py2.py3-none-any.whl (9.8 kB)\n",
      "Using cached threadpoolctl-3.2.0-py3-none-any.whl (15 kB)\n",
      "Using cached tqdm-4.66.1-py3-none-any.whl (78 kB)\n",
      "Using cached typing_extensions-4.8.0-py3-none-any.whl (31 kB)\n",
      "Using cached urllib3-2.1.0-py3-none-any.whl (104 kB)\n",
      "Using cached widgetsnbextension-4.0.9-py3-none-any.whl (2.3 MB)\n",
      "Using cached filelock-3.13.1-py3-none-any.whl (11 kB)\n",
      "Downloading multiprocess-0.70.15-py311-none-any.whl (135 kB)\n",
      "\u001b[2K   \u001b[90m━━━━━━━━━━━━━━━━━━━━━━━━━━━━━━━━━━━━━━━━\u001b[0m \u001b[32m135.4/135.4 kB\u001b[0m \u001b[31m19.7 MB/s\u001b[0m eta \u001b[36m0:00:00\u001b[0m\n",
      "\u001b[?25hUsing cached networkx-3.2.1-py3-none-any.whl (1.6 MB)\n",
      "Downloading pyarrow_hotfix-0.6-py3-none-any.whl (7.9 kB)\n",
      "Downloading xxhash-3.4.1-cp311-cp311-macosx_11_0_arm64.whl (30 kB)\n",
      "Using cached frozenlist-1.4.0-cp311-cp311-macosx_11_0_arm64.whl (46 kB)\n",
      "Using cached MarkupSafe-2.1.3-cp311-cp311-macosx_10_9_universal2.whl (17 kB)\n",
      "Using cached marshmallow-3.20.1-py3-none-any.whl (49 kB)\n",
      "Using cached typing_inspect-0.9.0-py3-none-any.whl (8.8 kB)\n",
      "Downloading yarl-1.9.3-cp311-cp311-macosx_11_0_arm64.whl (80 kB)\n",
      "\u001b[2K   \u001b[90m━━━━━━━━━━━━━━━━━━━━━━━━━━━━━━━━━━━━━━━━\u001b[0m \u001b[32m80.5/80.5 kB\u001b[0m \u001b[31m8.6 MB/s\u001b[0m eta \u001b[36m0:00:00\u001b[0m\n",
      "\u001b[?25hInstalling collected packages: wget, pytz, nervaluate, mpmath, xxhash, widgetsnbextension, urllib3, tzdata, typing-extensions, tqdm, threadpoolctl, tenacity, tabulate, sympy, simple-term-menu, shellingham, rpds-py, regex, PyYAML, pyparsing, pyarrow-hotfix, pillow, numpy, networkx, mypy-extensions, multidict, mdurl, marshmallow, MarkupSafe, loguru, kiwisolver, jupyterlab-widgets, joblib, idna, fsspec, frozenlist, fonttools, filelock, dill, cycler, colorama, click, charset-normalizer, certifi, attrs, yarl, typing-inspect, typer, SQLAlchemy, scipy, requests, referencing, pydantic, pyarrow, pandas, numexpr, multiprocess, markdown-it-py, jinja2, contourpy, aiosignal, torch, scikit-learn, rich, openapi-schema-pydantic, matplotlib, langchainplus-sdk, jsonschema-specifications, huggingface-hub, dataclasses-json, aiohttp, langchain, jsonschema, ipywidgets, datasets, refuel-autolabel\n",
      "Successfully installed MarkupSafe-2.1.3 PyYAML-6.0.1 SQLAlchemy-2.0.23 aiohttp-3.9.0 aiosignal-1.3.1 attrs-23.1.0 certifi-2023.11.17 charset-normalizer-3.3.2 click-8.1.7 colorama-0.4.6 contourpy-1.2.0 cycler-0.12.1 dataclasses-json-0.5.14 datasets-2.15.0 dill-0.3.7 filelock-3.13.1 fonttools-4.45.1 frozenlist-1.4.0 fsspec-2023.10.0 huggingface-hub-0.19.4 idna-3.6 ipywidgets-8.0.6 jinja2-3.1.2 joblib-1.3.2 jsonschema-4.20.0 jsonschema-specifications-2023.11.1 jupyterlab-widgets-3.0.9 kiwisolver-1.4.5 langchain-0.0.226 langchainplus-sdk-0.0.20 loguru-0.7.2 markdown-it-py-3.0.0 marshmallow-3.20.1 matplotlib-3.8.2 mdurl-0.1.2 mpmath-1.3.0 multidict-6.0.4 multiprocess-0.70.15 mypy-extensions-1.0.0 nervaluate-0.1.8 networkx-3.2.1 numexpr-2.8.7 numpy-1.26.2 openapi-schema-pydantic-1.2.4 pandas-2.1.3 pillow-10.1.0 pyarrow-14.0.1 pyarrow-hotfix-0.6 pydantic-1.10.13 pyparsing-3.1.1 pytz-2023.3.post1 referencing-0.31.0 refuel-autolabel-0.0.16 regex-2023.10.3 requests-2.31.0 rich-13.7.0 rpds-py-0.13.1 scikit-learn-1.3.2 scipy-1.11.4 shellingham-1.5.4 simple-term-menu-1.6.3 sympy-1.12 tabulate-0.9.0 tenacity-8.2.3 threadpoolctl-3.2.0 torch-2.1.1 tqdm-4.66.1 typer-0.9.0 typing-extensions-4.8.0 typing-inspect-0.9.0 tzdata-2023.3 urllib3-2.1.0 wget-3.2 widgetsnbextension-4.0.9 xxhash-3.4.1 yarl-1.9.3\n",
      "\n",
      "\u001b[1m[\u001b[0m\u001b[34;49mnotice\u001b[0m\u001b[1;39;49m]\u001b[0m\u001b[39;49m A new release of pip is available: \u001b[0m\u001b[31;49m23.2.1\u001b[0m\u001b[39;49m -> \u001b[0m\u001b[32;49m23.3.1\u001b[0m\n",
      "\u001b[1m[\u001b[0m\u001b[34;49mnotice\u001b[0m\u001b[1;39;49m]\u001b[0m\u001b[39;49m To update, run: \u001b[0m\u001b[32;49mpip install --upgrade pip\u001b[0m\n",
      "Collecting evadb\n",
      "  Obtaining dependency information for evadb from https://files.pythonhosted.org/packages/8a/5a/695a26e8f88d49df6f304a047891cb9e0186ab05ec29cb2379da5565e26a/evadb-0.3.9-py3-none-any.whl.metadata\n",
      "  Downloading evadb-0.3.9-py3-none-any.whl.metadata (20 kB)\n",
      "Collecting aenum>=2.2.0 (from evadb)\n",
      "  Obtaining dependency information for aenum>=2.2.0 from https://files.pythonhosted.org/packages/d0/fa/ca0c66b388624ba9dbbf35aab3a9f326bfdf5e56a7237fe8f1b600da6864/aenum-3.1.15-py3-none-any.whl.metadata\n",
      "  Using cached aenum-3.1.15-py3-none-any.whl.metadata (3.7 kB)\n",
      "Collecting diskcache>=5.4.0 (from evadb)\n",
      "  Obtaining dependency information for diskcache>=5.4.0 from https://files.pythonhosted.org/packages/3f/27/4570e78fc0bf5ea0ca45eb1de3818a23787af9b390c0b0a0033a1b8236f9/diskcache-5.6.3-py3-none-any.whl.metadata\n",
      "  Using cached diskcache-5.6.3-py3-none-any.whl.metadata (20 kB)\n",
      "Collecting lark>=1.0.0 (from evadb)\n",
      "  Obtaining dependency information for lark>=1.0.0 from https://files.pythonhosted.org/packages/99/ca/f3532a61dce7dd52fbd38737a12e16cdc7699697e23287eb7addfdd93e3f/lark-1.1.8-py3-none-any.whl.metadata\n",
      "  Using cached lark-1.1.8-py3-none-any.whl.metadata (1.9 kB)\n",
      "Requirement already satisfied: numpy>=1.19.5 in ./evadb_env/lib/python3.11/site-packages (from evadb) (1.26.2)\n",
      "Requirement already satisfied: pandas>=1.1.5 in ./evadb_env/lib/python3.11/site-packages (from evadb) (2.1.3)\n",
      "Requirement already satisfied: psutil in ./evadb_env/lib/python3.11/site-packages (from evadb) (5.9.6)\n",
      "Requirement already satisfied: pydantic<2 in ./evadb_env/lib/python3.11/site-packages (from evadb) (1.10.13)\n",
      "Requirement already satisfied: pyyaml>=5.1 in ./evadb_env/lib/python3.11/site-packages (from evadb) (6.0.1)\n",
      "Collecting retry>=0.9.2 (from evadb)\n",
      "  Using cached retry-0.9.2-py2.py3-none-any.whl (8.0 kB)\n",
      "Collecting sqlalchemy-utils>=0.36.6 (from evadb)\n",
      "  Using cached SQLAlchemy_Utils-0.41.1-py3-none-any.whl (92 kB)\n",
      "Requirement already satisfied: sqlalchemy>=2.0.0 in ./evadb_env/lib/python3.11/site-packages (from evadb) (2.0.23)\n",
      "Collecting thefuzz (from evadb)\n",
      "  Obtaining dependency information for thefuzz from https://files.pythonhosted.org/packages/19/7d/ca50835332895beb87e663f9a610a7e0a7335b69e31177aee87acc3db9bd/thefuzz-0.20.0-py3-none-any.whl.metadata\n",
      "  Using cached thefuzz-0.20.0-py3-none-any.whl.metadata (3.9 kB)\n",
      "Requirement already satisfied: python-dateutil>=2.8.2 in ./evadb_env/lib/python3.11/site-packages (from pandas>=1.1.5->evadb) (2.8.2)\n",
      "Requirement already satisfied: pytz>=2020.1 in ./evadb_env/lib/python3.11/site-packages (from pandas>=1.1.5->evadb) (2023.3.post1)\n",
      "Requirement already satisfied: tzdata>=2022.1 in ./evadb_env/lib/python3.11/site-packages (from pandas>=1.1.5->evadb) (2023.3)\n",
      "Requirement already satisfied: typing-extensions>=4.2.0 in ./evadb_env/lib/python3.11/site-packages (from pydantic<2->evadb) (4.8.0)\n",
      "Requirement already satisfied: decorator>=3.4.2 in ./evadb_env/lib/python3.11/site-packages (from retry>=0.9.2->evadb) (5.1.1)\n",
      "Collecting py<2.0.0,>=1.4.26 (from retry>=0.9.2->evadb)\n",
      "  Using cached py-1.11.0-py2.py3-none-any.whl (98 kB)\n",
      "Collecting rapidfuzz<4.0.0,>=3.0.0 (from thefuzz->evadb)\n",
      "  Obtaining dependency information for rapidfuzz<4.0.0,>=3.0.0 from https://files.pythonhosted.org/packages/96/50/2575ed599005822a56ecf58569e8aabdd7bb4d57046087c24c5ff0277b43/rapidfuzz-3.5.2-cp311-cp311-macosx_11_0_arm64.whl.metadata\n",
      "  Using cached rapidfuzz-3.5.2-cp311-cp311-macosx_11_0_arm64.whl.metadata (11 kB)\n",
      "Requirement already satisfied: six>=1.5 in ./evadb_env/lib/python3.11/site-packages (from python-dateutil>=2.8.2->pandas>=1.1.5->evadb) (1.16.0)\n",
      "Downloading evadb-0.3.9-py3-none-any.whl (578 kB)\n",
      "\u001b[2K   \u001b[90m━━━━━━━━━━━━━━━━━━━━━━━━━━━━━━━━━━━━━━━━\u001b[0m \u001b[32m578.7/578.7 kB\u001b[0m \u001b[31m6.7 MB/s\u001b[0m eta \u001b[36m0:00:00\u001b[0ma \u001b[36m0:00:01\u001b[0m\n",
      "\u001b[?25hUsing cached aenum-3.1.15-py3-none-any.whl (137 kB)\n",
      "Using cached diskcache-5.6.3-py3-none-any.whl (45 kB)\n",
      "Using cached lark-1.1.8-py3-none-any.whl (111 kB)\n",
      "Using cached thefuzz-0.20.0-py3-none-any.whl (15 kB)\n",
      "Using cached rapidfuzz-3.5.2-cp311-cp311-macosx_11_0_arm64.whl (1.1 MB)\n",
      "Installing collected packages: aenum, rapidfuzz, py, lark, diskcache, thefuzz, sqlalchemy-utils, retry, evadb\n",
      "Successfully installed aenum-3.1.15 diskcache-5.6.3 evadb-0.3.9 lark-1.1.8 py-1.11.0 rapidfuzz-3.5.2 retry-0.9.2 sqlalchemy-utils-0.41.1 thefuzz-0.20.0\n",
      "\n",
      "\u001b[1m[\u001b[0m\u001b[34;49mnotice\u001b[0m\u001b[1;39;49m]\u001b[0m\u001b[39;49m A new release of pip is available: \u001b[0m\u001b[31;49m23.2.1\u001b[0m\u001b[39;49m -> \u001b[0m\u001b[32;49m23.3.1\u001b[0m\n",
      "\u001b[1m[\u001b[0m\u001b[34;49mnotice\u001b[0m\u001b[1;39;49m]\u001b[0m\u001b[39;49m To update, run: \u001b[0m\u001b[32;49mpip install --upgrade pip\u001b[0m\n"
     ]
    }
   ],
   "source": [
    "!pip install 'refuel-autolabel'\n",
    "!pip install evadb"
   ]
  },
  {
   "cell_type": "code",
   "execution_count": 2,
   "metadata": {},
   "outputs": [],
   "source": [
    "import os\n",
    "import evadb\n",
    "from my_secrets import OPENAI_KEY\n",
    "# provide your own OpenAI API key here\n",
    "os.environ['OPENAI_API_KEY'] = OPENAI_KEY"
   ]
  },
  {
   "cell_type": "code",
   "execution_count": 3,
   "metadata": {},
   "outputs": [
    {
     "name": "stdout",
     "output_type": "stream",
     "text": [
      "Connected to EvaDB\n"
     ]
    }
   ],
   "source": [
    "cursor = evadb.connect().cursor()\n",
    "print(\"Connected to EvaDB\")"
   ]
  },
  {
   "cell_type": "code",
   "execution_count": 4,
   "metadata": {},
   "outputs": [],
   "source": [
    "from autolabel import get_data\n",
    "get_data('walmart_amazon')"
   ]
  },
  {
   "cell_type": "markdown",
   "metadata": {},
   "source": [
    "## 2. RefuelAutolabel Function"
   ]
  },
  {
   "cell_type": "markdown",
   "metadata": {},
   "source": [
    "### 2.1 Create Function in EvaDB"
   ]
  },
  {
   "cell_type": "markdown",
   "metadata": {},
   "source": [
    "I implemented the function which supports autolabeling via Refuel in functions/refuel_autolabel.py. The cell below simply creates the function in EvaDB using my implementation\n",
    "\n",
    "I'm supporting the following actions:\n",
    "\n",
    "- plan - plan the autolabeling task by giving a cost estimate and providing an example prompt which will be used to label an example\n",
    "- run - run the autolabeling task and insert the generated labels into the dataset\n",
    "- explain - explain the label generated for each example in the dataset\n",
    "\n",
    "In Refuel, these actions are all implemented in the LabelingAgent class. This class is the one we use to label datasets if we use Refuel's Python API"
   ]
  },
  {
   "cell_type": "code",
   "execution_count": 7,
   "metadata": {},
   "outputs": [
    {
     "name": "stderr",
     "output_type": "stream",
     "text": [
      "11-25-2023 21:11:09 WARNING[drop_object_executor:drop_object_executor.py:_handle_drop_function:0089] Function RefuelAutolabel does not exist, therefore cannot be dropped.\n",
      "2023-11-25 21:11:09 evadb.utils.logging_manager WARNING: Function RefuelAutolabel does not exist, therefore cannot be dropped.\n"
     ]
    },
    {
     "name": "stdout",
     "output_type": "stream",
     "text": [
      "Created Function\n"
     ]
    }
   ],
   "source": [
    "create_function_query = f\"\"\"CREATE FUNCTION IF NOT EXISTS RefuelAutolabel\n",
    "            IMPL  '../functions/refuel_autolabel.py';\n",
    "            \"\"\"\n",
    "cursor.query(\"DROP FUNCTION IF EXISTS RefuelAutolabel;\").execute()\n",
    "cursor.query(create_function_query).execute()\n",
    "print(\"Created Function\")"
   ]
  },
  {
   "cell_type": "markdown",
   "metadata": {},
   "source": [
    "### 2.2 Plan Autolabeling"
   ]
  },
  {
   "cell_type": "markdown",
   "metadata": {},
   "source": [
    "The following cell uses the autolabeling configuration specified by config_banking.json and the size of seed.csv to estimate the cost of labeling seed.csv. Furthermore, it gives an example of a prompt that would be generated and given to ChatGPT to perform the given autolabeling task\n",
    "\n",
    "The prompt asks the LLM to classify a complaint into one of several predetermined categories and gives the LLM several examples with which to learn from"
   ]
  },
  {
   "cell_type": "code",
   "execution_count": 8,
   "metadata": {},
   "outputs": [
    {
     "data": {
      "application/vnd.jupyter.widget-view+json": {
       "model_id": "ad2803522855439b80493791ce63e392",
       "version_major": 2,
       "version_minor": 0
      },
      "text/plain": [
       "Output()"
      ]
     },
     "metadata": {},
     "output_type": "display_data"
    },
    {
     "data": {
      "text/html": [
       "<pre style=\"white-space:pre;overflow-x:auto;line-height:normal;font-family:Menlo,'DejaVu Sans Mono',consolas,'Courier New',monospace\"></pre>\n"
      ],
      "text/plain": []
     },
     "metadata": {},
     "output_type": "display_data"
    },
    {
     "data": {
      "text/html": [
       "<pre style=\"white-space:pre;overflow-x:auto;line-height:normal;font-family:Menlo,'DejaVu Sans Mono',consolas,'Courier New',monospace\">\n",
       "</pre>\n"
      ],
      "text/plain": [
       "\n"
      ]
     },
     "metadata": {},
     "output_type": "display_data"
    },
    {
     "data": {
      "text/html": [
       "<pre style=\"white-space:pre;overflow-x:auto;line-height:normal;font-family:Menlo,'DejaVu Sans Mono',consolas,'Courier New',monospace\">┌──────────────────────────┬─────────┐\n",
       "│<span style=\"color: #800080; text-decoration-color: #800080; font-weight: bold\"> Total Estimated Cost     </span>│<span style=\"color: #008000; text-decoration-color: #008000; font-weight: bold\"> $0.5985 </span>│\n",
       "│<span style=\"color: #800080; text-decoration-color: #800080; font-weight: bold\"> Number of Examples       </span>│<span style=\"color: #008000; text-decoration-color: #008000; font-weight: bold\"> 199     </span>│\n",
       "│<span style=\"color: #800080; text-decoration-color: #800080; font-weight: bold\"> Average cost per example </span>│<span style=\"color: #008000; text-decoration-color: #008000; font-weight: bold\"> $0.003  </span>│\n",
       "└──────────────────────────┴─────────┘\n",
       "</pre>\n"
      ],
      "text/plain": [
       "┌──────────────────────────┬─────────┐\n",
       "│\u001b[1;35m \u001b[0m\u001b[1;35mTotal Estimated Cost    \u001b[0m\u001b[1;35m \u001b[0m│\u001b[1;32m \u001b[0m\u001b[1;32m$0.5985\u001b[0m\u001b[1;32m \u001b[0m│\n",
       "│\u001b[1;35m \u001b[0m\u001b[1;35mNumber of Examples      \u001b[0m\u001b[1;35m \u001b[0m│\u001b[1;32m \u001b[0m\u001b[1;32m199    \u001b[0m\u001b[1;32m \u001b[0m│\n",
       "│\u001b[1;35m \u001b[0m\u001b[1;35mAverage cost per example\u001b[0m\u001b[1;35m \u001b[0m│\u001b[1;32m \u001b[0m\u001b[1;32m$0.003 \u001b[0m\u001b[1;32m \u001b[0m│\n",
       "└──────────────────────────┴─────────┘\n"
      ]
     },
     "metadata": {},
     "output_type": "display_data"
    },
    {
     "data": {
      "text/html": [
       "<pre style=\"white-space:pre;overflow-x:auto;line-height:normal;font-family:Menlo,'DejaVu Sans Mono',consolas,'Courier New',monospace\"><span style=\"color: #00ff00; text-decoration-color: #00ff00\">───────────────────────────────────────────────── </span>Prompt Example<span style=\"color: #00ff00; text-decoration-color: #00ff00\"> ──────────────────────────────────────────────────</span>\n",
       "</pre>\n"
      ],
      "text/plain": [
       "\u001b[92m───────────────────────────────────────────────── \u001b[0mPrompt Example\u001b[92m ──────────────────────────────────────────────────\u001b[0m\n"
      ]
     },
     "metadata": {},
     "output_type": "display_data"
    },
    {
     "data": {
      "text/html": [
       "<pre style=\"white-space:pre;overflow-x:auto;line-height:normal;font-family:Menlo,'DejaVu Sans Mono',consolas,'Courier New',monospace\">You are an expert at understanding bank customers support complaints and queries.\n",
       "Your job is to correctly classify the provided input example into one of the following categories.\n",
       "Categories:\n",
       "activate_my_card\n",
       "age_limit\n",
       "apple_pay_or_google_pay\n",
       "atm_support\n",
       "automatic_top_up\n",
       "balance_not_updated_after_bank_transfer\n",
       "balance_not_updated_after_cheque_or_cash_deposit\n",
       "beneficiary_not_allowed\n",
       "cancel_transfer\n",
       "card_about_to_expire\n",
       "card_acceptance\n",
       "card_arrival\n",
       "card_delivery_estimate\n",
       "card_linking\n",
       "card_not_working\n",
       "card_payment_fee_charged\n",
       "card_payment_not_recognised\n",
       "card_payment_wrong_exchange_rate\n",
       "card_swallowed\n",
       "cash_withdrawal_charge\n",
       "cash_withdrawal_not_recognised\n",
       "change_pin\n",
       "compromised_card\n",
       "contactless_not_working\n",
       "country_support\n",
       "declined_card_payment\n",
       "declined_cash_withdrawal\n",
       "declined_transfer\n",
       "direct_debit_payment_not_recognised\n",
       "disposable_card_limits\n",
       "edit_personal_details\n",
       "exchange_charge\n",
       "exchange_rate\n",
       "exchange_via_app\n",
       "extra_charge_on_statement\n",
       "failed_transfer\n",
       "fiat_currency_support\n",
       "get_disposable_virtual_card\n",
       "get_physical_card\n",
       "getting_spare_card\n",
       "getting_virtual_card\n",
       "lost_or_stolen_card\n",
       "lost_or_stolen_phone\n",
       "order_physical_card\n",
       "passcode_forgotten\n",
       "pending_card_payment\n",
       "pending_cash_withdrawal\n",
       "pending_top_up\n",
       "pending_transfer\n",
       "pin_blocked\n",
       "receiving_money\n",
       "Refund_not_showing_up\n",
       "request_refund\n",
       "reverted_card_payment?\n",
       "supported_cards_and_currencies\n",
       "terminate_account\n",
       "top_up_by_bank_transfer_charge\n",
       "top_up_by_card_charge\n",
       "top_up_by_cash_or_cheque\n",
       "top_up_failed\n",
       "top_up_limits\n",
       "top_up_reverted\n",
       "topping_up_by_card\n",
       "transaction_charged_twice\n",
       "transfer_fee_charged\n",
       "transfer_into_account\n",
       "transfer_not_received_by_recipient\n",
       "transfer_timing\n",
       "unable_to_verify_identity\n",
       "verify_my_identity\n",
       "verify_source_of_funds\n",
       "verify_top_up\n",
       "virtual_card_not_working\n",
       "visa_or_mastercard\n",
       "why_verify_identity\n",
       "wrong_amount_of_cash_received\n",
       "wrong_exchange_rate_for_cash_withdrawal\n",
       "\n",
       "You will answer with just the the correct output label and nothing else.\n",
       "\n",
       "Some examples with their output answers are provided below:\n",
       "\n",
       "Input: I have withdrawn cash from ATM but i received the wrong amount. I want cash back as in app its showing \n",
       "actual amount which i got. Please help me in this.\n",
       "Output: wrong_amount_of_cash_received\n",
       "Input: The app made a mistake and said I made a cash withdrawal.\n",
       "Output: cash_withdrawal_not_recognised\n",
       "Input: I tried to take out cash but the amount isn't right, so what do I do?\n",
       "Output: wrong_amount_of_cash_received\n",
       "Input: I received cash from the ATM earlier, but this shows up as pending in the app.  I've got the cash already.  \n",
       "How can this be still pending?\n",
       "Output: pending_cash_withdrawal\n",
       "Input: did not receive correct cash upon withdrawal\n",
       "Output: wrong_amount_of_cash_received\n",
       "Input: I didn't receive the right amount of cash back\n",
       "Output: wrong_amount_of_cash_received\n",
       "Input: I took out money from a transaction machine and it exchanged the wrong dollar value amount from another \n",
       "currency!\n",
       "Output: wrong_exchange_rate_for_cash_withdrawal\n",
       "Input: Why did the ATM machine fail to give me a cash withdrawal?\n",
       "Output: declined_cash_withdrawal\n",
       "Input: I checked the exchange rate when I withdrew cash. But the actual rate that you applied was different.\n",
       "Output: wrong_exchange_rate_for_cash_withdrawal\n",
       "Input: How can I withdraw money?\n",
       "Output: atm_support\n",
       "\n",
       "Now I want you to label the following example:\n",
       "Input: I have withdrawn cash from ATM but i received the wrong amount. I want cash back as in app its showing \n",
       "actual amount which i got. Please help me in this.\n",
       "Output: \n",
       "</pre>\n"
      ],
      "text/plain": [
       "You are an expert at understanding bank customers support complaints and queries.\n",
       "Your job is to correctly classify the provided input example into one of the following categories.\n",
       "Categories:\n",
       "activate_my_card\n",
       "age_limit\n",
       "apple_pay_or_google_pay\n",
       "atm_support\n",
       "automatic_top_up\n",
       "balance_not_updated_after_bank_transfer\n",
       "balance_not_updated_after_cheque_or_cash_deposit\n",
       "beneficiary_not_allowed\n",
       "cancel_transfer\n",
       "card_about_to_expire\n",
       "card_acceptance\n",
       "card_arrival\n",
       "card_delivery_estimate\n",
       "card_linking\n",
       "card_not_working\n",
       "card_payment_fee_charged\n",
       "card_payment_not_recognised\n",
       "card_payment_wrong_exchange_rate\n",
       "card_swallowed\n",
       "cash_withdrawal_charge\n",
       "cash_withdrawal_not_recognised\n",
       "change_pin\n",
       "compromised_card\n",
       "contactless_not_working\n",
       "country_support\n",
       "declined_card_payment\n",
       "declined_cash_withdrawal\n",
       "declined_transfer\n",
       "direct_debit_payment_not_recognised\n",
       "disposable_card_limits\n",
       "edit_personal_details\n",
       "exchange_charge\n",
       "exchange_rate\n",
       "exchange_via_app\n",
       "extra_charge_on_statement\n",
       "failed_transfer\n",
       "fiat_currency_support\n",
       "get_disposable_virtual_card\n",
       "get_physical_card\n",
       "getting_spare_card\n",
       "getting_virtual_card\n",
       "lost_or_stolen_card\n",
       "lost_or_stolen_phone\n",
       "order_physical_card\n",
       "passcode_forgotten\n",
       "pending_card_payment\n",
       "pending_cash_withdrawal\n",
       "pending_top_up\n",
       "pending_transfer\n",
       "pin_blocked\n",
       "receiving_money\n",
       "Refund_not_showing_up\n",
       "request_refund\n",
       "reverted_card_payment?\n",
       "supported_cards_and_currencies\n",
       "terminate_account\n",
       "top_up_by_bank_transfer_charge\n",
       "top_up_by_card_charge\n",
       "top_up_by_cash_or_cheque\n",
       "top_up_failed\n",
       "top_up_limits\n",
       "top_up_reverted\n",
       "topping_up_by_card\n",
       "transaction_charged_twice\n",
       "transfer_fee_charged\n",
       "transfer_into_account\n",
       "transfer_not_received_by_recipient\n",
       "transfer_timing\n",
       "unable_to_verify_identity\n",
       "verify_my_identity\n",
       "verify_source_of_funds\n",
       "verify_top_up\n",
       "virtual_card_not_working\n",
       "visa_or_mastercard\n",
       "why_verify_identity\n",
       "wrong_amount_of_cash_received\n",
       "wrong_exchange_rate_for_cash_withdrawal\n",
       "\n",
       "You will answer with just the the correct output label and nothing else.\n",
       "\n",
       "Some examples with their output answers are provided below:\n",
       "\n",
       "Input: I have withdrawn cash from ATM but i received the wrong amount. I want cash back as in app its showing \n",
       "actual amount which i got. Please help me in this.\n",
       "Output: wrong_amount_of_cash_received\n",
       "Input: The app made a mistake and said I made a cash withdrawal.\n",
       "Output: cash_withdrawal_not_recognised\n",
       "Input: I tried to take out cash but the amount isn't right, so what do I do?\n",
       "Output: wrong_amount_of_cash_received\n",
       "Input: I received cash from the ATM earlier, but this shows up as pending in the app.  I've got the cash already.  \n",
       "How can this be still pending?\n",
       "Output: pending_cash_withdrawal\n",
       "Input: did not receive correct cash upon withdrawal\n",
       "Output: wrong_amount_of_cash_received\n",
       "Input: I didn't receive the right amount of cash back\n",
       "Output: wrong_amount_of_cash_received\n",
       "Input: I took out money from a transaction machine and it exchanged the wrong dollar value amount from another \n",
       "currency!\n",
       "Output: wrong_exchange_rate_for_cash_withdrawal\n",
       "Input: Why did the ATM machine fail to give me a cash withdrawal?\n",
       "Output: declined_cash_withdrawal\n",
       "Input: I checked the exchange rate when I withdrew cash. But the actual rate that you applied was different.\n",
       "Output: wrong_exchange_rate_for_cash_withdrawal\n",
       "Input: How can I withdraw money?\n",
       "Output: atm_support\n",
       "\n",
       "Now I want you to label the following example:\n",
       "Input: I have withdrawn cash from ATM but i received the wrong amount. I want cash back as in app its showing \n",
       "actual amount which i got. Please help me in this.\n",
       "Output: \n"
      ]
     },
     "metadata": {},
     "output_type": "display_data"
    },
    {
     "data": {
      "text/html": [
       "<pre style=\"white-space:pre;overflow-x:auto;line-height:normal;font-family:Menlo,'DejaVu Sans Mono',consolas,'Courier New',monospace\"><span style=\"color: #00ff00; text-decoration-color: #00ff00\">───────────────────────────────────────────────────────────────────────────────────────────────────────────────────</span>\n",
       "</pre>\n"
      ],
      "text/plain": [
       "\u001b[92m───────────────────────────────────────────────────────────────────────────────────────────────────────────────────\u001b[0m\n"
      ]
     },
     "metadata": {},
     "output_type": "display_data"
    }
   ],
   "source": [
    "query= f\"\"\" SELECT RefuelAutolabel(\"plan\", '../configs/config_banking.json', 'seed.csv');\"\"\"\n",
    "result = cursor.query(query).execute()"
   ]
  },
  {
   "cell_type": "markdown",
   "metadata": {},
   "source": [
    "### 2.3 Run Autolabeling"
   ]
  },
  {
   "cell_type": "markdown",
   "metadata": {},
   "source": [
    "Simple example with no optional arguments passed"
   ]
  },
  {
   "cell_type": "code",
   "execution_count": 9,
   "metadata": {},
   "outputs": [
    {
     "data": {
      "application/vnd.jupyter.widget-view+json": {
       "model_id": "7f08623cc7ea4c33a3d025bf3c4f76ba",
       "version_major": 2,
       "version_minor": 0
      },
      "text/plain": [
       "Output()"
      ]
     },
     "metadata": {},
     "output_type": "display_data"
    },
    {
     "data": {
      "text/html": [
       "<pre style=\"white-space:pre;overflow-x:auto;line-height:normal;font-family:Menlo,'DejaVu Sans Mono',consolas,'Courier New',monospace\"></pre>\n"
      ],
      "text/plain": []
     },
     "metadata": {},
     "output_type": "display_data"
    },
    {
     "data": {
      "text/html": [
       "<pre style=\"white-space:pre;overflow-x:auto;line-height:normal;font-family:Menlo,'DejaVu Sans Mono',consolas,'Courier New',monospace\">Actual Cost: <span style=\"color: #008080; text-decoration-color: #008080; font-weight: bold\">0.0</span>\n",
       "</pre>\n"
      ],
      "text/plain": [
       "Actual Cost: \u001b[1;36m0.0\u001b[0m\n"
      ]
     },
     "metadata": {},
     "output_type": "display_data"
    },
    {
     "data": {
      "text/html": [
       "<pre style=\"white-space:pre;overflow-x:auto;line-height:normal;font-family:Menlo,'DejaVu Sans Mono',consolas,'Courier New',monospace\">┏━━━━━━━━━━┳━━━━━━━━━┳━━━━━━━━━━━━━━━━━┓\n",
       "┃<span style=\"font-weight: bold\"> accuracy </span>┃<span style=\"font-weight: bold\"> support </span>┃<span style=\"font-weight: bold\"> completion_rate </span>┃\n",
       "┡━━━━━━━━━━╇━━━━━━━━━╇━━━━━━━━━━━━━━━━━┩\n",
       "│<span style=\"color: #008080; text-decoration-color: #008080; font-weight: bold\"> 0.9648   </span>│<span style=\"color: #008080; text-decoration-color: #008080; font-weight: bold\"> 199     </span>│<span style=\"color: #008080; text-decoration-color: #008080; font-weight: bold\"> 1.0             </span>│\n",
       "└──────────┴─────────┴─────────────────┘\n",
       "</pre>\n"
      ],
      "text/plain": [
       "┏━━━━━━━━━━┳━━━━━━━━━┳━━━━━━━━━━━━━━━━━┓\n",
       "┃\u001b[1m \u001b[0m\u001b[1maccuracy\u001b[0m\u001b[1m \u001b[0m┃\u001b[1m \u001b[0m\u001b[1msupport\u001b[0m\u001b[1m \u001b[0m┃\u001b[1m \u001b[0m\u001b[1mcompletion_rate\u001b[0m\u001b[1m \u001b[0m┃\n",
       "┡━━━━━━━━━━╇━━━━━━━━━╇━━━━━━━━━━━━━━━━━┩\n",
       "│\u001b[1;36m \u001b[0m\u001b[1;36m0.9648  \u001b[0m\u001b[1;36m \u001b[0m│\u001b[1;36m \u001b[0m\u001b[1;36m199    \u001b[0m\u001b[1;36m \u001b[0m│\u001b[1;36m \u001b[0m\u001b[1;36m1.0            \u001b[0m\u001b[1;36m \u001b[0m│\n",
       "└──────────┴─────────┴─────────────────┘\n"
      ]
     },
     "metadata": {},
     "output_type": "display_data"
    }
   ],
   "source": [
    "\"\"\"\n",
    "use the function arguments to specify\n",
    "    1. the mode to execute in (plan, run, explain)\n",
    "    2. config file\n",
    "    3. dataset file\n",
    "    4. (optional) output file\n",
    "    5. (optional) max items\n",
    "    6. (optional) start index\n",
    "    7. (optional) skip eval\n",
    "\"\"\"\n",
    "\n",
    "query_with_output = f\"\"\" SELECT RefuelAutolabel(\"run\", '../configs/config_banking.json', 'seed.csv', 'output.csv');\"\"\"\n",
    "\n",
    "query= f\"\"\" SELECT RefuelAutolabel(\"run\", '../configs/config_banking.json', 'seed.csv');\"\"\"\n",
    "result = cursor.query(query).execute()"
   ]
  },
  {
   "cell_type": "markdown",
   "metadata": {},
   "source": [
    "Using all of the optional arguments to label 10 examples starting at the 1st example"
   ]
  },
  {
   "cell_type": "code",
   "execution_count": 10,
   "metadata": {},
   "outputs": [
    {
     "data": {
      "application/vnd.jupyter.widget-view+json": {
       "model_id": "7e38f244e148464fadf0cbaa645c7f9c",
       "version_major": 2,
       "version_minor": 0
      },
      "text/plain": [
       "Output()"
      ]
     },
     "metadata": {},
     "output_type": "display_data"
    },
    {
     "data": {
      "text/html": [
       "<pre style=\"white-space:pre;overflow-x:auto;line-height:normal;font-family:Menlo,'DejaVu Sans Mono',consolas,'Courier New',monospace\"></pre>\n"
      ],
      "text/plain": []
     },
     "metadata": {},
     "output_type": "display_data"
    },
    {
     "data": {
      "text/html": [
       "<pre style=\"white-space:pre;overflow-x:auto;line-height:normal;font-family:Menlo,'DejaVu Sans Mono',consolas,'Courier New',monospace\">Actual Cost: <span style=\"color: #008080; text-decoration-color: #008080; font-weight: bold\">0.0006</span>\n",
       "</pre>\n"
      ],
      "text/plain": [
       "Actual Cost: \u001b[1;36m0.0006\u001b[0m\n"
      ]
     },
     "metadata": {},
     "output_type": "display_data"
    },
    {
     "data": {
      "text/html": [
       "<pre style=\"white-space:pre;overflow-x:auto;line-height:normal;font-family:Menlo,'DejaVu Sans Mono',consolas,'Courier New',monospace\">┏━━━━━━━━━━┳━━━━━━━━━┳━━━━━━━━━━━━━━━━━┓\n",
       "┃<span style=\"font-weight: bold\"> accuracy </span>┃<span style=\"font-weight: bold\"> support </span>┃<span style=\"font-weight: bold\"> completion_rate </span>┃\n",
       "┡━━━━━━━━━━╇━━━━━━━━━╇━━━━━━━━━━━━━━━━━┩\n",
       "│<span style=\"color: #008080; text-decoration-color: #008080; font-weight: bold\"> 0.0      </span>│<span style=\"color: #008080; text-decoration-color: #008080; font-weight: bold\"> 10      </span>│<span style=\"color: #008080; text-decoration-color: #008080; font-weight: bold\"> 1.0             </span>│\n",
       "└──────────┴─────────┴─────────────────┘\n",
       "</pre>\n"
      ],
      "text/plain": [
       "┏━━━━━━━━━━┳━━━━━━━━━┳━━━━━━━━━━━━━━━━━┓\n",
       "┃\u001b[1m \u001b[0m\u001b[1maccuracy\u001b[0m\u001b[1m \u001b[0m┃\u001b[1m \u001b[0m\u001b[1msupport\u001b[0m\u001b[1m \u001b[0m┃\u001b[1m \u001b[0m\u001b[1mcompletion_rate\u001b[0m\u001b[1m \u001b[0m┃\n",
       "┡━━━━━━━━━━╇━━━━━━━━━╇━━━━━━━━━━━━━━━━━┩\n",
       "│\u001b[1;36m \u001b[0m\u001b[1;36m0.0     \u001b[0m\u001b[1;36m \u001b[0m│\u001b[1;36m \u001b[0m\u001b[1;36m10     \u001b[0m\u001b[1;36m \u001b[0m│\u001b[1;36m \u001b[0m\u001b[1;36m1.0            \u001b[0m\u001b[1;36m \u001b[0m│\n",
       "└──────────┴─────────┴─────────────────┘\n"
      ]
     },
     "metadata": {},
     "output_type": "display_data"
    }
   ],
   "source": [
    "query= f\"\"\" SELECT RefuelAutolabel(\"run\", '../configs/config_walmart.json', 'seed.csv', 'output.csv', '10', '1', 'false');\"\"\"\n",
    "result = cursor.query(query).execute()"
   ]
  },
  {
   "cell_type": "markdown",
   "metadata": {},
   "source": [
    "### 2.4 Explain Autolabeling"
   ]
  },
  {
   "cell_type": "markdown",
   "metadata": {},
   "source": [
    "Although the following cell threw an error, it did generate an explanation for all the examples and labels in seed.csv"
   ]
  },
  {
   "cell_type": "code",
   "execution_count": 13,
   "metadata": {},
   "outputs": [
    {
     "data": {
      "application/vnd.jupyter.widget-view+json": {
       "model_id": "fe78bd2d3aa04aae8aa0158ca8a8f83e",
       "version_major": 2,
       "version_minor": 0
      },
      "text/plain": [
       "Output()"
      ]
     },
     "metadata": {},
     "output_type": "display_data"
    },
    {
     "name": "stderr",
     "output_type": "stream",
     "text": [
      "2023-11-25 21:27:02 langchain.chat_models.openai WARNING: Retrying langchain.chat_models.openai.ChatOpenAI.completion_with_retry.<locals>._completion_with_retry in 1.0 seconds as it raised Timeout: Request timed out: HTTPSConnectionPool(host='api.openai.com', port=443): Read timed out. (read timeout=30.0).\n"
     ]
    },
    {
     "data": {
      "text/html": [
       "<pre style=\"white-space:pre;overflow-x:auto;line-height:normal;font-family:Menlo,'DejaVu Sans Mono',consolas,'Courier New',monospace\"></pre>\n"
      ],
      "text/plain": []
     },
     "metadata": {},
     "output_type": "display_data"
    },
    {
     "data": {
      "text/html": [
       "<pre style=\"white-space:pre;overflow-x:auto;line-height:normal;font-family:Menlo,'DejaVu Sans Mono',consolas,'Courier New',monospace\">\n",
       "</pre>\n"
      ],
      "text/plain": [
       "\n"
      ]
     },
     "metadata": {},
     "output_type": "display_data"
    },
    {
     "name": "stderr",
     "output_type": "stream",
     "text": [
      "11-25-2023 21:32:38 ERROR [plan_executor:plan_executor.py:execute_plan:0182] Batch constructor not properly called.\n",
      "Expected pandas.DataFrame, got <class 'list'>\n",
      "Traceback (most recent call last):\n",
      "  File \"/Users/krishnathan/Dropbox (GaTech)/Documents/College/Fall 23/CS 6422/Project/evadb-project-2/evadb_env/lib/python3.11/site-packages/evadb/executor/plan_executor.py\", line 178, in execute_plan\n",
      "    yield from output\n",
      "  File \"/Users/krishnathan/Dropbox (GaTech)/Documents/College/Fall 23/CS 6422/Project/evadb-project-2/evadb_env/lib/python3.11/site-packages/evadb/executor/project_executor.py\", line 42, in exec\n",
      "    batch = apply_project(dummy_batch, self.target_list)\n",
      "            ^^^^^^^^^^^^^^^^^^^^^^^^^^^^^^^^^^^^^^^^^^^^\n",
      "  File \"/Users/krishnathan/Dropbox (GaTech)/Documents/College/Fall 23/CS 6422/Project/evadb-project-2/evadb_env/lib/python3.11/site-packages/evadb/executor/executor_utils.py\", line 69, in apply_project\n",
      "    batches = [expr.evaluate(batch) for expr in project_list]\n",
      "              ^^^^^^^^^^^^^^^^^^^^^^^^^^^^^^^^^^^^^^^^^^^^^^^\n",
      "  File \"/Users/krishnathan/Dropbox (GaTech)/Documents/College/Fall 23/CS 6422/Project/evadb-project-2/evadb_env/lib/python3.11/site-packages/evadb/executor/executor_utils.py\", line 69, in <listcomp>\n",
      "    batches = [expr.evaluate(batch) for expr in project_list]\n",
      "               ^^^^^^^^^^^^^^^^^^^^\n",
      "  File \"/Users/krishnathan/Dropbox (GaTech)/Documents/College/Fall 23/CS 6422/Project/evadb-project-2/evadb_env/lib/python3.11/site-packages/evadb/expression/function_expression.py\", line 129, in evaluate\n",
      "    outcomes = self._apply_function_expression(func, batch, **kwargs)\n",
      "               ^^^^^^^^^^^^^^^^^^^^^^^^^^^^^^^^^^^^^^^^^^^^^^^^^^^^^^\n",
      "  File \"/Users/krishnathan/Dropbox (GaTech)/Documents/College/Fall 23/CS 6422/Project/evadb-project-2/evadb_env/lib/python3.11/site-packages/evadb/expression/function_expression.py\", line 188, in _apply_function_expression\n",
      "    return func_args.apply_function_expression(func)\n",
      "           ^^^^^^^^^^^^^^^^^^^^^^^^^^^^^^^^^^^^^^^^^\n",
      "  File \"/Users/krishnathan/Dropbox (GaTech)/Documents/College/Fall 23/CS 6422/Project/evadb-project-2/evadb_env/lib/python3.11/site-packages/evadb/models/storage/batch.py\", line 174, in apply_function_expression\n",
      "    return Batch(expr(self._frames))\n",
      "           ^^^^^^^^^^^^^^^^^^^^^^^^^\n",
      "  File \"/Users/krishnathan/Dropbox (GaTech)/Documents/College/Fall 23/CS 6422/Project/evadb-project-2/evadb_env/lib/python3.11/site-packages/evadb/models/storage/batch.py\", line 43, in __init__\n",
      "    raise ValueError(\n",
      "ValueError: Batch constructor not properly called.\n",
      "Expected pandas.DataFrame, got <class 'list'>\n",
      "2023-11-25 21:32:38 evadb.utils.logging_manager ERROR: Batch constructor not properly called.\n",
      "Expected pandas.DataFrame, got <class 'list'>\n",
      "Traceback (most recent call last):\n",
      "  File \"/Users/krishnathan/Dropbox (GaTech)/Documents/College/Fall 23/CS 6422/Project/evadb-project-2/evadb_env/lib/python3.11/site-packages/evadb/executor/plan_executor.py\", line 178, in execute_plan\n",
      "    yield from output\n",
      "  File \"/Users/krishnathan/Dropbox (GaTech)/Documents/College/Fall 23/CS 6422/Project/evadb-project-2/evadb_env/lib/python3.11/site-packages/evadb/executor/project_executor.py\", line 42, in exec\n",
      "    batch = apply_project(dummy_batch, self.target_list)\n",
      "            ^^^^^^^^^^^^^^^^^^^^^^^^^^^^^^^^^^^^^^^^^^^^\n",
      "  File \"/Users/krishnathan/Dropbox (GaTech)/Documents/College/Fall 23/CS 6422/Project/evadb-project-2/evadb_env/lib/python3.11/site-packages/evadb/executor/executor_utils.py\", line 69, in apply_project\n",
      "    batches = [expr.evaluate(batch) for expr in project_list]\n",
      "              ^^^^^^^^^^^^^^^^^^^^^^^^^^^^^^^^^^^^^^^^^^^^^^^\n",
      "  File \"/Users/krishnathan/Dropbox (GaTech)/Documents/College/Fall 23/CS 6422/Project/evadb-project-2/evadb_env/lib/python3.11/site-packages/evadb/executor/executor_utils.py\", line 69, in <listcomp>\n",
      "    batches = [expr.evaluate(batch) for expr in project_list]\n",
      "               ^^^^^^^^^^^^^^^^^^^^\n",
      "  File \"/Users/krishnathan/Dropbox (GaTech)/Documents/College/Fall 23/CS 6422/Project/evadb-project-2/evadb_env/lib/python3.11/site-packages/evadb/expression/function_expression.py\", line 129, in evaluate\n",
      "    outcomes = self._apply_function_expression(func, batch, **kwargs)\n",
      "               ^^^^^^^^^^^^^^^^^^^^^^^^^^^^^^^^^^^^^^^^^^^^^^^^^^^^^^\n",
      "  File \"/Users/krishnathan/Dropbox (GaTech)/Documents/College/Fall 23/CS 6422/Project/evadb-project-2/evadb_env/lib/python3.11/site-packages/evadb/expression/function_expression.py\", line 188, in _apply_function_expression\n",
      "    return func_args.apply_function_expression(func)\n",
      "           ^^^^^^^^^^^^^^^^^^^^^^^^^^^^^^^^^^^^^^^^^\n",
      "  File \"/Users/krishnathan/Dropbox (GaTech)/Documents/College/Fall 23/CS 6422/Project/evadb-project-2/evadb_env/lib/python3.11/site-packages/evadb/models/storage/batch.py\", line 174, in apply_function_expression\n",
      "    return Batch(expr(self._frames))\n",
      "           ^^^^^^^^^^^^^^^^^^^^^^^^^\n",
      "  File \"/Users/krishnathan/Dropbox (GaTech)/Documents/College/Fall 23/CS 6422/Project/evadb-project-2/evadb_env/lib/python3.11/site-packages/evadb/models/storage/batch.py\", line 43, in __init__\n",
      "    raise ValueError(\n",
      "ValueError: Batch constructor not properly called.\n",
      "Expected pandas.DataFrame, got <class 'list'>\n"
     ]
    },
    {
     "ename": "ExecutorError",
     "evalue": "Batch constructor not properly called.\nExpected pandas.DataFrame, got <class 'list'>",
     "output_type": "error",
     "traceback": [
      "\u001b[0;31m---------------------------------------------------------------------------\u001b[0m",
      "\u001b[0;31mValueError\u001b[0m                                Traceback (most recent call last)",
      "File \u001b[0;32m~/Dropbox (GaTech)/Documents/College/Fall 23/CS 6422/Project/evadb-project-2/evadb_env/lib/python3.11/site-packages/evadb/executor/plan_executor.py:178\u001b[0m, in \u001b[0;36mPlanExecutor.execute_plan\u001b[0;34m(self, do_not_raise_exceptions, do_not_print_exceptions)\u001b[0m\n\u001b[1;32m    177\u001b[0m     \u001b[39mif\u001b[39;00m output \u001b[39mis\u001b[39;00m \u001b[39mnot\u001b[39;00m \u001b[39mNone\u001b[39;00m:\n\u001b[0;32m--> 178\u001b[0m         \u001b[39myield from\u001b[39;00m output\n\u001b[1;32m    179\u001b[0m \u001b[39mexcept\u001b[39;00m \u001b[39mException\u001b[39;00m \u001b[39mas\u001b[39;00m e:\n",
      "File \u001b[0;32m~/Dropbox (GaTech)/Documents/College/Fall 23/CS 6422/Project/evadb-project-2/evadb_env/lib/python3.11/site-packages/evadb/executor/project_executor.py:42\u001b[0m, in \u001b[0;36mProjectExecutor.exec\u001b[0;34m(self, *args, **kwargs)\u001b[0m\n\u001b[1;32m     41\u001b[0m dummy_batch \u001b[39m=\u001b[39m Batch(pd\u001b[39m.\u001b[39mDataFrame([\u001b[39m0\u001b[39m]))\n\u001b[0;32m---> 42\u001b[0m batch \u001b[39m=\u001b[39m apply_project(dummy_batch, \u001b[39mself\u001b[39;49m\u001b[39m.\u001b[39;49mtarget_list)\n\u001b[1;32m     43\u001b[0m \u001b[39mif\u001b[39;00m \u001b[39mnot\u001b[39;00m batch\u001b[39m.\u001b[39mempty():\n",
      "File \u001b[0;32m~/Dropbox (GaTech)/Documents/College/Fall 23/CS 6422/Project/evadb-project-2/evadb_env/lib/python3.11/site-packages/evadb/executor/executor_utils.py:69\u001b[0m, in \u001b[0;36mapply_project\u001b[0;34m(batch, project_list)\u001b[0m\n\u001b[1;32m     68\u001b[0m \u001b[39mif\u001b[39;00m \u001b[39mnot\u001b[39;00m batch\u001b[39m.\u001b[39mempty() \u001b[39mand\u001b[39;00m project_list:\n\u001b[0;32m---> 69\u001b[0m     batches \u001b[39m=\u001b[39m [expr\u001b[39m.\u001b[39;49mevaluate(batch) \u001b[39mfor\u001b[39;49;00m expr \u001b[39min\u001b[39;49;00m project_list]\n\u001b[1;32m     70\u001b[0m     batch \u001b[39m=\u001b[39m Batch\u001b[39m.\u001b[39mmerge_column_wise(batches)\n",
      "File \u001b[0;32m~/Dropbox (GaTech)/Documents/College/Fall 23/CS 6422/Project/evadb-project-2/evadb_env/lib/python3.11/site-packages/evadb/executor/executor_utils.py:69\u001b[0m, in \u001b[0;36m<listcomp>\u001b[0;34m(.0)\u001b[0m\n\u001b[1;32m     68\u001b[0m \u001b[39mif\u001b[39;00m \u001b[39mnot\u001b[39;00m batch\u001b[39m.\u001b[39mempty() \u001b[39mand\u001b[39;00m project_list:\n\u001b[0;32m---> 69\u001b[0m     batches \u001b[39m=\u001b[39m [expr\u001b[39m.\u001b[39;49mevaluate(batch) \u001b[39mfor\u001b[39;00m expr \u001b[39min\u001b[39;00m project_list]\n\u001b[1;32m     70\u001b[0m     batch \u001b[39m=\u001b[39m Batch\u001b[39m.\u001b[39mmerge_column_wise(batches)\n",
      "File \u001b[0;32m~/Dropbox (GaTech)/Documents/College/Fall 23/CS 6422/Project/evadb-project-2/evadb_env/lib/python3.11/site-packages/evadb/expression/function_expression.py:129\u001b[0m, in \u001b[0;36mFunctionExpression.evaluate\u001b[0;34m(self, batch, **kwargs)\u001b[0m\n\u001b[1;32m    127\u001b[0m \u001b[39mwith\u001b[39;00m \u001b[39mself\u001b[39m\u001b[39m.\u001b[39m_stats\u001b[39m.\u001b[39mtimer:\n\u001b[1;32m    128\u001b[0m     \u001b[39m# apply the function and project the required columns\u001b[39;00m\n\u001b[0;32m--> 129\u001b[0m     outcomes \u001b[39m=\u001b[39m \u001b[39mself\u001b[39;49m\u001b[39m.\u001b[39;49m_apply_function_expression(func, batch, \u001b[39m*\u001b[39;49m\u001b[39m*\u001b[39;49mkwargs)\n\u001b[1;32m    131\u001b[0m     \u001b[39m# process outcomes only if output is not empty\u001b[39;00m\n",
      "File \u001b[0;32m~/Dropbox (GaTech)/Documents/College/Fall 23/CS 6422/Project/evadb-project-2/evadb_env/lib/python3.11/site-packages/evadb/expression/function_expression.py:188\u001b[0m, in \u001b[0;36mFunctionExpression._apply_function_expression\u001b[0;34m(self, func, batch, **kwargs)\u001b[0m\n\u001b[1;32m    187\u001b[0m \u001b[39mif\u001b[39;00m \u001b[39mnot\u001b[39;00m \u001b[39mself\u001b[39m\u001b[39m.\u001b[39m_cache:\n\u001b[0;32m--> 188\u001b[0m     \u001b[39mreturn\u001b[39;00m func_args\u001b[39m.\u001b[39;49mapply_function_expression(func)\n\u001b[1;32m    190\u001b[0m output_cols \u001b[39m=\u001b[39m [obj\u001b[39m.\u001b[39mname \u001b[39mfor\u001b[39;00m obj \u001b[39min\u001b[39;00m \u001b[39mself\u001b[39m\u001b[39m.\u001b[39mfunction_obj\u001b[39m.\u001b[39moutputs]\n",
      "File \u001b[0;32m~/Dropbox (GaTech)/Documents/College/Fall 23/CS 6422/Project/evadb-project-2/evadb_env/lib/python3.11/site-packages/evadb/models/storage/batch.py:174\u001b[0m, in \u001b[0;36mBatch.apply_function_expression\u001b[0;34m(self, expr)\u001b[0m\n\u001b[1;32m    173\u001b[0m \u001b[39mself\u001b[39m\u001b[39m.\u001b[39mdrop_column_alias()\n\u001b[0;32m--> 174\u001b[0m \u001b[39mreturn\u001b[39;00m Batch(expr(\u001b[39mself\u001b[39;49m\u001b[39m.\u001b[39;49m_frames))\n",
      "File \u001b[0;32m~/Dropbox (GaTech)/Documents/College/Fall 23/CS 6422/Project/evadb-project-2/evadb_env/lib/python3.11/site-packages/evadb/models/storage/batch.py:43\u001b[0m, in \u001b[0;36mBatch.__init__\u001b[0;34m(self, frames)\u001b[0m\n\u001b[1;32m     42\u001b[0m \u001b[39mif\u001b[39;00m \u001b[39mnot\u001b[39;00m \u001b[39misinstance\u001b[39m(\u001b[39mself\u001b[39m\u001b[39m.\u001b[39m_frames, pd\u001b[39m.\u001b[39mDataFrame):\n\u001b[0;32m---> 43\u001b[0m     \u001b[39mraise\u001b[39;00m \u001b[39mValueError\u001b[39;00m(\n\u001b[1;32m     44\u001b[0m         \u001b[39m\"\u001b[39m\u001b[39mBatch constructor not properly called.\u001b[39m\u001b[39m\\n\u001b[39;00m\u001b[39m\"\u001b[39m\n\u001b[1;32m     45\u001b[0m         \u001b[39mf\u001b[39m\u001b[39m\"\u001b[39m\u001b[39mExpected pandas.DataFrame, got \u001b[39m\u001b[39m{\u001b[39;00m\u001b[39mtype\u001b[39m(\u001b[39mself\u001b[39m\u001b[39m.\u001b[39m_frames)\u001b[39m}\u001b[39;00m\u001b[39m\"\u001b[39m\n\u001b[1;32m     46\u001b[0m     )\n",
      "\u001b[0;31mValueError\u001b[0m: Batch constructor not properly called.\nExpected pandas.DataFrame, got <class 'list'>",
      "\nDuring handling of the above exception, another exception occurred:\n",
      "\u001b[0;31mExecutorError\u001b[0m                             Traceback (most recent call last)",
      "\u001b[1;32m/Users/krishnathan/Dropbox (GaTech)/Documents/College/Fall 23/CS 6422/Project/evadb-project-2/examples/autolabel_evadb.ipynb Cell 21\u001b[0m line \u001b[0;36m2\n\u001b[1;32m      <a href='vscode-notebook-cell:/Users/krishnathan/Dropbox%20%28GaTech%29/Documents/College/Fall%2023/CS%206422/Project/evadb-project-2/examples/autolabel_evadb.ipynb#X26sZmlsZQ%3D%3D?line=0'>1</a>\u001b[0m query\u001b[39m=\u001b[39m \u001b[39mf\u001b[39m\u001b[39m\"\"\"\u001b[39m\u001b[39mSELECT RefuelAutolabel(\u001b[39m\u001b[39m\"\u001b[39m\u001b[39mexplain\u001b[39m\u001b[39m\"\u001b[39m\u001b[39m, \u001b[39m\u001b[39m'\u001b[39m\u001b[39m../configs/config_banking.json\u001b[39m\u001b[39m'\u001b[39m\u001b[39m, \u001b[39m\u001b[39m'\u001b[39m\u001b[39mseed.csv\u001b[39m\u001b[39m'\u001b[39m\u001b[39m);\u001b[39m\u001b[39m\"\"\"\u001b[39m\n\u001b[0;32m----> <a href='vscode-notebook-cell:/Users/krishnathan/Dropbox%20%28GaTech%29/Documents/College/Fall%2023/CS%206422/Project/evadb-project-2/examples/autolabel_evadb.ipynb#X26sZmlsZQ%3D%3D?line=1'>2</a>\u001b[0m result \u001b[39m=\u001b[39m cursor\u001b[39m.\u001b[39;49mquery(query)\u001b[39m.\u001b[39;49mexecute()\n",
      "File \u001b[0;32m~/Dropbox (GaTech)/Documents/College/Fall 23/CS 6422/Project/evadb-project-2/evadb_env/lib/python3.11/site-packages/evadb/interfaces/relational/relation.py:141\u001b[0m, in \u001b[0;36mEvaDBQuery.execute\u001b[0;34m(self, drop_alias)\u001b[0m\n\u001b[1;32m    127\u001b[0m \u001b[39mdef\u001b[39;00m \u001b[39mexecute\u001b[39m(\u001b[39mself\u001b[39m, drop_alias: \u001b[39mbool\u001b[39m \u001b[39m=\u001b[39m \u001b[39mTrue\u001b[39;00m) \u001b[39m-\u001b[39m\u001b[39m>\u001b[39m Batch:\n\u001b[1;32m    128\u001b[0m \u001b[39m    \u001b[39m\u001b[39m\"\"\"Transform the relation into a result set\u001b[39;00m\n\u001b[1;32m    129\u001b[0m \n\u001b[1;32m    130\u001b[0m \u001b[39m    Args:\u001b[39;00m\n\u001b[0;32m   (...)\u001b[0m\n\u001b[1;32m    139\u001b[0m \u001b[39m        >>> batch = cursor.query(\"SELECT * FROM MyTable;\").execute()\u001b[39;00m\n\u001b[1;32m    140\u001b[0m \u001b[39m    \"\"\"\u001b[39;00m\n\u001b[0;32m--> 141\u001b[0m     result \u001b[39m=\u001b[39m execute_statement(\u001b[39mself\u001b[39;49m\u001b[39m.\u001b[39;49m_evadb, \u001b[39mself\u001b[39;49m\u001b[39m.\u001b[39;49m_query_node\u001b[39m.\u001b[39;49mcopy())\n\u001b[1;32m    142\u001b[0m     \u001b[39m# TODO: this is a dirty implementation. Ideally this should be done in the final projection.\u001b[39;00m\n\u001b[1;32m    143\u001b[0m     \u001b[39mif\u001b[39;00m drop_alias:\n",
      "File \u001b[0;32m~/Dropbox (GaTech)/Documents/College/Fall 23/CS 6422/Project/evadb-project-2/evadb_env/lib/python3.11/site-packages/evadb/server/command_handler.py:53\u001b[0m, in \u001b[0;36mexecute_statement\u001b[0;34m(evadb, stmt, do_not_raise_exceptions, do_not_print_exceptions, **kwargs)\u001b[0m\n\u001b[1;32m     49\u001b[0m output \u001b[39m=\u001b[39m PlanExecutor(evadb, physical_plan)\u001b[39m.\u001b[39mexecute_plan(\n\u001b[1;32m     50\u001b[0m     do_not_raise_exceptions, do_not_print_exceptions\n\u001b[1;32m     51\u001b[0m )\n\u001b[1;32m     52\u001b[0m \u001b[39mif\u001b[39;00m output:\n\u001b[0;32m---> 53\u001b[0m     batch_list \u001b[39m=\u001b[39m \u001b[39mlist\u001b[39m(output)\n\u001b[1;32m     54\u001b[0m     \u001b[39mreturn\u001b[39;00m Batch\u001b[39m.\u001b[39mconcat(batch_list, copy\u001b[39m=\u001b[39m\u001b[39mFalse\u001b[39;00m)\n",
      "File \u001b[0;32m~/Dropbox (GaTech)/Documents/College/Fall 23/CS 6422/Project/evadb-project-2/evadb_env/lib/python3.11/site-packages/evadb/executor/plan_executor.py:183\u001b[0m, in \u001b[0;36mPlanExecutor.execute_plan\u001b[0;34m(self, do_not_raise_exceptions, do_not_print_exceptions)\u001b[0m\n\u001b[1;32m    181\u001b[0m \u001b[39mif\u001b[39;00m do_not_print_exceptions \u001b[39mis\u001b[39;00m \u001b[39mFalse\u001b[39;00m:\n\u001b[1;32m    182\u001b[0m     logger\u001b[39m.\u001b[39mexception(\u001b[39mstr\u001b[39m(e))\n\u001b[0;32m--> 183\u001b[0m \u001b[39mraise\u001b[39;00m ExecutorError(e)\n",
      "\u001b[0;31mExecutorError\u001b[0m: Batch constructor not properly called.\nExpected pandas.DataFrame, got <class 'list'>"
     ]
    }
   ],
   "source": [
    "query= f\"\"\"SELECT RefuelAutolabel(\"explain\", '../configs/config_banking.json', 'seed.csv');\"\"\"\n",
    "result = cursor.query(query).execute()"
   ]
  },
  {
   "cell_type": "markdown",
   "metadata": {},
   "source": [
    "### 2.5 Bringing the labeled dataset into EvaDB"
   ]
  },
  {
   "cell_type": "markdown",
   "metadata": {},
   "source": [
    "Here, I'm pulling the labeled banking dataset into EvaDB. I had to rename it to seed_banking.csv and test_banking.csv so that I could run the Walmart example with only labelling 10 examples. I'm not sure why the dataset currently being labeled has to be named seed.csv and test.csv. Unfortunately, Refuel's API does not allow me to specify the dataset names in a more flexible way. This could be something to investigate further if we wish to work with several datasets"
   ]
  },
  {
   "cell_type": "code",
   "execution_count": 75,
   "metadata": {},
   "outputs": [
    {
     "name": "stdout",
     "output_type": "stream",
     "text": [
      "      _row_id  \\\n",
      "0           1   \n",
      "1           2   \n",
      "2           3   \n",
      "3           4   \n",
      "4           5   \n",
      "...       ...   \n",
      "1993     1994   \n",
      "1994     1995   \n",
      "1995     1996   \n",
      "1996     1997   \n",
      "1997     1998   \n",
      "\n",
      "                                                                                                  example  \\\n",
      "0                                                                              I want to close my account   \n",
      "1     It seems I was overcharged when I used an ATM while on vacation. If I knew about your fees in ad...   \n",
      "2                                I have a direct debit transaction I have not set up, but would like to .   \n",
      "3                                                         How much does it cost in fees to use your card?   \n",
      "4                                                                             There is an extra $1 charge   \n",
      "...                                                                                                   ...   \n",
      "1993                                                                      Where can my card be delivered?   \n",
      "1994  I keep checking my bank statements but I don't see a refund that I've requested from a seller. C...   \n",
      "1995                                                 I'm pretty sure my top up failed. How do I fix this?   \n",
      "1996                                                               How do I deposit cash into my account?   \n",
      "1997                                                         I think my statement has a fraudulent charge   \n",
      "\n",
      "                                        label explanation  \n",
      "0                           terminate_account        None  \n",
      "1     wrong_exchange_rate_for_cash_withdrawal        None  \n",
      "2         direct_debit_payment_not_recognised        None  \n",
      "3                         order_physical_card        None  \n",
      "4                   extra_charge_on_statement        None  \n",
      "...                                       ...         ...  \n",
      "1993                      order_physical_card        None  \n",
      "1994                    Refund_not_showing_up        None  \n",
      "1995                            top_up_failed        None  \n",
      "1996                 top_up_by_cash_or_cheque        None  \n",
      "1997              card_payment_not_recognised        None  \n",
      "\n",
      "[1998 rows x 4 columns]\n"
     ]
    }
   ],
   "source": [
    "drop_query = \"DROP TABLE IF EXISTS MyCSV\"\n",
    "cursor.query(drop_query).execute()\n",
    "\n",
    "query1 = \"\"\"CREATE TABLE IF NOT EXISTS MyCSV (\n",
    "                example TEXT(1000),\n",
    "                label TEXT(100),\n",
    "                explanation TEXT(1000)\n",
    "            );\"\"\"\n",
    "\n",
    "query2 = \"LOAD CSV 'test_banking.csv' INTO MyCSV;\"\n",
    "query3 = \"SELECT * FROM MyCSV;\"\n",
    "\n",
    "result = cursor.query(query1).execute()\n",
    "result = cursor.query(query2).execute()\n",
    "result = cursor.query(query3).execute()\n",
    "\n",
    "print(result)"
   ]
  }
 ],
 "metadata": {
  "kernelspec": {
   "display_name": "base",
   "language": "python",
   "name": "python3"
  },
  "language_info": {
   "codemirror_mode": {
    "name": "ipython",
    "version": 3
   },
   "file_extension": ".py",
   "mimetype": "text/x-python",
   "name": "python",
   "nbconvert_exporter": "python",
   "pygments_lexer": "ipython3",
   "version": "3.11.5"
  }
 },
 "nbformat": 4,
 "nbformat_minor": 2
}
