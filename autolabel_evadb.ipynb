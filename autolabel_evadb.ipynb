{
 "cells": [
  {
   "cell_type": "markdown",
   "metadata": {},
   "source": [
    "# Integrating Refuel Autolabel into EvaDB"
   ]
  },
  {
   "cell_type": "markdown",
   "metadata": {},
   "source": [
    "## 1. Setup"
   ]
  },
  {
   "cell_type": "code",
   "execution_count": 14,
   "metadata": {},
   "outputs": [
    {
     "name": "stdout",
     "output_type": "stream",
     "text": [
      "Requirement already satisfied: refuel-autolabel in /Users/krishnathan/anaconda3/lib/python3.11/site-packages (0.0.16)\n",
      "Requirement already satisfied: loguru>=0.5.0 in /Users/krishnathan/anaconda3/lib/python3.11/site-packages (from refuel-autolabel) (0.7.2)\n",
      "Requirement already satisfied: numpy>=1.23.0 in /Users/krishnathan/anaconda3/lib/python3.11/site-packages (from refuel-autolabel) (1.24.3)\n",
      "Requirement already satisfied: requests>=2.27.0 in /Users/krishnathan/anaconda3/lib/python3.11/site-packages (from refuel-autolabel) (2.31.0)\n",
      "Requirement already satisfied: datasets>=2.7.0 in /Users/krishnathan/anaconda3/lib/python3.11/site-packages (from refuel-autolabel) (2.12.0)\n",
      "Collecting langchain==0.0.226 (from refuel-autolabel)\n",
      "  Obtaining dependency information for langchain==0.0.226 from https://files.pythonhosted.org/packages/4b/27/a5084377ba866245dd4ee81f158a6f1115c9695da3acd5f344f432fdfa7f/langchain-0.0.226-py3-none-any.whl.metadata\n",
      "  Using cached langchain-0.0.226-py3-none-any.whl.metadata (13 kB)\n",
      "Requirement already satisfied: nervaluate>=0.1.8 in /Users/krishnathan/anaconda3/lib/python3.11/site-packages (from refuel-autolabel) (0.1.8)\n",
      "Requirement already satisfied: pandas>=1.3.0 in /Users/krishnathan/anaconda3/lib/python3.11/site-packages (from refuel-autolabel) (2.0.3)\n",
      "Requirement already satisfied: scikit-learn>=1.0.0 in /Users/krishnathan/anaconda3/lib/python3.11/site-packages (from refuel-autolabel) (1.3.0)\n",
      "Requirement already satisfied: tenacity>=8.2.2 in /Users/krishnathan/anaconda3/lib/python3.11/site-packages (from refuel-autolabel) (8.2.2)\n",
      "Requirement already satisfied: SQLAlchemy>=2.0.19 in /Users/krishnathan/anaconda3/lib/python3.11/site-packages (from refuel-autolabel) (2.0.23)\n",
      "Requirement already satisfied: regex>=2023.6.3 in /Users/krishnathan/anaconda3/lib/python3.11/site-packages (from refuel-autolabel) (2023.10.3)\n",
      "Requirement already satisfied: rich>=13.3.5 in /Users/krishnathan/anaconda3/lib/python3.11/site-packages (from refuel-autolabel) (13.7.0)\n",
      "Requirement already satisfied: scipy>=1.10.1 in /Users/krishnathan/anaconda3/lib/python3.11/site-packages (from refuel-autolabel) (1.11.1)\n",
      "Requirement already satisfied: pydantic>=1.10.9 in /Users/krishnathan/anaconda3/lib/python3.11/site-packages (from refuel-autolabel) (1.10.13)\n",
      "Requirement already satisfied: torch>=1.10.0 in /Users/krishnathan/anaconda3/lib/python3.11/site-packages (from refuel-autolabel) (2.1.1)\n",
      "Requirement already satisfied: matplotlib>=3.5.0 in /Users/krishnathan/anaconda3/lib/python3.11/site-packages (from refuel-autolabel) (3.7.2)\n",
      "Requirement already satisfied: wget>=3.2 in /Users/krishnathan/anaconda3/lib/python3.11/site-packages (from refuel-autolabel) (3.2)\n",
      "Requirement already satisfied: ipywidgets==8.0.6 in /Users/krishnathan/anaconda3/lib/python3.11/site-packages (from refuel-autolabel) (8.0.6)\n",
      "Requirement already satisfied: jsonschema>=4.17.3 in /Users/krishnathan/anaconda3/lib/python3.11/site-packages (from refuel-autolabel) (4.17.3)\n",
      "Requirement already satisfied: tabulate>=0.9.0 in /Users/krishnathan/anaconda3/lib/python3.11/site-packages (from refuel-autolabel) (0.9.0)\n",
      "Requirement already satisfied: typer[all]>=0.9.0 in /Users/krishnathan/anaconda3/lib/python3.11/site-packages (from refuel-autolabel) (0.9.0)\n",
      "Requirement already satisfied: simple-term-menu>=1.6.1 in /Users/krishnathan/anaconda3/lib/python3.11/site-packages (from refuel-autolabel) (1.6.3)\n",
      "Requirement already satisfied: ipykernel>=4.5.1 in /Users/krishnathan/anaconda3/lib/python3.11/site-packages (from ipywidgets==8.0.6->refuel-autolabel) (6.25.0)\n",
      "Requirement already satisfied: ipython>=6.1.0 in /Users/krishnathan/anaconda3/lib/python3.11/site-packages (from ipywidgets==8.0.6->refuel-autolabel) (8.15.0)\n",
      "Requirement already satisfied: traitlets>=4.3.1 in /Users/krishnathan/anaconda3/lib/python3.11/site-packages (from ipywidgets==8.0.6->refuel-autolabel) (5.7.1)\n",
      "Requirement already satisfied: widgetsnbextension~=4.0.7 in /Users/krishnathan/anaconda3/lib/python3.11/site-packages (from ipywidgets==8.0.6->refuel-autolabel) (4.0.9)\n",
      "Requirement already satisfied: jupyterlab-widgets~=3.0.7 in /Users/krishnathan/anaconda3/lib/python3.11/site-packages (from ipywidgets==8.0.6->refuel-autolabel) (3.0.9)\n",
      "Requirement already satisfied: PyYAML>=5.4.1 in /Users/krishnathan/anaconda3/lib/python3.11/site-packages (from langchain==0.0.226->refuel-autolabel) (6.0)\n",
      "Requirement already satisfied: aiohttp<4.0.0,>=3.8.3 in /Users/krishnathan/anaconda3/lib/python3.11/site-packages (from langchain==0.0.226->refuel-autolabel) (3.8.5)\n",
      "Requirement already satisfied: dataclasses-json<0.6.0,>=0.5.7 in /Users/krishnathan/anaconda3/lib/python3.11/site-packages (from langchain==0.0.226->refuel-autolabel) (0.5.14)\n",
      "Requirement already satisfied: langchainplus-sdk<0.0.21,>=0.0.20 in /Users/krishnathan/anaconda3/lib/python3.11/site-packages (from langchain==0.0.226->refuel-autolabel) (0.0.20)\n",
      "Requirement already satisfied: numexpr<3.0.0,>=2.8.4 in /Users/krishnathan/anaconda3/lib/python3.11/site-packages (from langchain==0.0.226->refuel-autolabel) (2.8.4)\n",
      "Requirement already satisfied: openapi-schema-pydantic<2.0,>=1.2 in /Users/krishnathan/anaconda3/lib/python3.11/site-packages (from langchain==0.0.226->refuel-autolabel) (1.2.4)\n",
      "Requirement already satisfied: pyarrow>=8.0.0 in /Users/krishnathan/anaconda3/lib/python3.11/site-packages (from datasets>=2.7.0->refuel-autolabel) (11.0.0)\n",
      "Requirement already satisfied: dill<0.3.7,>=0.3.0 in /Users/krishnathan/anaconda3/lib/python3.11/site-packages (from datasets>=2.7.0->refuel-autolabel) (0.3.6)\n",
      "Requirement already satisfied: tqdm>=4.62.1 in /Users/krishnathan/anaconda3/lib/python3.11/site-packages (from datasets>=2.7.0->refuel-autolabel) (4.65.0)\n",
      "Requirement already satisfied: xxhash in /Users/krishnathan/anaconda3/lib/python3.11/site-packages (from datasets>=2.7.0->refuel-autolabel) (2.0.2)\n",
      "Requirement already satisfied: multiprocess in /Users/krishnathan/anaconda3/lib/python3.11/site-packages (from datasets>=2.7.0->refuel-autolabel) (0.70.14)\n",
      "Requirement already satisfied: fsspec[http]>=2021.11.1 in /Users/krishnathan/anaconda3/lib/python3.11/site-packages (from datasets>=2.7.0->refuel-autolabel) (2023.4.0)\n",
      "Requirement already satisfied: huggingface-hub<1.0.0,>=0.11.0 in /Users/krishnathan/anaconda3/lib/python3.11/site-packages (from datasets>=2.7.0->refuel-autolabel) (0.15.1)\n",
      "Requirement already satisfied: packaging in /Users/krishnathan/anaconda3/lib/python3.11/site-packages (from datasets>=2.7.0->refuel-autolabel) (23.1)\n",
      "Requirement already satisfied: responses<0.19 in /Users/krishnathan/anaconda3/lib/python3.11/site-packages (from datasets>=2.7.0->refuel-autolabel) (0.13.3)\n",
      "Requirement already satisfied: attrs>=17.4.0 in /Users/krishnathan/anaconda3/lib/python3.11/site-packages (from jsonschema>=4.17.3->refuel-autolabel) (22.1.0)\n",
      "Requirement already satisfied: pyrsistent!=0.17.0,!=0.17.1,!=0.17.2,>=0.14.0 in /Users/krishnathan/anaconda3/lib/python3.11/site-packages (from jsonschema>=4.17.3->refuel-autolabel) (0.18.0)\n",
      "Requirement already satisfied: contourpy>=1.0.1 in /Users/krishnathan/anaconda3/lib/python3.11/site-packages (from matplotlib>=3.5.0->refuel-autolabel) (1.0.5)\n",
      "Requirement already satisfied: cycler>=0.10 in /Users/krishnathan/anaconda3/lib/python3.11/site-packages (from matplotlib>=3.5.0->refuel-autolabel) (0.11.0)\n",
      "Requirement already satisfied: fonttools>=4.22.0 in /Users/krishnathan/anaconda3/lib/python3.11/site-packages (from matplotlib>=3.5.0->refuel-autolabel) (4.25.0)\n",
      "Requirement already satisfied: kiwisolver>=1.0.1 in /Users/krishnathan/anaconda3/lib/python3.11/site-packages (from matplotlib>=3.5.0->refuel-autolabel) (1.4.4)\n",
      "Requirement already satisfied: pillow>=6.2.0 in /Users/krishnathan/anaconda3/lib/python3.11/site-packages (from matplotlib>=3.5.0->refuel-autolabel) (9.4.0)\n",
      "Requirement already satisfied: pyparsing<3.1,>=2.3.1 in /Users/krishnathan/anaconda3/lib/python3.11/site-packages (from matplotlib>=3.5.0->refuel-autolabel) (3.0.9)\n",
      "Requirement already satisfied: python-dateutil>=2.7 in /Users/krishnathan/anaconda3/lib/python3.11/site-packages (from matplotlib>=3.5.0->refuel-autolabel) (2.8.2)\n",
      "Requirement already satisfied: pytz>=2020.1 in /Users/krishnathan/anaconda3/lib/python3.11/site-packages (from pandas>=1.3.0->refuel-autolabel) (2023.3.post1)\n",
      "Requirement already satisfied: tzdata>=2022.1 in /Users/krishnathan/anaconda3/lib/python3.11/site-packages (from pandas>=1.3.0->refuel-autolabel) (2023.3)\n",
      "Requirement already satisfied: typing-extensions>=4.2.0 in /Users/krishnathan/anaconda3/lib/python3.11/site-packages (from pydantic>=1.10.9->refuel-autolabel) (4.7.1)\n",
      "Requirement already satisfied: charset-normalizer<4,>=2 in /Users/krishnathan/anaconda3/lib/python3.11/site-packages (from requests>=2.27.0->refuel-autolabel) (2.0.4)\n",
      "Requirement already satisfied: idna<4,>=2.5 in /Users/krishnathan/anaconda3/lib/python3.11/site-packages (from requests>=2.27.0->refuel-autolabel) (3.4)\n",
      "Requirement already satisfied: urllib3<3,>=1.21.1 in /Users/krishnathan/anaconda3/lib/python3.11/site-packages (from requests>=2.27.0->refuel-autolabel) (1.26.16)\n",
      "Requirement already satisfied: certifi>=2017.4.17 in /Users/krishnathan/anaconda3/lib/python3.11/site-packages (from requests>=2.27.0->refuel-autolabel) (2023.7.22)\n",
      "Requirement already satisfied: markdown-it-py>=2.2.0 in /Users/krishnathan/anaconda3/lib/python3.11/site-packages (from rich>=13.3.5->refuel-autolabel) (2.2.0)\n",
      "Requirement already satisfied: pygments<3.0.0,>=2.13.0 in /Users/krishnathan/anaconda3/lib/python3.11/site-packages (from rich>=13.3.5->refuel-autolabel) (2.15.1)\n",
      "Requirement already satisfied: joblib>=1.1.1 in /Users/krishnathan/anaconda3/lib/python3.11/site-packages (from scikit-learn>=1.0.0->refuel-autolabel) (1.2.0)\n",
      "Requirement already satisfied: threadpoolctl>=2.0.0 in /Users/krishnathan/anaconda3/lib/python3.11/site-packages (from scikit-learn>=1.0.0->refuel-autolabel) (2.2.0)\n",
      "Requirement already satisfied: filelock in /Users/krishnathan/anaconda3/lib/python3.11/site-packages (from torch>=1.10.0->refuel-autolabel) (3.9.0)\n",
      "Requirement already satisfied: sympy in /Users/krishnathan/anaconda3/lib/python3.11/site-packages (from torch>=1.10.0->refuel-autolabel) (1.11.1)\n",
      "Requirement already satisfied: networkx in /Users/krishnathan/anaconda3/lib/python3.11/site-packages (from torch>=1.10.0->refuel-autolabel) (3.1)\n",
      "Requirement already satisfied: jinja2 in /Users/krishnathan/anaconda3/lib/python3.11/site-packages (from torch>=1.10.0->refuel-autolabel) (3.1.2)\n",
      "Requirement already satisfied: click<9.0.0,>=7.1.1 in /Users/krishnathan/anaconda3/lib/python3.11/site-packages (from typer[all]>=0.9.0->refuel-autolabel) (8.0.4)\n",
      "Requirement already satisfied: colorama<0.5.0,>=0.4.3 in /Users/krishnathan/anaconda3/lib/python3.11/site-packages (from typer[all]>=0.9.0->refuel-autolabel) (0.4.6)\n",
      "Requirement already satisfied: shellingham<2.0.0,>=1.3.0 in /Users/krishnathan/anaconda3/lib/python3.11/site-packages (from typer[all]>=0.9.0->refuel-autolabel) (1.5.4)\n",
      "Requirement already satisfied: multidict<7.0,>=4.5 in /Users/krishnathan/anaconda3/lib/python3.11/site-packages (from aiohttp<4.0.0,>=3.8.3->langchain==0.0.226->refuel-autolabel) (6.0.2)\n",
      "Requirement already satisfied: async-timeout<5.0,>=4.0.0a3 in /Users/krishnathan/anaconda3/lib/python3.11/site-packages (from aiohttp<4.0.0,>=3.8.3->langchain==0.0.226->refuel-autolabel) (4.0.2)\n",
      "Requirement already satisfied: yarl<2.0,>=1.0 in /Users/krishnathan/anaconda3/lib/python3.11/site-packages (from aiohttp<4.0.0,>=3.8.3->langchain==0.0.226->refuel-autolabel) (1.8.1)\n",
      "Requirement already satisfied: frozenlist>=1.1.1 in /Users/krishnathan/anaconda3/lib/python3.11/site-packages (from aiohttp<4.0.0,>=3.8.3->langchain==0.0.226->refuel-autolabel) (1.3.3)\n",
      "Requirement already satisfied: aiosignal>=1.1.2 in /Users/krishnathan/anaconda3/lib/python3.11/site-packages (from aiohttp<4.0.0,>=3.8.3->langchain==0.0.226->refuel-autolabel) (1.2.0)\n",
      "Requirement already satisfied: marshmallow<4.0.0,>=3.18.0 in /Users/krishnathan/anaconda3/lib/python3.11/site-packages (from dataclasses-json<0.6.0,>=0.5.7->langchain==0.0.226->refuel-autolabel) (3.20.1)\n",
      "Requirement already satisfied: typing-inspect<1,>=0.4.0 in /Users/krishnathan/anaconda3/lib/python3.11/site-packages (from dataclasses-json<0.6.0,>=0.5.7->langchain==0.0.226->refuel-autolabel) (0.9.0)\n",
      "Requirement already satisfied: appnope in /Users/krishnathan/anaconda3/lib/python3.11/site-packages (from ipykernel>=4.5.1->ipywidgets==8.0.6->refuel-autolabel) (0.1.2)\n",
      "Requirement already satisfied: comm>=0.1.1 in /Users/krishnathan/anaconda3/lib/python3.11/site-packages (from ipykernel>=4.5.1->ipywidgets==8.0.6->refuel-autolabel) (0.1.2)\n",
      "Requirement already satisfied: debugpy>=1.6.5 in /Users/krishnathan/anaconda3/lib/python3.11/site-packages (from ipykernel>=4.5.1->ipywidgets==8.0.6->refuel-autolabel) (1.6.7)\n",
      "Requirement already satisfied: jupyter-client>=6.1.12 in /Users/krishnathan/anaconda3/lib/python3.11/site-packages (from ipykernel>=4.5.1->ipywidgets==8.0.6->refuel-autolabel) (7.4.9)\n",
      "Requirement already satisfied: jupyter-core!=5.0.*,>=4.12 in /Users/krishnathan/anaconda3/lib/python3.11/site-packages (from ipykernel>=4.5.1->ipywidgets==8.0.6->refuel-autolabel) (5.3.0)\n",
      "Requirement already satisfied: matplotlib-inline>=0.1 in /Users/krishnathan/anaconda3/lib/python3.11/site-packages (from ipykernel>=4.5.1->ipywidgets==8.0.6->refuel-autolabel) (0.1.6)\n",
      "Requirement already satisfied: nest-asyncio in /Users/krishnathan/anaconda3/lib/python3.11/site-packages (from ipykernel>=4.5.1->ipywidgets==8.0.6->refuel-autolabel) (1.5.6)\n",
      "Requirement already satisfied: psutil in /Users/krishnathan/anaconda3/lib/python3.11/site-packages (from ipykernel>=4.5.1->ipywidgets==8.0.6->refuel-autolabel) (5.9.0)\n",
      "Requirement already satisfied: pyzmq>=20 in /Users/krishnathan/anaconda3/lib/python3.11/site-packages (from ipykernel>=4.5.1->ipywidgets==8.0.6->refuel-autolabel) (23.2.0)\n",
      "Requirement already satisfied: tornado>=6.1 in /Users/krishnathan/anaconda3/lib/python3.11/site-packages (from ipykernel>=4.5.1->ipywidgets==8.0.6->refuel-autolabel) (6.3.2)\n",
      "Requirement already satisfied: backcall in /Users/krishnathan/anaconda3/lib/python3.11/site-packages (from ipython>=6.1.0->ipywidgets==8.0.6->refuel-autolabel) (0.2.0)\n",
      "Requirement already satisfied: decorator in /Users/krishnathan/anaconda3/lib/python3.11/site-packages (from ipython>=6.1.0->ipywidgets==8.0.6->refuel-autolabel) (5.1.1)\n",
      "Requirement already satisfied: jedi>=0.16 in /Users/krishnathan/anaconda3/lib/python3.11/site-packages (from ipython>=6.1.0->ipywidgets==8.0.6->refuel-autolabel) (0.18.1)\n",
      "Requirement already satisfied: pickleshare in /Users/krishnathan/anaconda3/lib/python3.11/site-packages (from ipython>=6.1.0->ipywidgets==8.0.6->refuel-autolabel) (0.7.5)\n",
      "Requirement already satisfied: prompt-toolkit!=3.0.37,<3.1.0,>=3.0.30 in /Users/krishnathan/anaconda3/lib/python3.11/site-packages (from ipython>=6.1.0->ipywidgets==8.0.6->refuel-autolabel) (3.0.36)\n",
      "Requirement already satisfied: stack-data in /Users/krishnathan/anaconda3/lib/python3.11/site-packages (from ipython>=6.1.0->ipywidgets==8.0.6->refuel-autolabel) (0.2.0)\n",
      "Requirement already satisfied: pexpect>4.3 in /Users/krishnathan/anaconda3/lib/python3.11/site-packages (from ipython>=6.1.0->ipywidgets==8.0.6->refuel-autolabel) (4.8.0)\n",
      "Requirement already satisfied: mdurl~=0.1 in /Users/krishnathan/anaconda3/lib/python3.11/site-packages (from markdown-it-py>=2.2.0->rich>=13.3.5->refuel-autolabel) (0.1.0)\n",
      "Requirement already satisfied: six>=1.5 in /Users/krishnathan/anaconda3/lib/python3.11/site-packages (from python-dateutil>=2.7->matplotlib>=3.5.0->refuel-autolabel) (1.16.0)\n",
      "Requirement already satisfied: MarkupSafe>=2.0 in /Users/krishnathan/anaconda3/lib/python3.11/site-packages (from jinja2->torch>=1.10.0->refuel-autolabel) (2.1.1)\n",
      "Requirement already satisfied: mpmath>=0.19 in /Users/krishnathan/anaconda3/lib/python3.11/site-packages (from sympy->torch>=1.10.0->refuel-autolabel) (1.3.0)\n",
      "Requirement already satisfied: parso<0.9.0,>=0.8.0 in /Users/krishnathan/anaconda3/lib/python3.11/site-packages (from jedi>=0.16->ipython>=6.1.0->ipywidgets==8.0.6->refuel-autolabel) (0.8.3)\n",
      "Requirement already satisfied: entrypoints in /Users/krishnathan/anaconda3/lib/python3.11/site-packages (from jupyter-client>=6.1.12->ipykernel>=4.5.1->ipywidgets==8.0.6->refuel-autolabel) (0.4)\n",
      "Requirement already satisfied: platformdirs>=2.5 in /Users/krishnathan/anaconda3/lib/python3.11/site-packages (from jupyter-core!=5.0.*,>=4.12->ipykernel>=4.5.1->ipywidgets==8.0.6->refuel-autolabel) (3.10.0)\n",
      "Requirement already satisfied: ptyprocess>=0.5 in /Users/krishnathan/anaconda3/lib/python3.11/site-packages (from pexpect>4.3->ipython>=6.1.0->ipywidgets==8.0.6->refuel-autolabel) (0.7.0)\n",
      "Requirement already satisfied: wcwidth in /Users/krishnathan/anaconda3/lib/python3.11/site-packages (from prompt-toolkit!=3.0.37,<3.1.0,>=3.0.30->ipython>=6.1.0->ipywidgets==8.0.6->refuel-autolabel) (0.2.5)\n",
      "Requirement already satisfied: mypy-extensions>=0.3.0 in /Users/krishnathan/anaconda3/lib/python3.11/site-packages (from typing-inspect<1,>=0.4.0->dataclasses-json<0.6.0,>=0.5.7->langchain==0.0.226->refuel-autolabel) (1.0.0)\n",
      "Requirement already satisfied: executing in /Users/krishnathan/anaconda3/lib/python3.11/site-packages (from stack-data->ipython>=6.1.0->ipywidgets==8.0.6->refuel-autolabel) (0.8.3)\n",
      "Requirement already satisfied: asttokens in /Users/krishnathan/anaconda3/lib/python3.11/site-packages (from stack-data->ipython>=6.1.0->ipywidgets==8.0.6->refuel-autolabel) (2.0.5)\n",
      "Requirement already satisfied: pure-eval in /Users/krishnathan/anaconda3/lib/python3.11/site-packages (from stack-data->ipython>=6.1.0->ipywidgets==8.0.6->refuel-autolabel) (0.2.2)\n",
      "Using cached langchain-0.0.226-py3-none-any.whl (1.2 MB)\n",
      "Installing collected packages: langchain\n",
      "  Attempting uninstall: langchain\n",
      "    Found existing installation: langchain 0.0.316\n",
      "    Uninstalling langchain-0.0.316:\n",
      "      Successfully uninstalled langchain-0.0.316\n",
      "Successfully installed langchain-0.0.226\n",
      "Requirement already satisfied: evadb in /Users/krishnathan/anaconda3/lib/python3.11/site-packages (0.3.8)\n",
      "Requirement already satisfied: aenum>=2.2.0 in /Users/krishnathan/anaconda3/lib/python3.11/site-packages (from evadb) (3.1.15)\n",
      "Requirement already satisfied: diskcache>=5.4.0 in /Users/krishnathan/anaconda3/lib/python3.11/site-packages (from evadb) (5.6.3)\n",
      "Requirement already satisfied: lark>=1.0.0 in /Users/krishnathan/anaconda3/lib/python3.11/site-packages (from evadb) (1.1.8)\n",
      "Requirement already satisfied: numpy>=1.19.5 in /Users/krishnathan/anaconda3/lib/python3.11/site-packages (from evadb) (1.24.3)\n",
      "Requirement already satisfied: pandas>=1.1.5 in /Users/krishnathan/anaconda3/lib/python3.11/site-packages (from evadb) (2.0.3)\n",
      "Requirement already satisfied: psutil in /Users/krishnathan/anaconda3/lib/python3.11/site-packages (from evadb) (5.9.0)\n",
      "Requirement already satisfied: pydantic<2 in /Users/krishnathan/anaconda3/lib/python3.11/site-packages (from evadb) (1.10.13)\n",
      "Requirement already satisfied: pyyaml>=5.1 in /Users/krishnathan/anaconda3/lib/python3.11/site-packages (from evadb) (6.0)\n",
      "Requirement already satisfied: retry>=0.9.2 in /Users/krishnathan/anaconda3/lib/python3.11/site-packages (from evadb) (0.9.2)\n",
      "Requirement already satisfied: sqlalchemy-utils>=0.36.6 in /Users/krishnathan/anaconda3/lib/python3.11/site-packages (from evadb) (0.41.1)\n",
      "Requirement already satisfied: sqlalchemy>=2.0.0 in /Users/krishnathan/anaconda3/lib/python3.11/site-packages (from evadb) (2.0.23)\n",
      "Requirement already satisfied: thefuzz in /Users/krishnathan/anaconda3/lib/python3.11/site-packages (from evadb) (0.20.0)\n",
      "Requirement already satisfied: python-dateutil>=2.8.2 in /Users/krishnathan/anaconda3/lib/python3.11/site-packages (from pandas>=1.1.5->evadb) (2.8.2)\n",
      "Requirement already satisfied: pytz>=2020.1 in /Users/krishnathan/anaconda3/lib/python3.11/site-packages (from pandas>=1.1.5->evadb) (2023.3.post1)\n",
      "Requirement already satisfied: tzdata>=2022.1 in /Users/krishnathan/anaconda3/lib/python3.11/site-packages (from pandas>=1.1.5->evadb) (2023.3)\n",
      "Requirement already satisfied: typing-extensions>=4.2.0 in /Users/krishnathan/anaconda3/lib/python3.11/site-packages (from pydantic<2->evadb) (4.7.1)\n",
      "Requirement already satisfied: decorator>=3.4.2 in /Users/krishnathan/anaconda3/lib/python3.11/site-packages (from retry>=0.9.2->evadb) (5.1.1)\n",
      "Requirement already satisfied: py<2.0.0,>=1.4.26 in /Users/krishnathan/anaconda3/lib/python3.11/site-packages (from retry>=0.9.2->evadb) (1.11.0)\n",
      "Requirement already satisfied: rapidfuzz<4.0.0,>=3.0.0 in /Users/krishnathan/anaconda3/lib/python3.11/site-packages (from thefuzz->evadb) (3.5.2)\n",
      "Requirement already satisfied: six>=1.5 in /Users/krishnathan/anaconda3/lib/python3.11/site-packages (from python-dateutil>=2.8.2->pandas>=1.1.5->evadb) (1.16.0)\n"
     ]
    }
   ],
   "source": [
    "!pip install 'refuel-autolabel'\n",
    "!pip install evadb"
   ]
  },
  {
   "cell_type": "code",
   "execution_count": 15,
   "metadata": {},
   "outputs": [],
   "source": [
    "import os\n",
    "import evadb\n",
    "from my_secrets import OPENAI_KEY\n",
    "# provide your own OpenAI API key here\n",
    "os.environ['OPENAI_API_KEY'] = OPENAI_KEY"
   ]
  },
  {
   "cell_type": "code",
   "execution_count": 16,
   "metadata": {},
   "outputs": [
    {
     "name": "stdout",
     "output_type": "stream",
     "text": [
      "Connected to EvaDB\n"
     ]
    }
   ],
   "source": [
    "cursor = evadb.connect().cursor()\n",
    "print(\"Connected to EvaDB\")"
   ]
  },
  {
   "cell_type": "code",
   "execution_count": 53,
   "metadata": {},
   "outputs": [
    {
     "name": "stdout",
     "output_type": "stream",
     "text": [
      "Downloading example dataset from https://autolabel-benchmarking.s3.us-west-2.amazonaws.com/walmart_amazon/seed.csv to seed.csv...\n",
      "Downloading example dataset from https://autolabel-benchmarking.s3.us-west-2.amazonaws.com/walmart_amazon/test.csv to test.csv...\n",
      "100% [........................................] [929245/929245] bytes\r"
     ]
    }
   ],
   "source": [
    "from autolabel import get_data\n",
    "get_data('walmart_amazon')"
   ]
  },
  {
   "cell_type": "markdown",
   "metadata": {},
   "source": [
    "## 2. RefuelAutolabel Function"
   ]
  },
  {
   "cell_type": "markdown",
   "metadata": {},
   "source": [
    "### 2.1 Create Function in EvaDB"
   ]
  },
  {
   "cell_type": "markdown",
   "metadata": {},
   "source": [
    "I implemented the function which supports autolabeling via Refuel in functions/refuel_autolabel.py. The cell below simply creates the function in EvaDB using my implementation\n",
    "\n",
    "I'm supporting the following actions:\n",
    "\n",
    "- plan - plan the autolabeling task by giving a cost estimate and providing an example prompt which will be used to label an example\n",
    "- run - run the autolabeling task and insert the generated labels into the dataset\n",
    "- explain - explain the label generated for each example in the dataset\n",
    "\n",
    "In Refuel, these actions are all implemented in the LabelingAgent class. This class is the one we use to label datasets if we use Refuel's Python API"
   ]
  },
  {
   "cell_type": "code",
   "execution_count": 63,
   "metadata": {},
   "outputs": [
    {
     "name": "stdout",
     "output_type": "stream",
     "text": [
      "Created Function\n"
     ]
    }
   ],
   "source": [
    "create_function_query = f\"\"\"CREATE FUNCTION IF NOT EXISTS RefuelAutolabel\n",
    "            IMPL  './functions/refuel_autolabel.py';\n",
    "            \"\"\"\n",
    "cursor.query(\"DROP FUNCTION IF EXISTS RefuelAutolabel;\").execute()\n",
    "cursor.query(create_function_query).execute()\n",
    "print(\"Created Function\")"
   ]
  },
  {
   "cell_type": "markdown",
   "metadata": {},
   "source": [
    "### 2.2 Plan Autolabeling"
   ]
  },
  {
   "cell_type": "markdown",
   "metadata": {},
   "source": [
    "The following cell uses the autolabeling configuration specified by config_banking.json and the size of seed.csv to estimate the cost of labeling seed.csv. Furthermore, it gives an example of a prompt that would be generated and given to ChatGPT to perform the given autolabeling task\n",
    "\n",
    "The prompt asks the LLM to classify a complaint into one of several predetermined categories and gives the LLM several examples with which to learn from"
   ]
  },
  {
   "cell_type": "code",
   "execution_count": 45,
   "metadata": {},
   "outputs": [
    {
     "data": {
      "application/vnd.jupyter.widget-view+json": {
       "model_id": "d2932b36d67a4830b31656e9f7de55a7",
       "version_major": 2,
       "version_minor": 0
      },
      "text/plain": [
       "Output()"
      ]
     },
     "metadata": {},
     "output_type": "display_data"
    },
    {
     "data": {
      "text/html": [
       "<pre style=\"white-space:pre;overflow-x:auto;line-height:normal;font-family:Menlo,'DejaVu Sans Mono',consolas,'Courier New',monospace\"></pre>\n"
      ],
      "text/plain": []
     },
     "metadata": {},
     "output_type": "display_data"
    },
    {
     "data": {
      "text/html": [
       "<pre style=\"white-space:pre;overflow-x:auto;line-height:normal;font-family:Menlo,'DejaVu Sans Mono',consolas,'Courier New',monospace\">\n",
       "</pre>\n"
      ],
      "text/plain": [
       "\n"
      ]
     },
     "metadata": {},
     "output_type": "display_data"
    },
    {
     "data": {
      "text/html": [
       "<pre style=\"white-space:pre;overflow-x:auto;line-height:normal;font-family:Menlo,'DejaVu Sans Mono',consolas,'Courier New',monospace\">┌──────────────────────────┬─────────┐\n",
       "│<span style=\"color: #800080; text-decoration-color: #800080; font-weight: bold\"> Total Estimated Cost     </span>│<span style=\"color: #008000; text-decoration-color: #008000; font-weight: bold\"> $0.5985 </span>│\n",
       "│<span style=\"color: #800080; text-decoration-color: #800080; font-weight: bold\"> Number of Examples       </span>│<span style=\"color: #008000; text-decoration-color: #008000; font-weight: bold\"> 199     </span>│\n",
       "│<span style=\"color: #800080; text-decoration-color: #800080; font-weight: bold\"> Average cost per example </span>│<span style=\"color: #008000; text-decoration-color: #008000; font-weight: bold\"> $0.003  </span>│\n",
       "└──────────────────────────┴─────────┘\n",
       "</pre>\n"
      ],
      "text/plain": [
       "┌──────────────────────────┬─────────┐\n",
       "│\u001b[1;35m \u001b[0m\u001b[1;35mTotal Estimated Cost    \u001b[0m\u001b[1;35m \u001b[0m│\u001b[1;32m \u001b[0m\u001b[1;32m$0.5985\u001b[0m\u001b[1;32m \u001b[0m│\n",
       "│\u001b[1;35m \u001b[0m\u001b[1;35mNumber of Examples      \u001b[0m\u001b[1;35m \u001b[0m│\u001b[1;32m \u001b[0m\u001b[1;32m199    \u001b[0m\u001b[1;32m \u001b[0m│\n",
       "│\u001b[1;35m \u001b[0m\u001b[1;35mAverage cost per example\u001b[0m\u001b[1;35m \u001b[0m│\u001b[1;32m \u001b[0m\u001b[1;32m$0.003 \u001b[0m\u001b[1;32m \u001b[0m│\n",
       "└──────────────────────────┴─────────┘\n"
      ]
     },
     "metadata": {},
     "output_type": "display_data"
    },
    {
     "data": {
      "text/html": [
       "<pre style=\"white-space:pre;overflow-x:auto;line-height:normal;font-family:Menlo,'DejaVu Sans Mono',consolas,'Courier New',monospace\"><span style=\"color: #00ff00; text-decoration-color: #00ff00\">───────────────────────────────────────────────── </span>Prompt Example<span style=\"color: #00ff00; text-decoration-color: #00ff00\"> ──────────────────────────────────────────────────</span>\n",
       "</pre>\n"
      ],
      "text/plain": [
       "\u001b[92m───────────────────────────────────────────────── \u001b[0mPrompt Example\u001b[92m ──────────────────────────────────────────────────\u001b[0m\n"
      ]
     },
     "metadata": {},
     "output_type": "display_data"
    },
    {
     "data": {
      "text/html": [
       "<pre style=\"white-space:pre;overflow-x:auto;line-height:normal;font-family:Menlo,'DejaVu Sans Mono',consolas,'Courier New',monospace\">You are an expert at understanding bank customers support complaints and queries.\n",
       "Your job is to correctly classify the provided input example into one of the following categories.\n",
       "Categories:\n",
       "activate_my_card\n",
       "age_limit\n",
       "apple_pay_or_google_pay\n",
       "atm_support\n",
       "automatic_top_up\n",
       "balance_not_updated_after_bank_transfer\n",
       "balance_not_updated_after_cheque_or_cash_deposit\n",
       "beneficiary_not_allowed\n",
       "cancel_transfer\n",
       "card_about_to_expire\n",
       "card_acceptance\n",
       "card_arrival\n",
       "card_delivery_estimate\n",
       "card_linking\n",
       "card_not_working\n",
       "card_payment_fee_charged\n",
       "card_payment_not_recognised\n",
       "card_payment_wrong_exchange_rate\n",
       "card_swallowed\n",
       "cash_withdrawal_charge\n",
       "cash_withdrawal_not_recognised\n",
       "change_pin\n",
       "compromised_card\n",
       "contactless_not_working\n",
       "country_support\n",
       "declined_card_payment\n",
       "declined_cash_withdrawal\n",
       "declined_transfer\n",
       "direct_debit_payment_not_recognised\n",
       "disposable_card_limits\n",
       "edit_personal_details\n",
       "exchange_charge\n",
       "exchange_rate\n",
       "exchange_via_app\n",
       "extra_charge_on_statement\n",
       "failed_transfer\n",
       "fiat_currency_support\n",
       "get_disposable_virtual_card\n",
       "get_physical_card\n",
       "getting_spare_card\n",
       "getting_virtual_card\n",
       "lost_or_stolen_card\n",
       "lost_or_stolen_phone\n",
       "order_physical_card\n",
       "passcode_forgotten\n",
       "pending_card_payment\n",
       "pending_cash_withdrawal\n",
       "pending_top_up\n",
       "pending_transfer\n",
       "pin_blocked\n",
       "receiving_money\n",
       "Refund_not_showing_up\n",
       "request_refund\n",
       "reverted_card_payment?\n",
       "supported_cards_and_currencies\n",
       "terminate_account\n",
       "top_up_by_bank_transfer_charge\n",
       "top_up_by_card_charge\n",
       "top_up_by_cash_or_cheque\n",
       "top_up_failed\n",
       "top_up_limits\n",
       "top_up_reverted\n",
       "topping_up_by_card\n",
       "transaction_charged_twice\n",
       "transfer_fee_charged\n",
       "transfer_into_account\n",
       "transfer_not_received_by_recipient\n",
       "transfer_timing\n",
       "unable_to_verify_identity\n",
       "verify_my_identity\n",
       "verify_source_of_funds\n",
       "verify_top_up\n",
       "virtual_card_not_working\n",
       "visa_or_mastercard\n",
       "why_verify_identity\n",
       "wrong_amount_of_cash_received\n",
       "wrong_exchange_rate_for_cash_withdrawal\n",
       "\n",
       "You will answer with just the the correct output label and nothing else.\n",
       "\n",
       "Some examples with their output answers are provided below:\n",
       "\n",
       "Input: I have withdrawn cash from ATM but i received the wrong amount. I want cash back as in app its showing \n",
       "actual amount which i got. Please help me in this.\n",
       "Output: wrong_amount_of_cash_received\n",
       "Input: The app made a mistake and said I made a cash withdrawal.\n",
       "Output: cash_withdrawal_not_recognised\n",
       "Input: I tried to take out cash but the amount isn't right, so what do I do?\n",
       "Output: wrong_amount_of_cash_received\n",
       "Input: I received cash from the ATM earlier, but this shows up as pending in the app.  I've got the cash already.  \n",
       "How can this be still pending?\n",
       "Output: pending_cash_withdrawal\n",
       "Input: did not receive correct cash upon withdrawal\n",
       "Output: wrong_amount_of_cash_received\n",
       "Input: I didn't receive the right amount of cash back\n",
       "Output: wrong_amount_of_cash_received\n",
       "Input: I took out money from a transaction machine and it exchanged the wrong dollar value amount from another \n",
       "currency!\n",
       "Output: wrong_exchange_rate_for_cash_withdrawal\n",
       "Input: Why did the ATM machine fail to give me a cash withdrawal?\n",
       "Output: declined_cash_withdrawal\n",
       "Input: I checked the exchange rate when I withdrew cash. But the actual rate that you applied was different.\n",
       "Output: wrong_exchange_rate_for_cash_withdrawal\n",
       "Input: How can I withdraw money?\n",
       "Output: atm_support\n",
       "\n",
       "Now I want you to label the following example:\n",
       "Input: I have withdrawn cash from ATM but i received the wrong amount. I want cash back as in app its showing \n",
       "actual amount which i got. Please help me in this.\n",
       "Output: \n",
       "</pre>\n"
      ],
      "text/plain": [
       "You are an expert at understanding bank customers support complaints and queries.\n",
       "Your job is to correctly classify the provided input example into one of the following categories.\n",
       "Categories:\n",
       "activate_my_card\n",
       "age_limit\n",
       "apple_pay_or_google_pay\n",
       "atm_support\n",
       "automatic_top_up\n",
       "balance_not_updated_after_bank_transfer\n",
       "balance_not_updated_after_cheque_or_cash_deposit\n",
       "beneficiary_not_allowed\n",
       "cancel_transfer\n",
       "card_about_to_expire\n",
       "card_acceptance\n",
       "card_arrival\n",
       "card_delivery_estimate\n",
       "card_linking\n",
       "card_not_working\n",
       "card_payment_fee_charged\n",
       "card_payment_not_recognised\n",
       "card_payment_wrong_exchange_rate\n",
       "card_swallowed\n",
       "cash_withdrawal_charge\n",
       "cash_withdrawal_not_recognised\n",
       "change_pin\n",
       "compromised_card\n",
       "contactless_not_working\n",
       "country_support\n",
       "declined_card_payment\n",
       "declined_cash_withdrawal\n",
       "declined_transfer\n",
       "direct_debit_payment_not_recognised\n",
       "disposable_card_limits\n",
       "edit_personal_details\n",
       "exchange_charge\n",
       "exchange_rate\n",
       "exchange_via_app\n",
       "extra_charge_on_statement\n",
       "failed_transfer\n",
       "fiat_currency_support\n",
       "get_disposable_virtual_card\n",
       "get_physical_card\n",
       "getting_spare_card\n",
       "getting_virtual_card\n",
       "lost_or_stolen_card\n",
       "lost_or_stolen_phone\n",
       "order_physical_card\n",
       "passcode_forgotten\n",
       "pending_card_payment\n",
       "pending_cash_withdrawal\n",
       "pending_top_up\n",
       "pending_transfer\n",
       "pin_blocked\n",
       "receiving_money\n",
       "Refund_not_showing_up\n",
       "request_refund\n",
       "reverted_card_payment?\n",
       "supported_cards_and_currencies\n",
       "terminate_account\n",
       "top_up_by_bank_transfer_charge\n",
       "top_up_by_card_charge\n",
       "top_up_by_cash_or_cheque\n",
       "top_up_failed\n",
       "top_up_limits\n",
       "top_up_reverted\n",
       "topping_up_by_card\n",
       "transaction_charged_twice\n",
       "transfer_fee_charged\n",
       "transfer_into_account\n",
       "transfer_not_received_by_recipient\n",
       "transfer_timing\n",
       "unable_to_verify_identity\n",
       "verify_my_identity\n",
       "verify_source_of_funds\n",
       "verify_top_up\n",
       "virtual_card_not_working\n",
       "visa_or_mastercard\n",
       "why_verify_identity\n",
       "wrong_amount_of_cash_received\n",
       "wrong_exchange_rate_for_cash_withdrawal\n",
       "\n",
       "You will answer with just the the correct output label and nothing else.\n",
       "\n",
       "Some examples with their output answers are provided below:\n",
       "\n",
       "Input: I have withdrawn cash from ATM but i received the wrong amount. I want cash back as in app its showing \n",
       "actual amount which i got. Please help me in this.\n",
       "Output: wrong_amount_of_cash_received\n",
       "Input: The app made a mistake and said I made a cash withdrawal.\n",
       "Output: cash_withdrawal_not_recognised\n",
       "Input: I tried to take out cash but the amount isn't right, so what do I do?\n",
       "Output: wrong_amount_of_cash_received\n",
       "Input: I received cash from the ATM earlier, but this shows up as pending in the app.  I've got the cash already.  \n",
       "How can this be still pending?\n",
       "Output: pending_cash_withdrawal\n",
       "Input: did not receive correct cash upon withdrawal\n",
       "Output: wrong_amount_of_cash_received\n",
       "Input: I didn't receive the right amount of cash back\n",
       "Output: wrong_amount_of_cash_received\n",
       "Input: I took out money from a transaction machine and it exchanged the wrong dollar value amount from another \n",
       "currency!\n",
       "Output: wrong_exchange_rate_for_cash_withdrawal\n",
       "Input: Why did the ATM machine fail to give me a cash withdrawal?\n",
       "Output: declined_cash_withdrawal\n",
       "Input: I checked the exchange rate when I withdrew cash. But the actual rate that you applied was different.\n",
       "Output: wrong_exchange_rate_for_cash_withdrawal\n",
       "Input: How can I withdraw money?\n",
       "Output: atm_support\n",
       "\n",
       "Now I want you to label the following example:\n",
       "Input: I have withdrawn cash from ATM but i received the wrong amount. I want cash back as in app its showing \n",
       "actual amount which i got. Please help me in this.\n",
       "Output: \n"
      ]
     },
     "metadata": {},
     "output_type": "display_data"
    },
    {
     "data": {
      "text/html": [
       "<pre style=\"white-space:pre;overflow-x:auto;line-height:normal;font-family:Menlo,'DejaVu Sans Mono',consolas,'Courier New',monospace\"><span style=\"color: #00ff00; text-decoration-color: #00ff00\">───────────────────────────────────────────────────────────────────────────────────────────────────────────────────</span>\n",
       "</pre>\n"
      ],
      "text/plain": [
       "\u001b[92m───────────────────────────────────────────────────────────────────────────────────────────────────────────────────\u001b[0m\n"
      ]
     },
     "metadata": {},
     "output_type": "display_data"
    }
   ],
   "source": [
    "query= f\"\"\" SELECT RefuelAutolabel(\"plan\", 'config_banking.json', 'seed.csv');\"\"\"\n",
    "result = cursor.query(query).execute()"
   ]
  },
  {
   "cell_type": "markdown",
   "metadata": {},
   "source": [
    "### 2.3 Run Autolabeling"
   ]
  },
  {
   "cell_type": "markdown",
   "metadata": {},
   "source": [
    "Simple example with no optional arguments passed"
   ]
  },
  {
   "cell_type": "code",
   "execution_count": 43,
   "metadata": {},
   "outputs": [
    {
     "data": {
      "application/vnd.jupyter.widget-view+json": {
       "model_id": "065c0840613a47579c3f9f23a94f88dc",
       "version_major": 2,
       "version_minor": 0
      },
      "text/plain": [
       "Output()"
      ]
     },
     "metadata": {},
     "output_type": "display_data"
    },
    {
     "data": {
      "text/html": [
       "<pre style=\"white-space:pre;overflow-x:auto;line-height:normal;font-family:Menlo,'DejaVu Sans Mono',consolas,'Courier New',monospace\"></pre>\n"
      ],
      "text/plain": []
     },
     "metadata": {},
     "output_type": "display_data"
    },
    {
     "data": {
      "text/html": [
       "<pre style=\"white-space:pre;overflow-x:auto;line-height:normal;font-family:Menlo,'DejaVu Sans Mono',consolas,'Courier New',monospace\">Actual Cost: <span style=\"color: #008080; text-decoration-color: #008080; font-weight: bold\">0.0</span>\n",
       "</pre>\n"
      ],
      "text/plain": [
       "Actual Cost: \u001b[1;36m0.0\u001b[0m\n"
      ]
     },
     "metadata": {},
     "output_type": "display_data"
    },
    {
     "data": {
      "text/html": [
       "<pre style=\"white-space:pre;overflow-x:auto;line-height:normal;font-family:Menlo,'DejaVu Sans Mono',consolas,'Courier New',monospace\">┏━━━━━━━━━━┳━━━━━━━━━┳━━━━━━━━━━━━━━━━━┓\n",
       "┃<span style=\"font-weight: bold\"> accuracy </span>┃<span style=\"font-weight: bold\"> support </span>┃<span style=\"font-weight: bold\"> completion_rate </span>┃\n",
       "┡━━━━━━━━━━╇━━━━━━━━━╇━━━━━━━━━━━━━━━━━┩\n",
       "│<span style=\"color: #008080; text-decoration-color: #008080; font-weight: bold\"> 0.9698   </span>│<span style=\"color: #008080; text-decoration-color: #008080; font-weight: bold\"> 199     </span>│<span style=\"color: #008080; text-decoration-color: #008080; font-weight: bold\"> 1.0             </span>│\n",
       "└──────────┴─────────┴─────────────────┘\n",
       "</pre>\n"
      ],
      "text/plain": [
       "┏━━━━━━━━━━┳━━━━━━━━━┳━━━━━━━━━━━━━━━━━┓\n",
       "┃\u001b[1m \u001b[0m\u001b[1maccuracy\u001b[0m\u001b[1m \u001b[0m┃\u001b[1m \u001b[0m\u001b[1msupport\u001b[0m\u001b[1m \u001b[0m┃\u001b[1m \u001b[0m\u001b[1mcompletion_rate\u001b[0m\u001b[1m \u001b[0m┃\n",
       "┡━━━━━━━━━━╇━━━━━━━━━╇━━━━━━━━━━━━━━━━━┩\n",
       "│\u001b[1;36m \u001b[0m\u001b[1;36m0.9698  \u001b[0m\u001b[1;36m \u001b[0m│\u001b[1;36m \u001b[0m\u001b[1;36m199    \u001b[0m\u001b[1;36m \u001b[0m│\u001b[1;36m \u001b[0m\u001b[1;36m1.0            \u001b[0m\u001b[1;36m \u001b[0m│\n",
       "└──────────┴─────────┴─────────────────┘\n"
      ]
     },
     "metadata": {},
     "output_type": "display_data"
    }
   ],
   "source": [
    "\"\"\"\n",
    "use the function arguments to specify\n",
    "    1. the mode to execute in (plan, run, explain)\n",
    "    2. config file\n",
    "    3. dataset file\n",
    "    4. (optional) output file\n",
    "    5. (optional) max items\n",
    "    6. (optional) start index\n",
    "    7. (optional) skip eval\n",
    "\"\"\"\n",
    "\n",
    "query_with_output = f\"\"\" SELECT RefuelAutolabel(\"run\", 'config_banking.json', 'seed.csv', 'output.csv');\"\"\"\n",
    "\n",
    "query= f\"\"\" SELECT RefuelAutolabel(\"run\", 'config_banking.json', 'seed.csv');\"\"\"\n",
    "result = cursor.query(query).execute()"
   ]
  },
  {
   "cell_type": "markdown",
   "metadata": {},
   "source": [
    "Using all of the optional arguments to label 10 examples starting at the 1st example"
   ]
  },
  {
   "cell_type": "code",
   "execution_count": 60,
   "metadata": {},
   "outputs": [
    {
     "data": {
      "application/vnd.jupyter.widget-view+json": {
       "model_id": "29e643189dae460bb9bc5428e66dc5f6",
       "version_major": 2,
       "version_minor": 0
      },
      "text/plain": [
       "Output()"
      ]
     },
     "metadata": {},
     "output_type": "display_data"
    },
    {
     "data": {
      "text/html": [
       "<pre style=\"white-space:pre;overflow-x:auto;line-height:normal;font-family:Menlo,'DejaVu Sans Mono',consolas,'Courier New',monospace\"></pre>\n"
      ],
      "text/plain": []
     },
     "metadata": {},
     "output_type": "display_data"
    },
    {
     "name": "stderr",
     "output_type": "stream",
     "text": [
      "/Users/krishnathan/anaconda3/lib/python3.11/site-packages/sklearn/metrics/_classification.py:1469: UndefinedMetricWarning: Precision and F-score are ill-defined and being set to 0.0 in labels with no predicted samples. Use `zero_division` parameter to control this behavior.\n",
      "  _warn_prf(average, modifier, msg_start, len(result))\n",
      "/Users/krishnathan/anaconda3/lib/python3.11/site-packages/sklearn/metrics/_classification.py:1469: UndefinedMetricWarning: Precision and F-score are ill-defined and being set to 0.0 in labels with no predicted samples. Use `zero_division` parameter to control this behavior.\n",
      "  _warn_prf(average, modifier, msg_start, len(result))\n",
      "/Users/krishnathan/anaconda3/lib/python3.11/site-packages/sklearn/metrics/_classification.py:1469: UndefinedMetricWarning: Precision and F-score are ill-defined and being set to 0.0 in labels with no predicted samples. Use `zero_division` parameter to control this behavior.\n",
      "  _warn_prf(average, modifier, msg_start, len(result))\n"
     ]
    },
    {
     "data": {
      "text/html": [
       "<pre style=\"white-space:pre;overflow-x:auto;line-height:normal;font-family:Menlo,'DejaVu Sans Mono',consolas,'Courier New',monospace\">classification_report:\n",
       "               precision    recall  f1-score   support\n",
       "\n",
       "    duplicate       <span style=\"color: #008080; text-decoration-color: #008080; font-weight: bold\">0.00</span>      <span style=\"color: #008080; text-decoration-color: #008080; font-weight: bold\">0.00</span>      <span style=\"color: #008080; text-decoration-color: #008080; font-weight: bold\">0.00</span>         <span style=\"color: #008080; text-decoration-color: #008080; font-weight: bold\">1</span>\n",
       "not duplicate       <span style=\"color: #008080; text-decoration-color: #008080; font-weight: bold\">0.90</span>      <span style=\"color: #008080; text-decoration-color: #008080; font-weight: bold\">1.00</span>      <span style=\"color: #008080; text-decoration-color: #008080; font-weight: bold\">0.95</span>         <span style=\"color: #008080; text-decoration-color: #008080; font-weight: bold\">9</span>\n",
       "\n",
       "     accuracy                           <span style=\"color: #008080; text-decoration-color: #008080; font-weight: bold\">0.90</span>        <span style=\"color: #008080; text-decoration-color: #008080; font-weight: bold\">10</span>\n",
       "    macro avg       <span style=\"color: #008080; text-decoration-color: #008080; font-weight: bold\">0.45</span>      <span style=\"color: #008080; text-decoration-color: #008080; font-weight: bold\">0.50</span>      <span style=\"color: #008080; text-decoration-color: #008080; font-weight: bold\">0.47</span>        <span style=\"color: #008080; text-decoration-color: #008080; font-weight: bold\">10</span>\n",
       " weighted avg       <span style=\"color: #008080; text-decoration-color: #008080; font-weight: bold\">0.81</span>      <span style=\"color: #008080; text-decoration-color: #008080; font-weight: bold\">0.90</span>      <span style=\"color: #008080; text-decoration-color: #008080; font-weight: bold\">0.85</span>        <span style=\"color: #008080; text-decoration-color: #008080; font-weight: bold\">10</span>\n",
       "\n",
       "</pre>\n"
      ],
      "text/plain": [
       "classification_report:\n",
       "               precision    recall  f1-score   support\n",
       "\n",
       "    duplicate       \u001b[1;36m0.00\u001b[0m      \u001b[1;36m0.00\u001b[0m      \u001b[1;36m0.00\u001b[0m         \u001b[1;36m1\u001b[0m\n",
       "not duplicate       \u001b[1;36m0.90\u001b[0m      \u001b[1;36m1.00\u001b[0m      \u001b[1;36m0.95\u001b[0m         \u001b[1;36m9\u001b[0m\n",
       "\n",
       "     accuracy                           \u001b[1;36m0.90\u001b[0m        \u001b[1;36m10\u001b[0m\n",
       "    macro avg       \u001b[1;36m0.45\u001b[0m      \u001b[1;36m0.50\u001b[0m      \u001b[1;36m0.47\u001b[0m        \u001b[1;36m10\u001b[0m\n",
       " weighted avg       \u001b[1;36m0.81\u001b[0m      \u001b[1;36m0.90\u001b[0m      \u001b[1;36m0.85\u001b[0m        \u001b[1;36m10\u001b[0m\n",
       "\n"
      ]
     },
     "metadata": {},
     "output_type": "display_data"
    },
    {
     "data": {
      "text/html": [
       "<pre style=\"white-space:pre;overflow-x:auto;line-height:normal;font-family:Menlo,'DejaVu Sans Mono',consolas,'Courier New',monospace\">Actual Cost: <span style=\"color: #008080; text-decoration-color: #008080; font-weight: bold\">0.0069</span>\n",
       "</pre>\n"
      ],
      "text/plain": [
       "Actual Cost: \u001b[1;36m0.0069\u001b[0m\n"
      ]
     },
     "metadata": {},
     "output_type": "display_data"
    },
    {
     "data": {
      "text/html": [
       "<pre style=\"white-space:pre;overflow-x:auto;line-height:normal;font-family:Menlo,'DejaVu Sans Mono',consolas,'Courier New',monospace\">┏━━━━━━━━━━┳━━━━━━━━━┳━━━━━━━━━━━━━━━━━┓\n",
       "┃<span style=\"font-weight: bold\"> accuracy </span>┃<span style=\"font-weight: bold\"> support </span>┃<span style=\"font-weight: bold\"> completion_rate </span>┃\n",
       "┡━━━━━━━━━━╇━━━━━━━━━╇━━━━━━━━━━━━━━━━━┩\n",
       "│<span style=\"color: #008080; text-decoration-color: #008080; font-weight: bold\"> 0.9      </span>│<span style=\"color: #008080; text-decoration-color: #008080; font-weight: bold\"> 10      </span>│<span style=\"color: #008080; text-decoration-color: #008080; font-weight: bold\"> 1.0             </span>│\n",
       "└──────────┴─────────┴─────────────────┘\n",
       "</pre>\n"
      ],
      "text/plain": [
       "┏━━━━━━━━━━┳━━━━━━━━━┳━━━━━━━━━━━━━━━━━┓\n",
       "┃\u001b[1m \u001b[0m\u001b[1maccuracy\u001b[0m\u001b[1m \u001b[0m┃\u001b[1m \u001b[0m\u001b[1msupport\u001b[0m\u001b[1m \u001b[0m┃\u001b[1m \u001b[0m\u001b[1mcompletion_rate\u001b[0m\u001b[1m \u001b[0m┃\n",
       "┡━━━━━━━━━━╇━━━━━━━━━╇━━━━━━━━━━━━━━━━━┩\n",
       "│\u001b[1;36m \u001b[0m\u001b[1;36m0.9     \u001b[0m\u001b[1;36m \u001b[0m│\u001b[1;36m \u001b[0m\u001b[1;36m10     \u001b[0m\u001b[1;36m \u001b[0m│\u001b[1;36m \u001b[0m\u001b[1;36m1.0            \u001b[0m\u001b[1;36m \u001b[0m│\n",
       "└──────────┴─────────┴─────────────────┘\n"
      ]
     },
     "metadata": {},
     "output_type": "display_data"
    }
   ],
   "source": [
    "query= f\"\"\" SELECT RefuelAutolabel(\"run\", 'config_walmart.json', 'seed.csv', 'output.csv', '10', '1', 'false');\"\"\"\n",
    "result = cursor.query(query).execute()"
   ]
  },
  {
   "cell_type": "markdown",
   "metadata": {},
   "source": [
    "### 2.4 Explain Autolabeling"
   ]
  },
  {
   "cell_type": "markdown",
   "metadata": {},
   "source": [
    "Although the following cell threw an error, it did generate an explanation for all the examples and labels in seed.csv"
   ]
  },
  {
   "cell_type": "code",
   "execution_count": 79,
   "metadata": {},
   "outputs": [
    {
     "data": {
      "application/vnd.jupyter.widget-view+json": {
       "model_id": "4094d626e1e54d938939ea795e29ce89",
       "version_major": 2,
       "version_minor": 0
      },
      "text/plain": [
       "Output()"
      ]
     },
     "metadata": {},
     "output_type": "display_data"
    },
    {
     "data": {
      "text/html": [
       "<pre style=\"white-space:pre;overflow-x:auto;line-height:normal;font-family:Menlo,'DejaVu Sans Mono',consolas,'Courier New',monospace\"></pre>\n"
      ],
      "text/plain": []
     },
     "metadata": {},
     "output_type": "display_data"
    },
    {
     "data": {
      "text/html": [
       "<pre style=\"white-space:pre;overflow-x:auto;line-height:normal;font-family:Menlo,'DejaVu Sans Mono',consolas,'Courier New',monospace\">\n",
       "</pre>\n"
      ],
      "text/plain": [
       "\n"
      ]
     },
     "metadata": {},
     "output_type": "display_data"
    },
    {
     "name": "stderr",
     "output_type": "stream",
     "text": [
      "11-25-2023 17:33:11 ERROR [plan_executor:plan_executor.py:execute_plan:0179] Batch constructor not properly called.\n",
      "Expected pandas.DataFrame, got <class 'list'>\n",
      "Traceback (most recent call last):\n",
      "  File \"/Users/krishnathan/anaconda3/lib/python3.11/site-packages/evadb/executor/plan_executor.py\", line 175, in execute_plan\n",
      "    yield from output\n",
      "  File \"/Users/krishnathan/anaconda3/lib/python3.11/site-packages/evadb/executor/project_executor.py\", line 42, in exec\n",
      "    batch = apply_project(dummy_batch, self.target_list)\n",
      "            ^^^^^^^^^^^^^^^^^^^^^^^^^^^^^^^^^^^^^^^^^^^^\n",
      "  File \"/Users/krishnathan/anaconda3/lib/python3.11/site-packages/evadb/executor/executor_utils.py\", line 69, in apply_project\n",
      "    batches = [expr.evaluate(batch) for expr in project_list]\n",
      "              ^^^^^^^^^^^^^^^^^^^^^^^^^^^^^^^^^^^^^^^^^^^^^^^\n",
      "  File \"/Users/krishnathan/anaconda3/lib/python3.11/site-packages/evadb/executor/executor_utils.py\", line 69, in <listcomp>\n",
      "    batches = [expr.evaluate(batch) for expr in project_list]\n",
      "               ^^^^^^^^^^^^^^^^^^^^\n",
      "  File \"/Users/krishnathan/anaconda3/lib/python3.11/site-packages/evadb/expression/function_expression.py\", line 129, in evaluate\n",
      "    outcomes = self._apply_function_expression(func, batch, **kwargs)\n",
      "               ^^^^^^^^^^^^^^^^^^^^^^^^^^^^^^^^^^^^^^^^^^^^^^^^^^^^^^\n",
      "  File \"/Users/krishnathan/anaconda3/lib/python3.11/site-packages/evadb/expression/function_expression.py\", line 188, in _apply_function_expression\n",
      "    return func_args.apply_function_expression(func)\n",
      "           ^^^^^^^^^^^^^^^^^^^^^^^^^^^^^^^^^^^^^^^^^\n",
      "  File \"/Users/krishnathan/anaconda3/lib/python3.11/site-packages/evadb/models/storage/batch.py\", line 174, in apply_function_expression\n",
      "    return Batch(expr(self._frames))\n",
      "           ^^^^^^^^^^^^^^^^^^^^^^^^^\n",
      "  File \"/Users/krishnathan/anaconda3/lib/python3.11/site-packages/evadb/models/storage/batch.py\", line 43, in __init__\n",
      "    raise ValueError(\n",
      "ValueError: Batch constructor not properly called.\n",
      "Expected pandas.DataFrame, got <class 'list'>\n",
      "2023-11-25 17:33:11 evadb.utils.logging_manager ERROR: Batch constructor not properly called.\n",
      "Expected pandas.DataFrame, got <class 'list'>\n",
      "Traceback (most recent call last):\n",
      "  File \"/Users/krishnathan/anaconda3/lib/python3.11/site-packages/evadb/executor/plan_executor.py\", line 175, in execute_plan\n",
      "    yield from output\n",
      "  File \"/Users/krishnathan/anaconda3/lib/python3.11/site-packages/evadb/executor/project_executor.py\", line 42, in exec\n",
      "    batch = apply_project(dummy_batch, self.target_list)\n",
      "            ^^^^^^^^^^^^^^^^^^^^^^^^^^^^^^^^^^^^^^^^^^^^\n",
      "  File \"/Users/krishnathan/anaconda3/lib/python3.11/site-packages/evadb/executor/executor_utils.py\", line 69, in apply_project\n",
      "    batches = [expr.evaluate(batch) for expr in project_list]\n",
      "              ^^^^^^^^^^^^^^^^^^^^^^^^^^^^^^^^^^^^^^^^^^^^^^^\n",
      "  File \"/Users/krishnathan/anaconda3/lib/python3.11/site-packages/evadb/executor/executor_utils.py\", line 69, in <listcomp>\n",
      "    batches = [expr.evaluate(batch) for expr in project_list]\n",
      "               ^^^^^^^^^^^^^^^^^^^^\n",
      "  File \"/Users/krishnathan/anaconda3/lib/python3.11/site-packages/evadb/expression/function_expression.py\", line 129, in evaluate\n",
      "    outcomes = self._apply_function_expression(func, batch, **kwargs)\n",
      "               ^^^^^^^^^^^^^^^^^^^^^^^^^^^^^^^^^^^^^^^^^^^^^^^^^^^^^^\n",
      "  File \"/Users/krishnathan/anaconda3/lib/python3.11/site-packages/evadb/expression/function_expression.py\", line 188, in _apply_function_expression\n",
      "    return func_args.apply_function_expression(func)\n",
      "           ^^^^^^^^^^^^^^^^^^^^^^^^^^^^^^^^^^^^^^^^^\n",
      "  File \"/Users/krishnathan/anaconda3/lib/python3.11/site-packages/evadb/models/storage/batch.py\", line 174, in apply_function_expression\n",
      "    return Batch(expr(self._frames))\n",
      "           ^^^^^^^^^^^^^^^^^^^^^^^^^\n",
      "  File \"/Users/krishnathan/anaconda3/lib/python3.11/site-packages/evadb/models/storage/batch.py\", line 43, in __init__\n",
      "    raise ValueError(\n",
      "ValueError: Batch constructor not properly called.\n",
      "Expected pandas.DataFrame, got <class 'list'>\n"
     ]
    },
    {
     "ename": "ExecutorError",
     "evalue": "Batch constructor not properly called.\nExpected pandas.DataFrame, got <class 'list'>",
     "output_type": "error",
     "traceback": [
      "\u001b[0;31m---------------------------------------------------------------------------\u001b[0m",
      "\u001b[0;31mValueError\u001b[0m                                Traceback (most recent call last)",
      "File \u001b[0;32m~/anaconda3/lib/python3.11/site-packages/evadb/executor/plan_executor.py:175\u001b[0m, in \u001b[0;36mPlanExecutor.execute_plan\u001b[0;34m(self, do_not_raise_exceptions, do_not_print_exceptions)\u001b[0m\n\u001b[1;32m    174\u001b[0m     \u001b[39mif\u001b[39;00m output \u001b[39mis\u001b[39;00m \u001b[39mnot\u001b[39;00m \u001b[39mNone\u001b[39;00m:\n\u001b[0;32m--> 175\u001b[0m         \u001b[39myield from\u001b[39;00m output\n\u001b[1;32m    176\u001b[0m \u001b[39mexcept\u001b[39;00m \u001b[39mException\u001b[39;00m \u001b[39mas\u001b[39;00m e:\n",
      "File \u001b[0;32m~/anaconda3/lib/python3.11/site-packages/evadb/executor/project_executor.py:42\u001b[0m, in \u001b[0;36mProjectExecutor.exec\u001b[0;34m(self, *args, **kwargs)\u001b[0m\n\u001b[1;32m     41\u001b[0m dummy_batch \u001b[39m=\u001b[39m Batch(pd\u001b[39m.\u001b[39mDataFrame([\u001b[39m0\u001b[39m]))\n\u001b[0;32m---> 42\u001b[0m batch \u001b[39m=\u001b[39m apply_project(dummy_batch, \u001b[39mself\u001b[39m\u001b[39m.\u001b[39mtarget_list)\n\u001b[1;32m     43\u001b[0m \u001b[39mif\u001b[39;00m \u001b[39mnot\u001b[39;00m batch\u001b[39m.\u001b[39mempty():\n",
      "File \u001b[0;32m~/anaconda3/lib/python3.11/site-packages/evadb/executor/executor_utils.py:69\u001b[0m, in \u001b[0;36mapply_project\u001b[0;34m(batch, project_list)\u001b[0m\n\u001b[1;32m     68\u001b[0m \u001b[39mif\u001b[39;00m \u001b[39mnot\u001b[39;00m batch\u001b[39m.\u001b[39mempty() \u001b[39mand\u001b[39;00m project_list:\n\u001b[0;32m---> 69\u001b[0m     batches \u001b[39m=\u001b[39m [expr\u001b[39m.\u001b[39mevaluate(batch) \u001b[39mfor\u001b[39;00m expr \u001b[39min\u001b[39;00m project_list]\n\u001b[1;32m     70\u001b[0m     batch \u001b[39m=\u001b[39m Batch\u001b[39m.\u001b[39mmerge_column_wise(batches)\n",
      "File \u001b[0;32m~/anaconda3/lib/python3.11/site-packages/evadb/executor/executor_utils.py:69\u001b[0m, in \u001b[0;36m<listcomp>\u001b[0;34m(.0)\u001b[0m\n\u001b[1;32m     68\u001b[0m \u001b[39mif\u001b[39;00m \u001b[39mnot\u001b[39;00m batch\u001b[39m.\u001b[39mempty() \u001b[39mand\u001b[39;00m project_list:\n\u001b[0;32m---> 69\u001b[0m     batches \u001b[39m=\u001b[39m [expr\u001b[39m.\u001b[39mevaluate(batch) \u001b[39mfor\u001b[39;00m expr \u001b[39min\u001b[39;00m project_list]\n\u001b[1;32m     70\u001b[0m     batch \u001b[39m=\u001b[39m Batch\u001b[39m.\u001b[39mmerge_column_wise(batches)\n",
      "File \u001b[0;32m~/anaconda3/lib/python3.11/site-packages/evadb/expression/function_expression.py:129\u001b[0m, in \u001b[0;36mFunctionExpression.evaluate\u001b[0;34m(self, batch, **kwargs)\u001b[0m\n\u001b[1;32m    127\u001b[0m \u001b[39mwith\u001b[39;00m \u001b[39mself\u001b[39m\u001b[39m.\u001b[39m_stats\u001b[39m.\u001b[39mtimer:\n\u001b[1;32m    128\u001b[0m     \u001b[39m# apply the function and project the required columns\u001b[39;00m\n\u001b[0;32m--> 129\u001b[0m     outcomes \u001b[39m=\u001b[39m \u001b[39mself\u001b[39m\u001b[39m.\u001b[39m_apply_function_expression(func, batch, \u001b[39m*\u001b[39m\u001b[39m*\u001b[39mkwargs)\n\u001b[1;32m    131\u001b[0m     \u001b[39m# process outcomes only if output is not empty\u001b[39;00m\n",
      "File \u001b[0;32m~/anaconda3/lib/python3.11/site-packages/evadb/expression/function_expression.py:188\u001b[0m, in \u001b[0;36mFunctionExpression._apply_function_expression\u001b[0;34m(self, func, batch, **kwargs)\u001b[0m\n\u001b[1;32m    187\u001b[0m \u001b[39mif\u001b[39;00m \u001b[39mnot\u001b[39;00m \u001b[39mself\u001b[39m\u001b[39m.\u001b[39m_cache:\n\u001b[0;32m--> 188\u001b[0m     \u001b[39mreturn\u001b[39;00m func_args\u001b[39m.\u001b[39mapply_function_expression(func)\n\u001b[1;32m    190\u001b[0m output_cols \u001b[39m=\u001b[39m [obj\u001b[39m.\u001b[39mname \u001b[39mfor\u001b[39;00m obj \u001b[39min\u001b[39;00m \u001b[39mself\u001b[39m\u001b[39m.\u001b[39mfunction_obj\u001b[39m.\u001b[39moutputs]\n",
      "File \u001b[0;32m~/anaconda3/lib/python3.11/site-packages/evadb/models/storage/batch.py:174\u001b[0m, in \u001b[0;36mBatch.apply_function_expression\u001b[0;34m(self, expr)\u001b[0m\n\u001b[1;32m    173\u001b[0m \u001b[39mself\u001b[39m\u001b[39m.\u001b[39mdrop_column_alias()\n\u001b[0;32m--> 174\u001b[0m \u001b[39mreturn\u001b[39;00m Batch(expr(\u001b[39mself\u001b[39m\u001b[39m.\u001b[39m_frames))\n",
      "File \u001b[0;32m~/anaconda3/lib/python3.11/site-packages/evadb/models/storage/batch.py:43\u001b[0m, in \u001b[0;36mBatch.__init__\u001b[0;34m(self, frames)\u001b[0m\n\u001b[1;32m     42\u001b[0m \u001b[39mif\u001b[39;00m \u001b[39mnot\u001b[39;00m \u001b[39misinstance\u001b[39m(\u001b[39mself\u001b[39m\u001b[39m.\u001b[39m_frames, pd\u001b[39m.\u001b[39mDataFrame):\n\u001b[0;32m---> 43\u001b[0m     \u001b[39mraise\u001b[39;00m \u001b[39mValueError\u001b[39;00m(\n\u001b[1;32m     44\u001b[0m         \u001b[39m\"\u001b[39m\u001b[39mBatch constructor not properly called.\u001b[39m\u001b[39m\\n\u001b[39;00m\u001b[39m\"\u001b[39m\n\u001b[1;32m     45\u001b[0m         \u001b[39mf\u001b[39m\u001b[39m\"\u001b[39m\u001b[39mExpected pandas.DataFrame, got \u001b[39m\u001b[39m{\u001b[39;00m\u001b[39mtype\u001b[39m(\u001b[39mself\u001b[39m\u001b[39m.\u001b[39m_frames)\u001b[39m}\u001b[39;00m\u001b[39m\"\u001b[39m\n\u001b[1;32m     46\u001b[0m     )\n",
      "\u001b[0;31mValueError\u001b[0m: Batch constructor not properly called.\nExpected pandas.DataFrame, got <class 'list'>",
      "\nDuring handling of the above exception, another exception occurred:\n",
      "\u001b[0;31mExecutorError\u001b[0m                             Traceback (most recent call last)",
      "\u001b[1;32m/Users/krishnathan/Dropbox (GaTech)/Documents/College/Fall 23/CS 6422/Project/evadb-project-2/autolabel_evadb.ipynb Cell 21\u001b[0m line \u001b[0;36m2\n\u001b[1;32m      <a href='vscode-notebook-cell:/Users/krishnathan/Dropbox%20%28GaTech%29/Documents/College/Fall%2023/CS%206422/Project/evadb-project-2/autolabel_evadb.ipynb#X26sZmlsZQ%3D%3D?line=0'>1</a>\u001b[0m query\u001b[39m=\u001b[39m \u001b[39mf\u001b[39m\u001b[39m\"\"\"\u001b[39m\u001b[39mSELECT RefuelAutolabel(\u001b[39m\u001b[39m\"\u001b[39m\u001b[39mexplain\u001b[39m\u001b[39m\"\u001b[39m\u001b[39m, \u001b[39m\u001b[39m'\u001b[39m\u001b[39mconfig_banking.json\u001b[39m\u001b[39m'\u001b[39m\u001b[39m, \u001b[39m\u001b[39m'\u001b[39m\u001b[39mseed_banking.csv\u001b[39m\u001b[39m'\u001b[39m\u001b[39m);\u001b[39m\u001b[39m\"\"\"\u001b[39m\n\u001b[0;32m----> <a href='vscode-notebook-cell:/Users/krishnathan/Dropbox%20%28GaTech%29/Documents/College/Fall%2023/CS%206422/Project/evadb-project-2/autolabel_evadb.ipynb#X26sZmlsZQ%3D%3D?line=1'>2</a>\u001b[0m result \u001b[39m=\u001b[39m cursor\u001b[39m.\u001b[39mquery(query)\u001b[39m.\u001b[39mexecute()\n",
      "File \u001b[0;32m~/anaconda3/lib/python3.11/site-packages/evadb/interfaces/relational/relation.py:141\u001b[0m, in \u001b[0;36mEvaDBQuery.execute\u001b[0;34m(self, drop_alias)\u001b[0m\n\u001b[1;32m    127\u001b[0m \u001b[39mdef\u001b[39;00m \u001b[39mexecute\u001b[39m(\u001b[39mself\u001b[39m, drop_alias: \u001b[39mbool\u001b[39m \u001b[39m=\u001b[39m \u001b[39mTrue\u001b[39;00m) \u001b[39m-\u001b[39m\u001b[39m>\u001b[39m Batch:\n\u001b[1;32m    128\u001b[0m \u001b[39m    \u001b[39m\u001b[39m\"\"\"Transform the relation into a result set\u001b[39;00m\n\u001b[1;32m    129\u001b[0m \n\u001b[1;32m    130\u001b[0m \u001b[39m    Args:\u001b[39;00m\n\u001b[0;32m   (...)\u001b[0m\n\u001b[1;32m    139\u001b[0m \u001b[39m        >>> batch = cursor.query(\"SELECT * FROM MyTable;\").execute()\u001b[39;00m\n\u001b[1;32m    140\u001b[0m \u001b[39m    \"\"\"\u001b[39;00m\n\u001b[0;32m--> 141\u001b[0m     result \u001b[39m=\u001b[39m execute_statement(\u001b[39mself\u001b[39m\u001b[39m.\u001b[39m_evadb, \u001b[39mself\u001b[39m\u001b[39m.\u001b[39m_query_node\u001b[39m.\u001b[39mcopy())\n\u001b[1;32m    142\u001b[0m     \u001b[39m# TODO: this is a dirty implementation. Ideally this should be done in the final projection.\u001b[39;00m\n\u001b[1;32m    143\u001b[0m     \u001b[39mif\u001b[39;00m drop_alias:\n",
      "File \u001b[0;32m~/anaconda3/lib/python3.11/site-packages/evadb/server/command_handler.py:53\u001b[0m, in \u001b[0;36mexecute_statement\u001b[0;34m(evadb, stmt, do_not_raise_exceptions, do_not_print_exceptions, **kwargs)\u001b[0m\n\u001b[1;32m     49\u001b[0m output \u001b[39m=\u001b[39m PlanExecutor(evadb, physical_plan)\u001b[39m.\u001b[39mexecute_plan(\n\u001b[1;32m     50\u001b[0m     do_not_raise_exceptions, do_not_print_exceptions\n\u001b[1;32m     51\u001b[0m )\n\u001b[1;32m     52\u001b[0m \u001b[39mif\u001b[39;00m output:\n\u001b[0;32m---> 53\u001b[0m     batch_list \u001b[39m=\u001b[39m \u001b[39mlist\u001b[39m(output)\n\u001b[1;32m     54\u001b[0m     \u001b[39mreturn\u001b[39;00m Batch\u001b[39m.\u001b[39mconcat(batch_list, copy\u001b[39m=\u001b[39m\u001b[39mFalse\u001b[39;00m)\n",
      "File \u001b[0;32m~/anaconda3/lib/python3.11/site-packages/evadb/executor/plan_executor.py:180\u001b[0m, in \u001b[0;36mPlanExecutor.execute_plan\u001b[0;34m(self, do_not_raise_exceptions, do_not_print_exceptions)\u001b[0m\n\u001b[1;32m    178\u001b[0m \u001b[39mif\u001b[39;00m do_not_print_exceptions \u001b[39mis\u001b[39;00m \u001b[39mFalse\u001b[39;00m:\n\u001b[1;32m    179\u001b[0m     logger\u001b[39m.\u001b[39mexception(\u001b[39mstr\u001b[39m(e))\n\u001b[0;32m--> 180\u001b[0m \u001b[39mraise\u001b[39;00m ExecutorError(e)\n",
      "\u001b[0;31mExecutorError\u001b[0m: Batch constructor not properly called.\nExpected pandas.DataFrame, got <class 'list'>"
     ]
    }
   ],
   "source": [
    "query= f\"\"\"SELECT RefuelAutolabel(\"explain\", 'config_banking.json', 'seed_banking.csv');\"\"\"\n",
    "result = cursor.query(query).execute()"
   ]
  },
  {
   "cell_type": "markdown",
   "metadata": {},
   "source": [
    "### 2.5 Bringing the labeled dataset into EvaDB"
   ]
  },
  {
   "cell_type": "markdown",
   "metadata": {},
   "source": [
    "Here, I'm pulling the labeled banking dataset into EvaDB. I had to rename it to seed_banking.csv and test_banking.csv so that I could run the Walmart example with only labelling 10 examples. I'm not sure why the dataset currently being labeled has to be named seed.csv and test.csv. Unfortunately, Refuel's API does not allow me to specify the dataset names in a more flexible way. This could be something to investigate further if we wish to work with several datasets"
   ]
  },
  {
   "cell_type": "code",
   "execution_count": 75,
   "metadata": {},
   "outputs": [
    {
     "name": "stdout",
     "output_type": "stream",
     "text": [
      "      _row_id  \\\n",
      "0           1   \n",
      "1           2   \n",
      "2           3   \n",
      "3           4   \n",
      "4           5   \n",
      "...       ...   \n",
      "1993     1994   \n",
      "1994     1995   \n",
      "1995     1996   \n",
      "1996     1997   \n",
      "1997     1998   \n",
      "\n",
      "                                                                                                  example  \\\n",
      "0                                                                              I want to close my account   \n",
      "1     It seems I was overcharged when I used an ATM while on vacation. If I knew about your fees in ad...   \n",
      "2                                I have a direct debit transaction I have not set up, but would like to .   \n",
      "3                                                         How much does it cost in fees to use your card?   \n",
      "4                                                                             There is an extra $1 charge   \n",
      "...                                                                                                   ...   \n",
      "1993                                                                      Where can my card be delivered?   \n",
      "1994  I keep checking my bank statements but I don't see a refund that I've requested from a seller. C...   \n",
      "1995                                                 I'm pretty sure my top up failed. How do I fix this?   \n",
      "1996                                                               How do I deposit cash into my account?   \n",
      "1997                                                         I think my statement has a fraudulent charge   \n",
      "\n",
      "                                        label explanation  \n",
      "0                           terminate_account        None  \n",
      "1     wrong_exchange_rate_for_cash_withdrawal        None  \n",
      "2         direct_debit_payment_not_recognised        None  \n",
      "3                         order_physical_card        None  \n",
      "4                   extra_charge_on_statement        None  \n",
      "...                                       ...         ...  \n",
      "1993                      order_physical_card        None  \n",
      "1994                    Refund_not_showing_up        None  \n",
      "1995                            top_up_failed        None  \n",
      "1996                 top_up_by_cash_or_cheque        None  \n",
      "1997              card_payment_not_recognised        None  \n",
      "\n",
      "[1998 rows x 4 columns]\n"
     ]
    }
   ],
   "source": [
    "drop_query = \"DROP TABLE IF EXISTS MyCSV\"\n",
    "cursor.query(drop_query).execute()\n",
    "\n",
    "query1 = \"\"\"CREATE TABLE IF NOT EXISTS MyCSV (\n",
    "                example TEXT(1000),\n",
    "                label TEXT(100),\n",
    "                explanation TEXT(1000)\n",
    "            );\"\"\"\n",
    "\n",
    "query2 = \"LOAD CSV 'test_banking.csv' INTO MyCSV;\"\n",
    "query3 = \"SELECT * FROM MyCSV;\"\n",
    "\n",
    "result = cursor.query(query1).execute()\n",
    "result = cursor.query(query2).execute()\n",
    "result = cursor.query(query3).execute()\n",
    "\n",
    "print(result)"
   ]
  }
 ],
 "metadata": {
  "kernelspec": {
   "display_name": "base",
   "language": "python",
   "name": "python3"
  },
  "language_info": {
   "codemirror_mode": {
    "name": "ipython",
    "version": 3
   },
   "file_extension": ".py",
   "mimetype": "text/x-python",
   "name": "python",
   "nbconvert_exporter": "python",
   "pygments_lexer": "ipython3",
   "version": "3.11.5"
  }
 },
 "nbformat": 4,
 "nbformat_minor": 2
}
